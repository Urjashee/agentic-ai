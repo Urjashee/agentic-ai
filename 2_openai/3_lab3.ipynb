{
 "cells": [
  {
   "cell_type": "code",
   "id": "initial_id",
   "metadata": {
    "collapsed": true,
    "ExecuteTime": {
     "end_time": "2025-08-23T09:12:35.490797Z",
     "start_time": "2025-08-23T09:12:30.375917Z"
    }
   },
   "source": [
    "from dotenv import load_dotenv\n",
    "from openai import AsyncOpenAI\n",
    "from agents import Agent, Runner, trace, function_tool, OpenAIChatCompletionsModel, input_guardrail, GuardrailFunctionOutput\n",
    "from typing import Dict\n",
    "import sendgrid\n",
    "import os\n",
    "from sendgrid.helpers.mail import Mail, Email, To, Content\n",
    "from pydantic import BaseModel"
   ],
   "outputs": [],
   "execution_count": 1
  },
  {
   "metadata": {
    "ExecuteTime": {
     "end_time": "2025-08-23T09:12:37.511436Z",
     "start_time": "2025-08-23T09:12:37.488384Z"
    }
   },
   "cell_type": "code",
   "source": "load_dotenv(override=True)",
   "id": "13c33ec6b22dc8b8",
   "outputs": [
    {
     "data": {
      "text/plain": [
       "True"
      ]
     },
     "execution_count": 2,
     "metadata": {},
     "output_type": "execute_result"
    }
   ],
   "execution_count": 2
  },
  {
   "metadata": {
    "ExecuteTime": {
     "end_time": "2025-08-23T09:12:38.230451Z",
     "start_time": "2025-08-23T09:12:38.215996Z"
    }
   },
   "cell_type": "code",
   "source": [
    "openai_api_key = os.getenv('OPENAI_API_KEY')\n",
    "google_api_key = os.getenv('GOOGLE_API_KEY')\n",
    "deepseek_api_key = os.getenv('DEEPSEEK_API_KEY')\n",
    "groq_api_key = os.getenv('GROQ_API_KEY')\n",
    "\n",
    "if openai_api_key:\n",
    "    print(f\"OpenAI API Key exists and begins {openai_api_key[:8]}\")\n",
    "else:\n",
    "    print(\"OpenAI API Key not set\")\n",
    "\n",
    "if google_api_key:\n",
    "    print(f\"Google API Key exists and begins {google_api_key[:2]}\")\n",
    "else:\n",
    "    print(\"Google API Key not set (and this is optional)\")\n",
    "\n",
    "if deepseek_api_key:\n",
    "    print(f\"DeepSeek API Key exists and begins {deepseek_api_key[:3]}\")\n",
    "else:\n",
    "    print(\"DeepSeek API Key not set (and this is optional)\")\n",
    "\n",
    "if groq_api_key:\n",
    "    print(f\"Groq API Key exists and begins {groq_api_key[:4]}\")\n",
    "else:\n",
    "    print(\"Groq API Key not set (and this is optional)\")"
   ],
   "id": "20d57a3521e2a01b",
   "outputs": [
    {
     "name": "stdout",
     "output_type": "stream",
     "text": [
      "OpenAI API Key exists and begins sk-proj-\n",
      "Google API Key exists and begins AI\n",
      "DeepSeek API Key exists and begins oll\n",
      "Groq API Key exists and begins gsk_\n"
     ]
    }
   ],
   "execution_count": 3
  },
  {
   "metadata": {
    "ExecuteTime": {
     "end_time": "2025-08-23T09:12:39.187928Z",
     "start_time": "2025-08-23T09:12:39.179654Z"
    }
   },
   "cell_type": "code",
   "source": [
    "instructions1 = \"You are a sales agent working for ComplAI, \\\n",
    "a company that provides a SaaS tool for ensuring SOC2 compliance and preparing for audits, powered by AI. \\\n",
    "You write professional, serious cold emails.\"\n",
    "\n",
    "instructions2 = \"You are a humorous, engaging sales agent working for ComplAI, \\\n",
    "a company that provides a SaaS tool for ensuring SOC2 compliance and preparing for audits, powered by AI. \\\n",
    "You write witty, engaging cold emails that are likely to get a response.\"\n",
    "\n",
    "instructions3 = \"You are a busy sales agent working for ComplAI, \\\n",
    "a company that provides a SaaS tool for ensuring SOC2 compliance and preparing for audits, powered by AI. \\\n",
    "You write concise, to the point cold emails.\""
   ],
   "id": "cc8a5b8b3fecdb6c",
   "outputs": [],
   "execution_count": 4
  },
  {
   "metadata": {
    "ExecuteTime": {
     "end_time": "2025-08-23T09:12:40.934702Z",
     "start_time": "2025-08-23T09:12:40.926217Z"
    }
   },
   "cell_type": "code",
   "source": [
    "GEMINI_BASE_URL = \"https://generativelanguage.googleapis.com/v1beta/openai/\"\n",
    "DEEPSEEK_BASE_URL = \"http://localhost:11434/v1\"\n",
    "GROQ_BASE_URL = \"https://api.groq.com/openai/v1\""
   ],
   "id": "d1c81e52cc68f54d",
   "outputs": [],
   "execution_count": 5
  },
  {
   "metadata": {
    "ExecuteTime": {
     "end_time": "2025-08-23T09:12:43.335110Z",
     "start_time": "2025-08-23T09:12:42.142980Z"
    }
   },
   "cell_type": "code",
   "source": [
    "\n",
    "deepseek_client = AsyncOpenAI(base_url=DEEPSEEK_BASE_URL, api_key=deepseek_api_key)\n",
    "gemini_client = AsyncOpenAI(base_url=GEMINI_BASE_URL, api_key=google_api_key)\n",
    "groq_client = AsyncOpenAI(base_url=GROQ_BASE_URL, api_key=groq_api_key)\n",
    "\n",
    "deepseek_model = OpenAIChatCompletionsModel(model=\"deepseek-r1:7b\", openai_client=deepseek_client)\n",
    "gemini_model = OpenAIChatCompletionsModel(model=\"gemini-2.0-flash\", openai_client=gemini_client)\n",
    "llama3_3_model = OpenAIChatCompletionsModel(model=\"llama-3.3-70b-versatile\", openai_client=groq_client)"
   ],
   "id": "1ba7e46e2667ced0",
   "outputs": [],
   "execution_count": 6
  },
  {
   "metadata": {
    "ExecuteTime": {
     "end_time": "2025-08-23T09:12:47.387253Z",
     "start_time": "2025-08-23T09:12:47.379656Z"
    }
   },
   "cell_type": "code",
   "source": [
    "sales_agent1 = Agent(name=\"DeepSeek Sales Agent\", instructions=instructions1, model=deepseek_model)\n",
    "sales_agent2 =  Agent(name=\"Gemini Sales Agent\", instructions=instructions2, model=gemini_model)\n",
    "sales_agent3  = Agent(name=\"Llama3.3 Sales Agent\",instructions=instructions3,model=llama3_3_model)"
   ],
   "id": "a2b1b5724417bcab",
   "outputs": [],
   "execution_count": 7
  },
  {
   "metadata": {
    "ExecuteTime": {
     "end_time": "2025-08-23T09:12:50.787404Z",
     "start_time": "2025-08-23T09:12:50.770600Z"
    }
   },
   "cell_type": "code",
   "source": [
    "description = \"Write a cold sales email\"\n",
    "\n",
    "tool1 = sales_agent1.as_tool(tool_name=\"sales_agent1\", tool_description=description)\n",
    "tool2 = sales_agent2.as_tool(tool_name=\"sales_agent2\", tool_description=description)\n",
    "tool3 = sales_agent3.as_tool(tool_name=\"sales_agent3\", tool_description=description)"
   ],
   "id": "c3c56dc14789e12f",
   "outputs": [],
   "execution_count": 8
  },
  {
   "metadata": {
    "ExecuteTime": {
     "end_time": "2025-08-23T09:12:54.206124Z",
     "start_time": "2025-08-23T09:12:54.193097Z"
    }
   },
   "cell_type": "code",
   "source": [
    "@function_tool\n",
    "def send_html_email(subject: str, html_body: str) -> Dict[str, str]:\n",
    "    \"\"\" Send out an email with the given subject and HTML body to all sales prospects \"\"\"\n",
    "    sg = sendgrid.SendGridAPIClient(api_key=os.environ.get('SENDGRID_API_KEY'))\n",
    "    from_email = Email(\"info@nesoftech.com\")  # Change to your verified sender\n",
    "    to_email = To(\"urjashee09@gmail.com\")  # Change to your recipient\n",
    "    content = Content(\"text/html\", html_body)\n",
    "    mail = Mail(from_email, to_email, subject, content).get()\n",
    "    sg.client.mail.send.post(request_body=mail)\n",
    "    return {\"status\": \"success\"}"
   ],
   "id": "b890c4b2e943201a",
   "outputs": [],
   "execution_count": 9
  },
  {
   "metadata": {
    "ExecuteTime": {
     "end_time": "2025-08-23T09:12:55.111182Z",
     "start_time": "2025-08-23T09:12:55.096785Z"
    }
   },
   "cell_type": "code",
   "source": [
    "subject_instructions = \"You can write a subject for a cold sales email. \\\n",
    "You are given a message and you need to write a subject for an email that is likely to get a response.\"\n",
    "\n",
    "html_instructions = \"You can convert a text email body to an HTML email body. \\\n",
    "You are given a text email body which might have some markdown \\\n",
    "and you need to convert it to an HTML email body with simple, clear, compelling layout and design.\"\n",
    "\n",
    "subject_writer = Agent(name=\"Email subject writer\", instructions=subject_instructions, model=\"gpt-4o-mini\")\n",
    "subject_tool = subject_writer.as_tool(tool_name=\"subject_writer\", tool_description=\"Write a subject for a cold sales email\")\n",
    "\n",
    "html_converter = Agent(name=\"HTML email body converter\", instructions=html_instructions, model=\"gpt-4o-mini\")\n",
    "html_tool = html_converter.as_tool(tool_name=\"html_converter\",tool_description=\"Convert a text email body to an HTML email body\")"
   ],
   "id": "b95d6d3f0e9b6a9d",
   "outputs": [],
   "execution_count": 10
  },
  {
   "metadata": {
    "ExecuteTime": {
     "end_time": "2025-08-23T09:12:56.203245Z",
     "start_time": "2025-08-23T09:12:56.194410Z"
    }
   },
   "cell_type": "code",
   "source": "email_tools = [subject_tool, html_tool, send_html_email]",
   "id": "6460c9e25f1f28a",
   "outputs": [],
   "execution_count": 11
  },
  {
   "metadata": {
    "ExecuteTime": {
     "end_time": "2025-08-23T09:12:57.448426Z",
     "start_time": "2025-08-23T09:12:57.439733Z"
    }
   },
   "cell_type": "code",
   "source": [
    "instructions =\"You are an email formatter and sender. You receive the body of an email to be sent. \\\n",
    "You first use the subject_writer tool to write a subject for the email, then use the html_converter tool to convert the body to HTML. \\\n",
    "Finally, you use the send_html_email tool to send the email with the subject and HTML body.\"\n",
    "\n",
    "\n",
    "emailer_agent = Agent(\n",
    "    name=\"Email Manager\",\n",
    "    instructions=instructions,\n",
    "    tools=email_tools,\n",
    "    model=\"gpt-4o-mini\",\n",
    "    handoff_description=\"Convert an email to HTML and send it\")"
   ],
   "id": "d6b78732048db47a",
   "outputs": [],
   "execution_count": 12
  },
  {
   "metadata": {
    "ExecuteTime": {
     "end_time": "2025-08-23T09:12:58.598083Z",
     "start_time": "2025-08-23T09:12:58.589679Z"
    }
   },
   "cell_type": "code",
   "source": [
    "tools = [tool1, tool2, tool3]\n",
    "handoffs = [emailer_agent]"
   ],
   "id": "807f04f4293bf6db",
   "outputs": [],
   "execution_count": 13
  },
  {
   "metadata": {
    "ExecuteTime": {
     "end_time": "2025-08-23T09:19:57.744191Z",
     "start_time": "2025-08-23T09:15:46.281218Z"
    }
   },
   "cell_type": "code",
   "source": [
    "sales_manager_instructions = \"\"\"\n",
    "You are a Sales Manager at ComplAI. Your goal is to find the single best cold sales email using the sales_agent tools.\n",
    "\n",
    "Follow these steps carefully:\n",
    "1. Generate Drafts: Use all three sales_agent tools to generate three different email drafts. Do not proceed until all three drafts are ready.\n",
    "\n",
    "2. Evaluate and Select: Review the drafts and choose the single best email using your judgment of which one is most effective.\n",
    "You can use the tools multiple times if you're not satisfied with the results from the first try.\n",
    "\n",
    "3. Handoff for Sending: Pass ONLY the winning email draft to the 'Email Manager' agent. The Email Manager will take care of formatting and sending.\n",
    "\n",
    "Crucial Rules:\n",
    "- You must use the sales agent tools to generate the drafts — do not write them yourself.\n",
    "- You must hand off exactly ONE email to the Email Manager — never more than one.\n",
    "\"\"\"\n",
    "\n",
    "\n",
    "sales_manager = Agent(\n",
    "    name=\"Sales Manager\",\n",
    "    instructions=sales_manager_instructions,\n",
    "    tools=tools,\n",
    "    handoffs=handoffs,\n",
    "    model=\"gpt-4o-mini\")\n",
    "\n",
    "message = \"Send out a cold sales email addressed to Dear CEO from Alice\"\n",
    "\n",
    "with trace(\"Automated SDR\"):\n",
    "    result = await Runner.run(sales_manager, message)"
   ],
   "id": "a9e12c7a9c45c576",
   "outputs": [
    {
     "ename": "CancelledError",
     "evalue": "",
     "output_type": "error",
     "traceback": [
      "\u001B[31m---------------------------------------------------------------------------\u001B[39m",
      "\u001B[31mCancelledError\u001B[39m                            Traceback (most recent call last)",
      "\u001B[36mCell\u001B[39m\u001B[36m \u001B[39m\u001B[32mIn[15]\u001B[39m\u001B[32m, line 28\u001B[39m\n\u001B[32m     25\u001B[39m message = \u001B[33m\"\u001B[39m\u001B[33mSend out a cold sales email addressed to Dear CEO from Alice\u001B[39m\u001B[33m\"\u001B[39m\n\u001B[32m     27\u001B[39m \u001B[38;5;28;01mwith\u001B[39;00m trace(\u001B[33m\"\u001B[39m\u001B[33mAutomated SDR\u001B[39m\u001B[33m\"\u001B[39m):\n\u001B[32m---> \u001B[39m\u001B[32m28\u001B[39m     result = \u001B[38;5;28;01mawait\u001B[39;00m Runner.run(sales_manager, message)\n",
      "\u001B[36mFile \u001B[39m\u001B[32mE:\\agentic_ai\\projects\\agents_blank\\.venv\\Lib\\site-packages\\agents\\run.py:237\u001B[39m, in \u001B[36mRunner.run\u001B[39m\u001B[34m(cls, starting_agent, input, context, max_turns, hooks, run_config, previous_response_id, session)\u001B[39m\n\u001B[32m    210\u001B[39m \u001B[38;5;250m\u001B[39m\u001B[33;03m\"\"\"Run a workflow starting at the given agent. The agent will run in a loop until a final\u001B[39;00m\n\u001B[32m    211\u001B[39m \u001B[33;03moutput is generated. The loop runs like so:\u001B[39;00m\n\u001B[32m    212\u001B[39m \u001B[33;03m1. The agent is invoked with the given input.\u001B[39;00m\n\u001B[32m   (...)\u001B[39m\u001B[32m    234\u001B[39m \u001B[33;03m    agent. Agents may perform handoffs, so we don't know the specific type of the output.\u001B[39;00m\n\u001B[32m    235\u001B[39m \u001B[33;03m\"\"\"\u001B[39;00m\n\u001B[32m    236\u001B[39m runner = DEFAULT_AGENT_RUNNER\n\u001B[32m--> \u001B[39m\u001B[32m237\u001B[39m \u001B[38;5;28;01mreturn\u001B[39;00m \u001B[38;5;28;01mawait\u001B[39;00m runner.run(\n\u001B[32m    238\u001B[39m     starting_agent,\n\u001B[32m    239\u001B[39m     \u001B[38;5;28minput\u001B[39m,\n\u001B[32m    240\u001B[39m     context=context,\n\u001B[32m    241\u001B[39m     max_turns=max_turns,\n\u001B[32m    242\u001B[39m     hooks=hooks,\n\u001B[32m    243\u001B[39m     run_config=run_config,\n\u001B[32m    244\u001B[39m     previous_response_id=previous_response_id,\n\u001B[32m    245\u001B[39m     session=session,\n\u001B[32m    246\u001B[39m )\n",
      "\u001B[36mFile \u001B[39m\u001B[32mE:\\agentic_ai\\projects\\agents_blank\\.venv\\Lib\\site-packages\\agents\\run.py:465\u001B[39m, in \u001B[36mAgentRunner.run\u001B[39m\u001B[34m(self, starting_agent, input, **kwargs)\u001B[39m\n\u001B[32m    443\u001B[39m     input_guardrail_results, turn_result = \u001B[38;5;28;01mawait\u001B[39;00m asyncio.gather(\n\u001B[32m    444\u001B[39m         \u001B[38;5;28mself\u001B[39m._run_input_guardrails(\n\u001B[32m    445\u001B[39m             starting_agent,\n\u001B[32m   (...)\u001B[39m\u001B[32m    462\u001B[39m         ),\n\u001B[32m    463\u001B[39m     )\n\u001B[32m    464\u001B[39m \u001B[38;5;28;01melse\u001B[39;00m:\n\u001B[32m--> \u001B[39m\u001B[32m465\u001B[39m     turn_result = \u001B[38;5;28;01mawait\u001B[39;00m \u001B[38;5;28mself\u001B[39m._run_single_turn(\n\u001B[32m    466\u001B[39m         agent=current_agent,\n\u001B[32m    467\u001B[39m         all_tools=all_tools,\n\u001B[32m    468\u001B[39m         original_input=original_input,\n\u001B[32m    469\u001B[39m         generated_items=generated_items,\n\u001B[32m    470\u001B[39m         hooks=hooks,\n\u001B[32m    471\u001B[39m         context_wrapper=context_wrapper,\n\u001B[32m    472\u001B[39m         run_config=run_config,\n\u001B[32m    473\u001B[39m         should_run_agent_start_hooks=should_run_agent_start_hooks,\n\u001B[32m    474\u001B[39m         tool_use_tracker=tool_use_tracker,\n\u001B[32m    475\u001B[39m         previous_response_id=previous_response_id,\n\u001B[32m    476\u001B[39m     )\n\u001B[32m    477\u001B[39m should_run_agent_start_hooks = \u001B[38;5;28;01mFalse\u001B[39;00m\n\u001B[32m    479\u001B[39m model_responses.append(turn_result.model_response)\n",
      "\u001B[36mFile \u001B[39m\u001B[32mE:\\agentic_ai\\projects\\agents_blank\\.venv\\Lib\\site-packages\\agents\\run.py:1050\u001B[39m, in \u001B[36mAgentRunner._run_single_turn\u001B[39m\u001B[34m(cls, agent, all_tools, original_input, generated_items, hooks, context_wrapper, run_config, should_run_agent_start_hooks, tool_use_tracker, previous_response_id)\u001B[39m\n\u001B[32m   1034\u001B[39m \u001B[38;5;28minput\u001B[39m.extend([generated_item.to_input_item() \u001B[38;5;28;01mfor\u001B[39;00m generated_item \u001B[38;5;129;01min\u001B[39;00m generated_items])\n\u001B[32m   1036\u001B[39m new_response = \u001B[38;5;28;01mawait\u001B[39;00m \u001B[38;5;28mcls\u001B[39m._get_new_response(\n\u001B[32m   1037\u001B[39m     agent,\n\u001B[32m   1038\u001B[39m     system_prompt,\n\u001B[32m   (...)\u001B[39m\u001B[32m   1047\u001B[39m     prompt_config,\n\u001B[32m   1048\u001B[39m )\n\u001B[32m-> \u001B[39m\u001B[32m1050\u001B[39m \u001B[38;5;28;01mreturn\u001B[39;00m \u001B[38;5;28;01mawait\u001B[39;00m \u001B[38;5;28mcls\u001B[39m._get_single_step_result_from_response(\n\u001B[32m   1051\u001B[39m     agent=agent,\n\u001B[32m   1052\u001B[39m     original_input=original_input,\n\u001B[32m   1053\u001B[39m     pre_step_items=generated_items,\n\u001B[32m   1054\u001B[39m     new_response=new_response,\n\u001B[32m   1055\u001B[39m     output_schema=output_schema,\n\u001B[32m   1056\u001B[39m     all_tools=all_tools,\n\u001B[32m   1057\u001B[39m     handoffs=handoffs,\n\u001B[32m   1058\u001B[39m     hooks=hooks,\n\u001B[32m   1059\u001B[39m     context_wrapper=context_wrapper,\n\u001B[32m   1060\u001B[39m     run_config=run_config,\n\u001B[32m   1061\u001B[39m     tool_use_tracker=tool_use_tracker,\n\u001B[32m   1062\u001B[39m )\n",
      "\u001B[36mFile \u001B[39m\u001B[32mE:\\agentic_ai\\projects\\agents_blank\\.venv\\Lib\\site-packages\\agents\\run.py:1090\u001B[39m, in \u001B[36mAgentRunner._get_single_step_result_from_response\u001B[39m\u001B[34m(cls, agent, all_tools, original_input, pre_step_items, new_response, output_schema, handoffs, hooks, context_wrapper, run_config, tool_use_tracker)\u001B[39m\n\u001B[32m   1080\u001B[39m processed_response = RunImpl.process_model_response(\n\u001B[32m   1081\u001B[39m     agent=agent,\n\u001B[32m   1082\u001B[39m     all_tools=all_tools,\n\u001B[32m   (...)\u001B[39m\u001B[32m   1085\u001B[39m     handoffs=handoffs,\n\u001B[32m   1086\u001B[39m )\n\u001B[32m   1088\u001B[39m tool_use_tracker.add_tool_use(agent, processed_response.tools_used)\n\u001B[32m-> \u001B[39m\u001B[32m1090\u001B[39m \u001B[38;5;28;01mreturn\u001B[39;00m \u001B[38;5;28;01mawait\u001B[39;00m RunImpl.execute_tools_and_side_effects(\n\u001B[32m   1091\u001B[39m     agent=agent,\n\u001B[32m   1092\u001B[39m     original_input=original_input,\n\u001B[32m   1093\u001B[39m     pre_step_items=pre_step_items,\n\u001B[32m   1094\u001B[39m     new_response=new_response,\n\u001B[32m   1095\u001B[39m     processed_response=processed_response,\n\u001B[32m   1096\u001B[39m     output_schema=output_schema,\n\u001B[32m   1097\u001B[39m     hooks=hooks,\n\u001B[32m   1098\u001B[39m     context_wrapper=context_wrapper,\n\u001B[32m   1099\u001B[39m     run_config=run_config,\n\u001B[32m   1100\u001B[39m )\n",
      "\u001B[36mFile \u001B[39m\u001B[32mE:\\agentic_ai\\projects\\agents_blank\\.venv\\Lib\\site-packages\\agents\\_run_impl.py:253\u001B[39m, in \u001B[36mRunImpl.execute_tools_and_side_effects\u001B[39m\u001B[34m(cls, agent, original_input, pre_step_items, new_response, processed_response, output_schema, hooks, context_wrapper, run_config)\u001B[39m\n\u001B[32m    250\u001B[39m new_step_items.extend(processed_response.new_items)\n\u001B[32m    252\u001B[39m \u001B[38;5;66;03m# First, lets run the tool calls - function tools and computer actions\u001B[39;00m\n\u001B[32m--> \u001B[39m\u001B[32m253\u001B[39m function_results, computer_results = \u001B[38;5;28;01mawait\u001B[39;00m asyncio.gather(\n\u001B[32m    254\u001B[39m     \u001B[38;5;28mcls\u001B[39m.execute_function_tool_calls(\n\u001B[32m    255\u001B[39m         agent=agent,\n\u001B[32m    256\u001B[39m         tool_runs=processed_response.functions,\n\u001B[32m    257\u001B[39m         hooks=hooks,\n\u001B[32m    258\u001B[39m         context_wrapper=context_wrapper,\n\u001B[32m    259\u001B[39m         config=run_config,\n\u001B[32m    260\u001B[39m     ),\n\u001B[32m    261\u001B[39m     \u001B[38;5;28mcls\u001B[39m.execute_computer_actions(\n\u001B[32m    262\u001B[39m         agent=agent,\n\u001B[32m    263\u001B[39m         actions=processed_response.computer_actions,\n\u001B[32m    264\u001B[39m         hooks=hooks,\n\u001B[32m    265\u001B[39m         context_wrapper=context_wrapper,\n\u001B[32m    266\u001B[39m         config=run_config,\n\u001B[32m    267\u001B[39m     ),\n\u001B[32m    268\u001B[39m )\n\u001B[32m    269\u001B[39m new_step_items.extend([result.run_item \u001B[38;5;28;01mfor\u001B[39;00m result \u001B[38;5;129;01min\u001B[39;00m function_results])\n\u001B[32m    270\u001B[39m new_step_items.extend(computer_results)\n",
      "\u001B[36mFile \u001B[39m\u001B[32mE:\\agentic_ai\\projects\\agents_blank\\.venv\\Lib\\site-packages\\agents\\_run_impl.py:597\u001B[39m, in \u001B[36mRunImpl.execute_function_tool_calls\u001B[39m\u001B[34m(cls, agent, tool_runs, hooks, context_wrapper, config)\u001B[39m\n\u001B[32m    594\u001B[39m     function_tool = tool_run.function_tool\n\u001B[32m    595\u001B[39m     tasks.append(run_single_tool(function_tool, tool_run.tool_call))\n\u001B[32m--> \u001B[39m\u001B[32m597\u001B[39m results = \u001B[38;5;28;01mawait\u001B[39;00m asyncio.gather(*tasks)\n\u001B[32m    599\u001B[39m \u001B[38;5;28;01mreturn\u001B[39;00m [\n\u001B[32m    600\u001B[39m     FunctionToolResult(\n\u001B[32m    601\u001B[39m         tool=tool_run.function_tool,\n\u001B[32m   (...)\u001B[39m\u001B[32m    609\u001B[39m     \u001B[38;5;28;01mfor\u001B[39;00m tool_run, result \u001B[38;5;129;01min\u001B[39;00m \u001B[38;5;28mzip\u001B[39m(tool_runs, results)\n\u001B[32m    610\u001B[39m ]\n",
      "\u001B[36mFile \u001B[39m\u001B[32mE:\\agentic_ai\\projects\\agents_blank\\.venv\\Lib\\site-packages\\agents\\_run_impl.py:559\u001B[39m, in \u001B[36mRunImpl.execute_function_tool_calls.<locals>.run_single_tool\u001B[39m\u001B[34m(func_tool, tool_call)\u001B[39m\n\u001B[32m    557\u001B[39m     span_fn.span_data.input = tool_call.arguments\n\u001B[32m    558\u001B[39m \u001B[38;5;28;01mtry\u001B[39;00m:\n\u001B[32m--> \u001B[39m\u001B[32m559\u001B[39m     _, _, result = \u001B[38;5;28;01mawait\u001B[39;00m asyncio.gather(\n\u001B[32m    560\u001B[39m         hooks.on_tool_start(tool_context, agent, func_tool),\n\u001B[32m    561\u001B[39m         (\n\u001B[32m    562\u001B[39m             agent.hooks.on_tool_start(tool_context, agent, func_tool)\n\u001B[32m    563\u001B[39m             \u001B[38;5;28;01mif\u001B[39;00m agent.hooks\n\u001B[32m    564\u001B[39m             \u001B[38;5;28;01melse\u001B[39;00m _coro.noop_coroutine()\n\u001B[32m    565\u001B[39m         ),\n\u001B[32m    566\u001B[39m         func_tool.on_invoke_tool(tool_context, tool_call.arguments),\n\u001B[32m    567\u001B[39m     )\n\u001B[32m    569\u001B[39m     \u001B[38;5;28;01mawait\u001B[39;00m asyncio.gather(\n\u001B[32m    570\u001B[39m         hooks.on_tool_end(tool_context, agent, func_tool, result),\n\u001B[32m    571\u001B[39m         (\n\u001B[32m   (...)\u001B[39m\u001B[32m    575\u001B[39m         ),\n\u001B[32m    576\u001B[39m     )\n\u001B[32m    577\u001B[39m \u001B[38;5;28;01mexcept\u001B[39;00m \u001B[38;5;167;01mException\u001B[39;00m \u001B[38;5;28;01mas\u001B[39;00m e:\n",
      "\u001B[36mFile \u001B[39m\u001B[32mE:\\agentic_ai\\projects\\agents_blank\\.venv\\Lib\\site-packages\\agents\\tool.py:433\u001B[39m, in \u001B[36mfunction_tool.<locals>._create_function_tool.<locals>._on_invoke_tool\u001B[39m\u001B[34m(ctx, input)\u001B[39m\n\u001B[32m    431\u001B[39m \u001B[38;5;28;01masync\u001B[39;00m \u001B[38;5;28;01mdef\u001B[39;00m\u001B[38;5;250m \u001B[39m\u001B[34m_on_invoke_tool\u001B[39m(ctx: ToolContext[Any], \u001B[38;5;28minput\u001B[39m: \u001B[38;5;28mstr\u001B[39m) -> Any:\n\u001B[32m    432\u001B[39m     \u001B[38;5;28;01mtry\u001B[39;00m:\n\u001B[32m--> \u001B[39m\u001B[32m433\u001B[39m         \u001B[38;5;28;01mreturn\u001B[39;00m \u001B[38;5;28;01mawait\u001B[39;00m _on_invoke_tool_impl(ctx, \u001B[38;5;28minput\u001B[39m)\n\u001B[32m    434\u001B[39m     \u001B[38;5;28;01mexcept\u001B[39;00m \u001B[38;5;167;01mException\u001B[39;00m \u001B[38;5;28;01mas\u001B[39;00m e:\n\u001B[32m    435\u001B[39m         \u001B[38;5;28;01mif\u001B[39;00m failure_error_function \u001B[38;5;129;01mis\u001B[39;00m \u001B[38;5;28;01mNone\u001B[39;00m:\n",
      "\u001B[36mFile \u001B[39m\u001B[32mE:\\agentic_ai\\projects\\agents_blank\\.venv\\Lib\\site-packages\\agents\\tool.py:415\u001B[39m, in \u001B[36mfunction_tool.<locals>._create_function_tool.<locals>._on_invoke_tool_impl\u001B[39m\u001B[34m(ctx, input)\u001B[39m\n\u001B[32m    413\u001B[39m \u001B[38;5;28;01mif\u001B[39;00m inspect.iscoroutinefunction(the_func):\n\u001B[32m    414\u001B[39m     \u001B[38;5;28;01mif\u001B[39;00m schema.takes_context:\n\u001B[32m--> \u001B[39m\u001B[32m415\u001B[39m         result = \u001B[38;5;28;01mawait\u001B[39;00m the_func(ctx, *args, **kwargs_dict)\n\u001B[32m    416\u001B[39m     \u001B[38;5;28;01melse\u001B[39;00m:\n\u001B[32m    417\u001B[39m         result = \u001B[38;5;28;01mawait\u001B[39;00m the_func(*args, **kwargs_dict)\n",
      "\u001B[36mFile \u001B[39m\u001B[32mE:\\agentic_ai\\projects\\agents_blank\\.venv\\Lib\\site-packages\\agents\\agent.py:383\u001B[39m, in \u001B[36mAgent.as_tool.<locals>.run_agent\u001B[39m\u001B[34m(context, input)\u001B[39m\n\u001B[32m    376\u001B[39m \u001B[38;5;129m@function_tool\u001B[39m(\n\u001B[32m    377\u001B[39m     name_override=tool_name \u001B[38;5;129;01mor\u001B[39;00m _transforms.transform_string_function_style(\u001B[38;5;28mself\u001B[39m.name),\n\u001B[32m    378\u001B[39m     description_override=tool_description \u001B[38;5;129;01mor\u001B[39;00m \u001B[33m\"\u001B[39m\u001B[33m\"\u001B[39m,\n\u001B[32m    379\u001B[39m )\n\u001B[32m    380\u001B[39m \u001B[38;5;28;01masync\u001B[39;00m \u001B[38;5;28;01mdef\u001B[39;00m\u001B[38;5;250m \u001B[39m\u001B[34mrun_agent\u001B[39m(context: RunContextWrapper, \u001B[38;5;28minput\u001B[39m: \u001B[38;5;28mstr\u001B[39m) -> \u001B[38;5;28mstr\u001B[39m:\n\u001B[32m    381\u001B[39m     \u001B[38;5;28;01mfrom\u001B[39;00m\u001B[38;5;250m \u001B[39m\u001B[34;01m.\u001B[39;00m\u001B[34;01mrun\u001B[39;00m\u001B[38;5;250m \u001B[39m\u001B[38;5;28;01mimport\u001B[39;00m Runner\n\u001B[32m--> \u001B[39m\u001B[32m383\u001B[39m     output = \u001B[38;5;28;01mawait\u001B[39;00m Runner.run(\n\u001B[32m    384\u001B[39m         starting_agent=\u001B[38;5;28mself\u001B[39m,\n\u001B[32m    385\u001B[39m         \u001B[38;5;28minput\u001B[39m=\u001B[38;5;28minput\u001B[39m,\n\u001B[32m    386\u001B[39m         context=context.context,\n\u001B[32m    387\u001B[39m     )\n\u001B[32m    388\u001B[39m     \u001B[38;5;28;01mif\u001B[39;00m custom_output_extractor:\n\u001B[32m    389\u001B[39m         \u001B[38;5;28;01mreturn\u001B[39;00m \u001B[38;5;28;01mawait\u001B[39;00m custom_output_extractor(output)\n",
      "\u001B[36mFile \u001B[39m\u001B[32mE:\\agentic_ai\\projects\\agents_blank\\.venv\\Lib\\site-packages\\agents\\run.py:237\u001B[39m, in \u001B[36mRunner.run\u001B[39m\u001B[34m(cls, starting_agent, input, context, max_turns, hooks, run_config, previous_response_id, session)\u001B[39m\n\u001B[32m    210\u001B[39m \u001B[38;5;250m\u001B[39m\u001B[33;03m\"\"\"Run a workflow starting at the given agent. The agent will run in a loop until a final\u001B[39;00m\n\u001B[32m    211\u001B[39m \u001B[33;03moutput is generated. The loop runs like so:\u001B[39;00m\n\u001B[32m    212\u001B[39m \u001B[33;03m1. The agent is invoked with the given input.\u001B[39;00m\n\u001B[32m   (...)\u001B[39m\u001B[32m    234\u001B[39m \u001B[33;03m    agent. Agents may perform handoffs, so we don't know the specific type of the output.\u001B[39;00m\n\u001B[32m    235\u001B[39m \u001B[33;03m\"\"\"\u001B[39;00m\n\u001B[32m    236\u001B[39m runner = DEFAULT_AGENT_RUNNER\n\u001B[32m--> \u001B[39m\u001B[32m237\u001B[39m \u001B[38;5;28;01mreturn\u001B[39;00m \u001B[38;5;28;01mawait\u001B[39;00m runner.run(\n\u001B[32m    238\u001B[39m     starting_agent,\n\u001B[32m    239\u001B[39m     \u001B[38;5;28minput\u001B[39m,\n\u001B[32m    240\u001B[39m     context=context,\n\u001B[32m    241\u001B[39m     max_turns=max_turns,\n\u001B[32m    242\u001B[39m     hooks=hooks,\n\u001B[32m    243\u001B[39m     run_config=run_config,\n\u001B[32m    244\u001B[39m     previous_response_id=previous_response_id,\n\u001B[32m    245\u001B[39m     session=session,\n\u001B[32m    246\u001B[39m )\n",
      "\u001B[36mFile \u001B[39m\u001B[32mE:\\agentic_ai\\projects\\agents_blank\\.venv\\Lib\\site-packages\\agents\\run.py:443\u001B[39m, in \u001B[36mAgentRunner.run\u001B[39m\u001B[34m(self, starting_agent, input, **kwargs)\u001B[39m\n\u001B[32m    438\u001B[39m logger.debug(\n\u001B[32m    439\u001B[39m     \u001B[33mf\u001B[39m\u001B[33m\"\u001B[39m\u001B[33mRunning agent \u001B[39m\u001B[38;5;132;01m{\u001B[39;00mcurrent_agent.name\u001B[38;5;132;01m}\u001B[39;00m\u001B[33m (turn \u001B[39m\u001B[38;5;132;01m{\u001B[39;00mcurrent_turn\u001B[38;5;132;01m}\u001B[39;00m\u001B[33m)\u001B[39m\u001B[33m\"\u001B[39m,\n\u001B[32m    440\u001B[39m )\n\u001B[32m    442\u001B[39m \u001B[38;5;28;01mif\u001B[39;00m current_turn == \u001B[32m1\u001B[39m:\n\u001B[32m--> \u001B[39m\u001B[32m443\u001B[39m     input_guardrail_results, turn_result = \u001B[38;5;28;01mawait\u001B[39;00m asyncio.gather(\n\u001B[32m    444\u001B[39m         \u001B[38;5;28mself\u001B[39m._run_input_guardrails(\n\u001B[32m    445\u001B[39m             starting_agent,\n\u001B[32m    446\u001B[39m             starting_agent.input_guardrails\n\u001B[32m    447\u001B[39m             + (run_config.input_guardrails \u001B[38;5;129;01mor\u001B[39;00m []),\n\u001B[32m    448\u001B[39m             _copy_str_or_list(prepared_input),\n\u001B[32m    449\u001B[39m             context_wrapper,\n\u001B[32m    450\u001B[39m         ),\n\u001B[32m    451\u001B[39m         \u001B[38;5;28mself\u001B[39m._run_single_turn(\n\u001B[32m    452\u001B[39m             agent=current_agent,\n\u001B[32m    453\u001B[39m             all_tools=all_tools,\n\u001B[32m    454\u001B[39m             original_input=original_input,\n\u001B[32m    455\u001B[39m             generated_items=generated_items,\n\u001B[32m    456\u001B[39m             hooks=hooks,\n\u001B[32m    457\u001B[39m             context_wrapper=context_wrapper,\n\u001B[32m    458\u001B[39m             run_config=run_config,\n\u001B[32m    459\u001B[39m             should_run_agent_start_hooks=should_run_agent_start_hooks,\n\u001B[32m    460\u001B[39m             tool_use_tracker=tool_use_tracker,\n\u001B[32m    461\u001B[39m             previous_response_id=previous_response_id,\n\u001B[32m    462\u001B[39m         ),\n\u001B[32m    463\u001B[39m     )\n\u001B[32m    464\u001B[39m \u001B[38;5;28;01melse\u001B[39;00m:\n\u001B[32m    465\u001B[39m     turn_result = \u001B[38;5;28;01mawait\u001B[39;00m \u001B[38;5;28mself\u001B[39m._run_single_turn(\n\u001B[32m    466\u001B[39m         agent=current_agent,\n\u001B[32m    467\u001B[39m         all_tools=all_tools,\n\u001B[32m   (...)\u001B[39m\u001B[32m    475\u001B[39m         previous_response_id=previous_response_id,\n\u001B[32m    476\u001B[39m     )\n",
      "\u001B[36mFile \u001B[39m\u001B[32mE:\\agentic_ai\\projects\\agents_blank\\.venv\\Lib\\site-packages\\agents\\run.py:1036\u001B[39m, in \u001B[36mAgentRunner._run_single_turn\u001B[39m\u001B[34m(cls, agent, all_tools, original_input, generated_items, hooks, context_wrapper, run_config, should_run_agent_start_hooks, tool_use_tracker, previous_response_id)\u001B[39m\n\u001B[32m   1033\u001B[39m \u001B[38;5;28minput\u001B[39m = ItemHelpers.input_to_new_input_list(original_input)\n\u001B[32m   1034\u001B[39m \u001B[38;5;28minput\u001B[39m.extend([generated_item.to_input_item() \u001B[38;5;28;01mfor\u001B[39;00m generated_item \u001B[38;5;129;01min\u001B[39;00m generated_items])\n\u001B[32m-> \u001B[39m\u001B[32m1036\u001B[39m new_response = \u001B[38;5;28;01mawait\u001B[39;00m \u001B[38;5;28mcls\u001B[39m._get_new_response(\n\u001B[32m   1037\u001B[39m     agent,\n\u001B[32m   1038\u001B[39m     system_prompt,\n\u001B[32m   1039\u001B[39m     \u001B[38;5;28minput\u001B[39m,\n\u001B[32m   1040\u001B[39m     output_schema,\n\u001B[32m   1041\u001B[39m     all_tools,\n\u001B[32m   1042\u001B[39m     handoffs,\n\u001B[32m   1043\u001B[39m     context_wrapper,\n\u001B[32m   1044\u001B[39m     run_config,\n\u001B[32m   1045\u001B[39m     tool_use_tracker,\n\u001B[32m   1046\u001B[39m     previous_response_id,\n\u001B[32m   1047\u001B[39m     prompt_config,\n\u001B[32m   1048\u001B[39m )\n\u001B[32m   1050\u001B[39m \u001B[38;5;28;01mreturn\u001B[39;00m \u001B[38;5;28;01mawait\u001B[39;00m \u001B[38;5;28mcls\u001B[39m._get_single_step_result_from_response(\n\u001B[32m   1051\u001B[39m     agent=agent,\n\u001B[32m   1052\u001B[39m     original_input=original_input,\n\u001B[32m   (...)\u001B[39m\u001B[32m   1061\u001B[39m     tool_use_tracker=tool_use_tracker,\n\u001B[32m   1062\u001B[39m )\n",
      "\u001B[36mFile \u001B[39m\u001B[32mE:\\agentic_ai\\projects\\agents_blank\\.venv\\Lib\\site-packages\\agents\\run.py:1256\u001B[39m, in \u001B[36mAgentRunner._get_new_response\u001B[39m\u001B[34m(cls, agent, system_prompt, input, output_schema, all_tools, handoffs, context_wrapper, run_config, tool_use_tracker, previous_response_id, prompt_config)\u001B[39m\n\u001B[32m   1253\u001B[39m model_settings = agent.model_settings.resolve(run_config.model_settings)\n\u001B[32m   1254\u001B[39m model_settings = RunImpl.maybe_reset_tool_choice(agent, tool_use_tracker, model_settings)\n\u001B[32m-> \u001B[39m\u001B[32m1256\u001B[39m new_response = \u001B[38;5;28;01mawait\u001B[39;00m model.get_response(\n\u001B[32m   1257\u001B[39m     system_instructions=filtered.instructions,\n\u001B[32m   1258\u001B[39m     \u001B[38;5;28minput\u001B[39m=filtered.input,\n\u001B[32m   1259\u001B[39m     model_settings=model_settings,\n\u001B[32m   1260\u001B[39m     tools=all_tools,\n\u001B[32m   1261\u001B[39m     output_schema=output_schema,\n\u001B[32m   1262\u001B[39m     handoffs=handoffs,\n\u001B[32m   1263\u001B[39m     tracing=get_model_tracing_impl(\n\u001B[32m   1264\u001B[39m         run_config.tracing_disabled, run_config.trace_include_sensitive_data\n\u001B[32m   1265\u001B[39m     ),\n\u001B[32m   1266\u001B[39m     previous_response_id=previous_response_id,\n\u001B[32m   1267\u001B[39m     prompt=prompt_config,\n\u001B[32m   1268\u001B[39m )\n\u001B[32m   1270\u001B[39m context_wrapper.usage.add(new_response.usage)\n\u001B[32m   1272\u001B[39m \u001B[38;5;28;01mreturn\u001B[39;00m new_response\n",
      "\u001B[36mFile \u001B[39m\u001B[32mE:\\agentic_ai\\projects\\agents_blank\\.venv\\Lib\\site-packages\\agents\\models\\openai_chatcompletions.py:66\u001B[39m, in \u001B[36mOpenAIChatCompletionsModel.get_response\u001B[39m\u001B[34m(self, system_instructions, input, model_settings, tools, output_schema, handoffs, tracing, previous_response_id, prompt)\u001B[39m\n\u001B[32m     49\u001B[39m \u001B[38;5;28;01masync\u001B[39;00m \u001B[38;5;28;01mdef\u001B[39;00m\u001B[38;5;250m \u001B[39m\u001B[34mget_response\u001B[39m(\n\u001B[32m     50\u001B[39m     \u001B[38;5;28mself\u001B[39m,\n\u001B[32m     51\u001B[39m     system_instructions: \u001B[38;5;28mstr\u001B[39m | \u001B[38;5;28;01mNone\u001B[39;00m,\n\u001B[32m   (...)\u001B[39m\u001B[32m     59\u001B[39m     prompt: ResponsePromptParam | \u001B[38;5;28;01mNone\u001B[39;00m = \u001B[38;5;28;01mNone\u001B[39;00m,\n\u001B[32m     60\u001B[39m ) -> ModelResponse:\n\u001B[32m     61\u001B[39m     \u001B[38;5;28;01mwith\u001B[39;00m generation_span(\n\u001B[32m     62\u001B[39m         model=\u001B[38;5;28mstr\u001B[39m(\u001B[38;5;28mself\u001B[39m.model),\n\u001B[32m     63\u001B[39m         model_config=model_settings.to_json_dict() | {\u001B[33m\"\u001B[39m\u001B[33mbase_url\u001B[39m\u001B[33m\"\u001B[39m: \u001B[38;5;28mstr\u001B[39m(\u001B[38;5;28mself\u001B[39m._client.base_url)},\n\u001B[32m     64\u001B[39m         disabled=tracing.is_disabled(),\n\u001B[32m     65\u001B[39m     ) \u001B[38;5;28;01mas\u001B[39;00m span_generation:\n\u001B[32m---> \u001B[39m\u001B[32m66\u001B[39m         response = \u001B[38;5;28;01mawait\u001B[39;00m \u001B[38;5;28mself\u001B[39m._fetch_response(\n\u001B[32m     67\u001B[39m             system_instructions,\n\u001B[32m     68\u001B[39m             \u001B[38;5;28minput\u001B[39m,\n\u001B[32m     69\u001B[39m             model_settings,\n\u001B[32m     70\u001B[39m             tools,\n\u001B[32m     71\u001B[39m             output_schema,\n\u001B[32m     72\u001B[39m             handoffs,\n\u001B[32m     73\u001B[39m             span_generation,\n\u001B[32m     74\u001B[39m             tracing,\n\u001B[32m     75\u001B[39m             stream=\u001B[38;5;28;01mFalse\u001B[39;00m,\n\u001B[32m     76\u001B[39m             prompt=prompt,\n\u001B[32m     77\u001B[39m         )\n\u001B[32m     79\u001B[39m         message: ChatCompletionMessage | \u001B[38;5;28;01mNone\u001B[39;00m = \u001B[38;5;28;01mNone\u001B[39;00m\n\u001B[32m     80\u001B[39m         first_choice: Choice | \u001B[38;5;28;01mNone\u001B[39;00m = \u001B[38;5;28;01mNone\u001B[39;00m\n",
      "\u001B[36mFile \u001B[39m\u001B[32mE:\\agentic_ai\\projects\\agents_blank\\.venv\\Lib\\site-packages\\agents\\models\\openai_chatcompletions.py:274\u001B[39m, in \u001B[36mOpenAIChatCompletionsModel._fetch_response\u001B[39m\u001B[34m(self, system_instructions, input, model_settings, tools, output_schema, handoffs, span, tracing, stream, prompt)\u001B[39m\n\u001B[32m    268\u001B[39m store = ChatCmplHelpers.get_store_param(\u001B[38;5;28mself\u001B[39m._get_client(), model_settings)\n\u001B[32m    270\u001B[39m stream_options = ChatCmplHelpers.get_stream_options_param(\n\u001B[32m    271\u001B[39m     \u001B[38;5;28mself\u001B[39m._get_client(), model_settings, stream=stream\n\u001B[32m    272\u001B[39m )\n\u001B[32m--> \u001B[39m\u001B[32m274\u001B[39m ret = \u001B[38;5;28;01mawait\u001B[39;00m \u001B[38;5;28mself\u001B[39m._get_client().chat.completions.create(\n\u001B[32m    275\u001B[39m     model=\u001B[38;5;28mself\u001B[39m.model,\n\u001B[32m    276\u001B[39m     messages=converted_messages,\n\u001B[32m    277\u001B[39m     tools=converted_tools \u001B[38;5;129;01mor\u001B[39;00m NOT_GIVEN,\n\u001B[32m    278\u001B[39m     temperature=\u001B[38;5;28mself\u001B[39m._non_null_or_not_given(model_settings.temperature),\n\u001B[32m    279\u001B[39m     top_p=\u001B[38;5;28mself\u001B[39m._non_null_or_not_given(model_settings.top_p),\n\u001B[32m    280\u001B[39m     frequency_penalty=\u001B[38;5;28mself\u001B[39m._non_null_or_not_given(model_settings.frequency_penalty),\n\u001B[32m    281\u001B[39m     presence_penalty=\u001B[38;5;28mself\u001B[39m._non_null_or_not_given(model_settings.presence_penalty),\n\u001B[32m    282\u001B[39m     max_tokens=\u001B[38;5;28mself\u001B[39m._non_null_or_not_given(model_settings.max_tokens),\n\u001B[32m    283\u001B[39m     tool_choice=tool_choice,\n\u001B[32m    284\u001B[39m     response_format=response_format,\n\u001B[32m    285\u001B[39m     parallel_tool_calls=parallel_tool_calls,\n\u001B[32m    286\u001B[39m     stream=stream,\n\u001B[32m    287\u001B[39m     stream_options=\u001B[38;5;28mself\u001B[39m._non_null_or_not_given(stream_options),\n\u001B[32m    288\u001B[39m     store=\u001B[38;5;28mself\u001B[39m._non_null_or_not_given(store),\n\u001B[32m    289\u001B[39m     reasoning_effort=\u001B[38;5;28mself\u001B[39m._non_null_or_not_given(reasoning_effort),\n\u001B[32m    290\u001B[39m     verbosity=\u001B[38;5;28mself\u001B[39m._non_null_or_not_given(model_settings.verbosity),\n\u001B[32m    291\u001B[39m     top_logprobs=\u001B[38;5;28mself\u001B[39m._non_null_or_not_given(model_settings.top_logprobs),\n\u001B[32m    292\u001B[39m     extra_headers={**HEADERS, **(model_settings.extra_headers \u001B[38;5;129;01mor\u001B[39;00m {})},\n\u001B[32m    293\u001B[39m     extra_query=model_settings.extra_query,\n\u001B[32m    294\u001B[39m     extra_body=model_settings.extra_body,\n\u001B[32m    295\u001B[39m     metadata=\u001B[38;5;28mself\u001B[39m._non_null_or_not_given(model_settings.metadata),\n\u001B[32m    296\u001B[39m     **(model_settings.extra_args \u001B[38;5;129;01mor\u001B[39;00m {}),\n\u001B[32m    297\u001B[39m )\n\u001B[32m    299\u001B[39m \u001B[38;5;28;01mif\u001B[39;00m \u001B[38;5;28misinstance\u001B[39m(ret, ChatCompletion):\n\u001B[32m    300\u001B[39m     \u001B[38;5;28;01mreturn\u001B[39;00m ret\n",
      "\u001B[36mFile \u001B[39m\u001B[32mE:\\agentic_ai\\projects\\agents_blank\\.venv\\Lib\\site-packages\\openai\\resources\\chat\\completions\\completions.py:2583\u001B[39m, in \u001B[36mAsyncCompletions.create\u001B[39m\u001B[34m(self, messages, model, audio, frequency_penalty, function_call, functions, logit_bias, logprobs, max_completion_tokens, max_tokens, metadata, modalities, n, parallel_tool_calls, prediction, presence_penalty, prompt_cache_key, reasoning_effort, response_format, safety_identifier, seed, service_tier, stop, store, stream, stream_options, temperature, tool_choice, tools, top_logprobs, top_p, user, verbosity, web_search_options, extra_headers, extra_query, extra_body, timeout)\u001B[39m\n\u001B[32m   2537\u001B[39m \u001B[38;5;129m@required_args\u001B[39m([\u001B[33m\"\u001B[39m\u001B[33mmessages\u001B[39m\u001B[33m\"\u001B[39m, \u001B[33m\"\u001B[39m\u001B[33mmodel\u001B[39m\u001B[33m\"\u001B[39m], [\u001B[33m\"\u001B[39m\u001B[33mmessages\u001B[39m\u001B[33m\"\u001B[39m, \u001B[33m\"\u001B[39m\u001B[33mmodel\u001B[39m\u001B[33m\"\u001B[39m, \u001B[33m\"\u001B[39m\u001B[33mstream\u001B[39m\u001B[33m\"\u001B[39m])\n\u001B[32m   2538\u001B[39m \u001B[38;5;28;01masync\u001B[39;00m \u001B[38;5;28;01mdef\u001B[39;00m\u001B[38;5;250m \u001B[39m\u001B[34mcreate\u001B[39m(\n\u001B[32m   2539\u001B[39m     \u001B[38;5;28mself\u001B[39m,\n\u001B[32m   (...)\u001B[39m\u001B[32m   2580\u001B[39m     timeout: \u001B[38;5;28mfloat\u001B[39m | httpx.Timeout | \u001B[38;5;28;01mNone\u001B[39;00m | NotGiven = NOT_GIVEN,\n\u001B[32m   2581\u001B[39m ) -> ChatCompletion | AsyncStream[ChatCompletionChunk]:\n\u001B[32m   2582\u001B[39m     validate_response_format(response_format)\n\u001B[32m-> \u001B[39m\u001B[32m2583\u001B[39m     \u001B[38;5;28;01mreturn\u001B[39;00m \u001B[38;5;28;01mawait\u001B[39;00m \u001B[38;5;28mself\u001B[39m._post(\n\u001B[32m   2584\u001B[39m         \u001B[33m\"\u001B[39m\u001B[33m/chat/completions\u001B[39m\u001B[33m\"\u001B[39m,\n\u001B[32m   2585\u001B[39m         body=\u001B[38;5;28;01mawait\u001B[39;00m async_maybe_transform(\n\u001B[32m   2586\u001B[39m             {\n\u001B[32m   2587\u001B[39m                 \u001B[33m\"\u001B[39m\u001B[33mmessages\u001B[39m\u001B[33m\"\u001B[39m: messages,\n\u001B[32m   2588\u001B[39m                 \u001B[33m\"\u001B[39m\u001B[33mmodel\u001B[39m\u001B[33m\"\u001B[39m: model,\n\u001B[32m   2589\u001B[39m                 \u001B[33m\"\u001B[39m\u001B[33maudio\u001B[39m\u001B[33m\"\u001B[39m: audio,\n\u001B[32m   2590\u001B[39m                 \u001B[33m\"\u001B[39m\u001B[33mfrequency_penalty\u001B[39m\u001B[33m\"\u001B[39m: frequency_penalty,\n\u001B[32m   2591\u001B[39m                 \u001B[33m\"\u001B[39m\u001B[33mfunction_call\u001B[39m\u001B[33m\"\u001B[39m: function_call,\n\u001B[32m   2592\u001B[39m                 \u001B[33m\"\u001B[39m\u001B[33mfunctions\u001B[39m\u001B[33m\"\u001B[39m: functions,\n\u001B[32m   2593\u001B[39m                 \u001B[33m\"\u001B[39m\u001B[33mlogit_bias\u001B[39m\u001B[33m\"\u001B[39m: logit_bias,\n\u001B[32m   2594\u001B[39m                 \u001B[33m\"\u001B[39m\u001B[33mlogprobs\u001B[39m\u001B[33m\"\u001B[39m: logprobs,\n\u001B[32m   2595\u001B[39m                 \u001B[33m\"\u001B[39m\u001B[33mmax_completion_tokens\u001B[39m\u001B[33m\"\u001B[39m: max_completion_tokens,\n\u001B[32m   2596\u001B[39m                 \u001B[33m\"\u001B[39m\u001B[33mmax_tokens\u001B[39m\u001B[33m\"\u001B[39m: max_tokens,\n\u001B[32m   2597\u001B[39m                 \u001B[33m\"\u001B[39m\u001B[33mmetadata\u001B[39m\u001B[33m\"\u001B[39m: metadata,\n\u001B[32m   2598\u001B[39m                 \u001B[33m\"\u001B[39m\u001B[33mmodalities\u001B[39m\u001B[33m\"\u001B[39m: modalities,\n\u001B[32m   2599\u001B[39m                 \u001B[33m\"\u001B[39m\u001B[33mn\u001B[39m\u001B[33m\"\u001B[39m: n,\n\u001B[32m   2600\u001B[39m                 \u001B[33m\"\u001B[39m\u001B[33mparallel_tool_calls\u001B[39m\u001B[33m\"\u001B[39m: parallel_tool_calls,\n\u001B[32m   2601\u001B[39m                 \u001B[33m\"\u001B[39m\u001B[33mprediction\u001B[39m\u001B[33m\"\u001B[39m: prediction,\n\u001B[32m   2602\u001B[39m                 \u001B[33m\"\u001B[39m\u001B[33mpresence_penalty\u001B[39m\u001B[33m\"\u001B[39m: presence_penalty,\n\u001B[32m   2603\u001B[39m                 \u001B[33m\"\u001B[39m\u001B[33mprompt_cache_key\u001B[39m\u001B[33m\"\u001B[39m: prompt_cache_key,\n\u001B[32m   2604\u001B[39m                 \u001B[33m\"\u001B[39m\u001B[33mreasoning_effort\u001B[39m\u001B[33m\"\u001B[39m: reasoning_effort,\n\u001B[32m   2605\u001B[39m                 \u001B[33m\"\u001B[39m\u001B[33mresponse_format\u001B[39m\u001B[33m\"\u001B[39m: response_format,\n\u001B[32m   2606\u001B[39m                 \u001B[33m\"\u001B[39m\u001B[33msafety_identifier\u001B[39m\u001B[33m\"\u001B[39m: safety_identifier,\n\u001B[32m   2607\u001B[39m                 \u001B[33m\"\u001B[39m\u001B[33mseed\u001B[39m\u001B[33m\"\u001B[39m: seed,\n\u001B[32m   2608\u001B[39m                 \u001B[33m\"\u001B[39m\u001B[33mservice_tier\u001B[39m\u001B[33m\"\u001B[39m: service_tier,\n\u001B[32m   2609\u001B[39m                 \u001B[33m\"\u001B[39m\u001B[33mstop\u001B[39m\u001B[33m\"\u001B[39m: stop,\n\u001B[32m   2610\u001B[39m                 \u001B[33m\"\u001B[39m\u001B[33mstore\u001B[39m\u001B[33m\"\u001B[39m: store,\n\u001B[32m   2611\u001B[39m                 \u001B[33m\"\u001B[39m\u001B[33mstream\u001B[39m\u001B[33m\"\u001B[39m: stream,\n\u001B[32m   2612\u001B[39m                 \u001B[33m\"\u001B[39m\u001B[33mstream_options\u001B[39m\u001B[33m\"\u001B[39m: stream_options,\n\u001B[32m   2613\u001B[39m                 \u001B[33m\"\u001B[39m\u001B[33mtemperature\u001B[39m\u001B[33m\"\u001B[39m: temperature,\n\u001B[32m   2614\u001B[39m                 \u001B[33m\"\u001B[39m\u001B[33mtool_choice\u001B[39m\u001B[33m\"\u001B[39m: tool_choice,\n\u001B[32m   2615\u001B[39m                 \u001B[33m\"\u001B[39m\u001B[33mtools\u001B[39m\u001B[33m\"\u001B[39m: tools,\n\u001B[32m   2616\u001B[39m                 \u001B[33m\"\u001B[39m\u001B[33mtop_logprobs\u001B[39m\u001B[33m\"\u001B[39m: top_logprobs,\n\u001B[32m   2617\u001B[39m                 \u001B[33m\"\u001B[39m\u001B[33mtop_p\u001B[39m\u001B[33m\"\u001B[39m: top_p,\n\u001B[32m   2618\u001B[39m                 \u001B[33m\"\u001B[39m\u001B[33muser\u001B[39m\u001B[33m\"\u001B[39m: user,\n\u001B[32m   2619\u001B[39m                 \u001B[33m\"\u001B[39m\u001B[33mverbosity\u001B[39m\u001B[33m\"\u001B[39m: verbosity,\n\u001B[32m   2620\u001B[39m                 \u001B[33m\"\u001B[39m\u001B[33mweb_search_options\u001B[39m\u001B[33m\"\u001B[39m: web_search_options,\n\u001B[32m   2621\u001B[39m             },\n\u001B[32m   2622\u001B[39m             completion_create_params.CompletionCreateParamsStreaming\n\u001B[32m   2623\u001B[39m             \u001B[38;5;28;01mif\u001B[39;00m stream\n\u001B[32m   2624\u001B[39m             \u001B[38;5;28;01melse\u001B[39;00m completion_create_params.CompletionCreateParamsNonStreaming,\n\u001B[32m   2625\u001B[39m         ),\n\u001B[32m   2626\u001B[39m         options=make_request_options(\n\u001B[32m   2627\u001B[39m             extra_headers=extra_headers, extra_query=extra_query, extra_body=extra_body, timeout=timeout\n\u001B[32m   2628\u001B[39m         ),\n\u001B[32m   2629\u001B[39m         cast_to=ChatCompletion,\n\u001B[32m   2630\u001B[39m         stream=stream \u001B[38;5;129;01mor\u001B[39;00m \u001B[38;5;28;01mFalse\u001B[39;00m,\n\u001B[32m   2631\u001B[39m         stream_cls=AsyncStream[ChatCompletionChunk],\n\u001B[32m   2632\u001B[39m     )\n",
      "\u001B[36mFile \u001B[39m\u001B[32mE:\\agentic_ai\\projects\\agents_blank\\.venv\\Lib\\site-packages\\openai\\_base_client.py:1794\u001B[39m, in \u001B[36mAsyncAPIClient.post\u001B[39m\u001B[34m(self, path, cast_to, body, files, options, stream, stream_cls)\u001B[39m\n\u001B[32m   1780\u001B[39m \u001B[38;5;28;01masync\u001B[39;00m \u001B[38;5;28;01mdef\u001B[39;00m\u001B[38;5;250m \u001B[39m\u001B[34mpost\u001B[39m(\n\u001B[32m   1781\u001B[39m     \u001B[38;5;28mself\u001B[39m,\n\u001B[32m   1782\u001B[39m     path: \u001B[38;5;28mstr\u001B[39m,\n\u001B[32m   (...)\u001B[39m\u001B[32m   1789\u001B[39m     stream_cls: \u001B[38;5;28mtype\u001B[39m[_AsyncStreamT] | \u001B[38;5;28;01mNone\u001B[39;00m = \u001B[38;5;28;01mNone\u001B[39;00m,\n\u001B[32m   1790\u001B[39m ) -> ResponseT | _AsyncStreamT:\n\u001B[32m   1791\u001B[39m     opts = FinalRequestOptions.construct(\n\u001B[32m   1792\u001B[39m         method=\u001B[33m\"\u001B[39m\u001B[33mpost\u001B[39m\u001B[33m\"\u001B[39m, url=path, json_data=body, files=\u001B[38;5;28;01mawait\u001B[39;00m async_to_httpx_files(files), **options\n\u001B[32m   1793\u001B[39m     )\n\u001B[32m-> \u001B[39m\u001B[32m1794\u001B[39m     \u001B[38;5;28;01mreturn\u001B[39;00m \u001B[38;5;28;01mawait\u001B[39;00m \u001B[38;5;28mself\u001B[39m.request(cast_to, opts, stream=stream, stream_cls=stream_cls)\n",
      "\u001B[36mFile \u001B[39m\u001B[32mE:\\agentic_ai\\projects\\agents_blank\\.venv\\Lib\\site-packages\\openai\\_base_client.py:1529\u001B[39m, in \u001B[36mAsyncAPIClient.request\u001B[39m\u001B[34m(self, cast_to, options, stream, stream_cls)\u001B[39m\n\u001B[32m   1527\u001B[39m response = \u001B[38;5;28;01mNone\u001B[39;00m\n\u001B[32m   1528\u001B[39m \u001B[38;5;28;01mtry\u001B[39;00m:\n\u001B[32m-> \u001B[39m\u001B[32m1529\u001B[39m     response = \u001B[38;5;28;01mawait\u001B[39;00m \u001B[38;5;28mself\u001B[39m._client.send(\n\u001B[32m   1530\u001B[39m         request,\n\u001B[32m   1531\u001B[39m         stream=stream \u001B[38;5;129;01mor\u001B[39;00m \u001B[38;5;28mself\u001B[39m._should_stream_response_body(request=request),\n\u001B[32m   1532\u001B[39m         **kwargs,\n\u001B[32m   1533\u001B[39m     )\n\u001B[32m   1534\u001B[39m \u001B[38;5;28;01mexcept\u001B[39;00m httpx.TimeoutException \u001B[38;5;28;01mas\u001B[39;00m err:\n\u001B[32m   1535\u001B[39m     log.debug(\u001B[33m\"\u001B[39m\u001B[33mEncountered httpx.TimeoutException\u001B[39m\u001B[33m\"\u001B[39m, exc_info=\u001B[38;5;28;01mTrue\u001B[39;00m)\n",
      "\u001B[36mFile \u001B[39m\u001B[32mE:\\agentic_ai\\projects\\agents_blank\\.venv\\Lib\\site-packages\\httpx\\_client.py:1629\u001B[39m, in \u001B[36mAsyncClient.send\u001B[39m\u001B[34m(self, request, stream, auth, follow_redirects)\u001B[39m\n\u001B[32m   1625\u001B[39m \u001B[38;5;28mself\u001B[39m._set_timeout(request)\n\u001B[32m   1627\u001B[39m auth = \u001B[38;5;28mself\u001B[39m._build_request_auth(request, auth)\n\u001B[32m-> \u001B[39m\u001B[32m1629\u001B[39m response = \u001B[38;5;28;01mawait\u001B[39;00m \u001B[38;5;28mself\u001B[39m._send_handling_auth(\n\u001B[32m   1630\u001B[39m     request,\n\u001B[32m   1631\u001B[39m     auth=auth,\n\u001B[32m   1632\u001B[39m     follow_redirects=follow_redirects,\n\u001B[32m   1633\u001B[39m     history=[],\n\u001B[32m   1634\u001B[39m )\n\u001B[32m   1635\u001B[39m \u001B[38;5;28;01mtry\u001B[39;00m:\n\u001B[32m   1636\u001B[39m     \u001B[38;5;28;01mif\u001B[39;00m \u001B[38;5;129;01mnot\u001B[39;00m stream:\n",
      "\u001B[36mFile \u001B[39m\u001B[32mE:\\agentic_ai\\projects\\agents_blank\\.venv\\Lib\\site-packages\\httpx\\_client.py:1657\u001B[39m, in \u001B[36mAsyncClient._send_handling_auth\u001B[39m\u001B[34m(self, request, auth, follow_redirects, history)\u001B[39m\n\u001B[32m   1654\u001B[39m request = \u001B[38;5;28;01mawait\u001B[39;00m auth_flow.\u001B[34m__anext__\u001B[39m()\n\u001B[32m   1656\u001B[39m \u001B[38;5;28;01mwhile\u001B[39;00m \u001B[38;5;28;01mTrue\u001B[39;00m:\n\u001B[32m-> \u001B[39m\u001B[32m1657\u001B[39m     response = \u001B[38;5;28;01mawait\u001B[39;00m \u001B[38;5;28mself\u001B[39m._send_handling_redirects(\n\u001B[32m   1658\u001B[39m         request,\n\u001B[32m   1659\u001B[39m         follow_redirects=follow_redirects,\n\u001B[32m   1660\u001B[39m         history=history,\n\u001B[32m   1661\u001B[39m     )\n\u001B[32m   1662\u001B[39m     \u001B[38;5;28;01mtry\u001B[39;00m:\n\u001B[32m   1663\u001B[39m         \u001B[38;5;28;01mtry\u001B[39;00m:\n",
      "\u001B[36mFile \u001B[39m\u001B[32mE:\\agentic_ai\\projects\\agents_blank\\.venv\\Lib\\site-packages\\httpx\\_client.py:1694\u001B[39m, in \u001B[36mAsyncClient._send_handling_redirects\u001B[39m\u001B[34m(self, request, follow_redirects, history)\u001B[39m\n\u001B[32m   1691\u001B[39m \u001B[38;5;28;01mfor\u001B[39;00m hook \u001B[38;5;129;01min\u001B[39;00m \u001B[38;5;28mself\u001B[39m._event_hooks[\u001B[33m\"\u001B[39m\u001B[33mrequest\u001B[39m\u001B[33m\"\u001B[39m]:\n\u001B[32m   1692\u001B[39m     \u001B[38;5;28;01mawait\u001B[39;00m hook(request)\n\u001B[32m-> \u001B[39m\u001B[32m1694\u001B[39m response = \u001B[38;5;28;01mawait\u001B[39;00m \u001B[38;5;28mself\u001B[39m._send_single_request(request)\n\u001B[32m   1695\u001B[39m \u001B[38;5;28;01mtry\u001B[39;00m:\n\u001B[32m   1696\u001B[39m     \u001B[38;5;28;01mfor\u001B[39;00m hook \u001B[38;5;129;01min\u001B[39;00m \u001B[38;5;28mself\u001B[39m._event_hooks[\u001B[33m\"\u001B[39m\u001B[33mresponse\u001B[39m\u001B[33m\"\u001B[39m]:\n",
      "\u001B[36mFile \u001B[39m\u001B[32mE:\\agentic_ai\\projects\\agents_blank\\.venv\\Lib\\site-packages\\httpx\\_client.py:1730\u001B[39m, in \u001B[36mAsyncClient._send_single_request\u001B[39m\u001B[34m(self, request)\u001B[39m\n\u001B[32m   1725\u001B[39m     \u001B[38;5;28;01mraise\u001B[39;00m \u001B[38;5;167;01mRuntimeError\u001B[39;00m(\n\u001B[32m   1726\u001B[39m         \u001B[33m\"\u001B[39m\u001B[33mAttempted to send an sync request with an AsyncClient instance.\u001B[39m\u001B[33m\"\u001B[39m\n\u001B[32m   1727\u001B[39m     )\n\u001B[32m   1729\u001B[39m \u001B[38;5;28;01mwith\u001B[39;00m request_context(request=request):\n\u001B[32m-> \u001B[39m\u001B[32m1730\u001B[39m     response = \u001B[38;5;28;01mawait\u001B[39;00m transport.handle_async_request(request)\n\u001B[32m   1732\u001B[39m \u001B[38;5;28;01massert\u001B[39;00m \u001B[38;5;28misinstance\u001B[39m(response.stream, AsyncByteStream)\n\u001B[32m   1733\u001B[39m response.request = request\n",
      "\u001B[36mFile \u001B[39m\u001B[32mE:\\agentic_ai\\projects\\agents_blank\\.venv\\Lib\\site-packages\\httpx\\_transports\\default.py:394\u001B[39m, in \u001B[36mAsyncHTTPTransport.handle_async_request\u001B[39m\u001B[34m(self, request)\u001B[39m\n\u001B[32m    381\u001B[39m req = httpcore.Request(\n\u001B[32m    382\u001B[39m     method=request.method,\n\u001B[32m    383\u001B[39m     url=httpcore.URL(\n\u001B[32m   (...)\u001B[39m\u001B[32m    391\u001B[39m     extensions=request.extensions,\n\u001B[32m    392\u001B[39m )\n\u001B[32m    393\u001B[39m \u001B[38;5;28;01mwith\u001B[39;00m map_httpcore_exceptions():\n\u001B[32m--> \u001B[39m\u001B[32m394\u001B[39m     resp = \u001B[38;5;28;01mawait\u001B[39;00m \u001B[38;5;28mself\u001B[39m._pool.handle_async_request(req)\n\u001B[32m    396\u001B[39m \u001B[38;5;28;01massert\u001B[39;00m \u001B[38;5;28misinstance\u001B[39m(resp.stream, typing.AsyncIterable)\n\u001B[32m    398\u001B[39m \u001B[38;5;28;01mreturn\u001B[39;00m Response(\n\u001B[32m    399\u001B[39m     status_code=resp.status,\n\u001B[32m    400\u001B[39m     headers=resp.headers,\n\u001B[32m    401\u001B[39m     stream=AsyncResponseStream(resp.stream),\n\u001B[32m    402\u001B[39m     extensions=resp.extensions,\n\u001B[32m    403\u001B[39m )\n",
      "\u001B[36mFile \u001B[39m\u001B[32mE:\\agentic_ai\\projects\\agents_blank\\.venv\\Lib\\site-packages\\httpcore\\_async\\connection_pool.py:256\u001B[39m, in \u001B[36mAsyncConnectionPool.handle_async_request\u001B[39m\u001B[34m(self, request)\u001B[39m\n\u001B[32m    253\u001B[39m         closing = \u001B[38;5;28mself\u001B[39m._assign_requests_to_connections()\n\u001B[32m    255\u001B[39m     \u001B[38;5;28;01mawait\u001B[39;00m \u001B[38;5;28mself\u001B[39m._close_connections(closing)\n\u001B[32m--> \u001B[39m\u001B[32m256\u001B[39m     \u001B[38;5;28;01mraise\u001B[39;00m exc \u001B[38;5;28;01mfrom\u001B[39;00m\u001B[38;5;250m \u001B[39m\u001B[38;5;28;01mNone\u001B[39;00m\n\u001B[32m    258\u001B[39m \u001B[38;5;66;03m# Return the response. Note that in this case we still have to manage\u001B[39;00m\n\u001B[32m    259\u001B[39m \u001B[38;5;66;03m# the point at which the response is closed.\u001B[39;00m\n\u001B[32m    260\u001B[39m \u001B[38;5;28;01massert\u001B[39;00m \u001B[38;5;28misinstance\u001B[39m(response.stream, typing.AsyncIterable)\n",
      "\u001B[36mFile \u001B[39m\u001B[32mE:\\agentic_ai\\projects\\agents_blank\\.venv\\Lib\\site-packages\\httpcore\\_async\\connection_pool.py:236\u001B[39m, in \u001B[36mAsyncConnectionPool.handle_async_request\u001B[39m\u001B[34m(self, request)\u001B[39m\n\u001B[32m    232\u001B[39m connection = \u001B[38;5;28;01mawait\u001B[39;00m pool_request.wait_for_connection(timeout=timeout)\n\u001B[32m    234\u001B[39m \u001B[38;5;28;01mtry\u001B[39;00m:\n\u001B[32m    235\u001B[39m     \u001B[38;5;66;03m# Send the request on the assigned connection.\u001B[39;00m\n\u001B[32m--> \u001B[39m\u001B[32m236\u001B[39m     response = \u001B[38;5;28;01mawait\u001B[39;00m connection.handle_async_request(\n\u001B[32m    237\u001B[39m         pool_request.request\n\u001B[32m    238\u001B[39m     )\n\u001B[32m    239\u001B[39m \u001B[38;5;28;01mexcept\u001B[39;00m ConnectionNotAvailable:\n\u001B[32m    240\u001B[39m     \u001B[38;5;66;03m# In some cases a connection may initially be available to\u001B[39;00m\n\u001B[32m    241\u001B[39m     \u001B[38;5;66;03m# handle a request, but then become unavailable.\u001B[39;00m\n\u001B[32m    242\u001B[39m     \u001B[38;5;66;03m#\u001B[39;00m\n\u001B[32m    243\u001B[39m     \u001B[38;5;66;03m# In this case we clear the connection and try again.\u001B[39;00m\n\u001B[32m    244\u001B[39m     pool_request.clear_connection()\n",
      "\u001B[36mFile \u001B[39m\u001B[32mE:\\agentic_ai\\projects\\agents_blank\\.venv\\Lib\\site-packages\\httpcore\\_async\\connection.py:103\u001B[39m, in \u001B[36mAsyncHTTPConnection.handle_async_request\u001B[39m\u001B[34m(self, request)\u001B[39m\n\u001B[32m    100\u001B[39m     \u001B[38;5;28mself\u001B[39m._connect_failed = \u001B[38;5;28;01mTrue\u001B[39;00m\n\u001B[32m    101\u001B[39m     \u001B[38;5;28;01mraise\u001B[39;00m exc\n\u001B[32m--> \u001B[39m\u001B[32m103\u001B[39m \u001B[38;5;28;01mreturn\u001B[39;00m \u001B[38;5;28;01mawait\u001B[39;00m \u001B[38;5;28mself\u001B[39m._connection.handle_async_request(request)\n",
      "\u001B[36mFile \u001B[39m\u001B[32mE:\\agentic_ai\\projects\\agents_blank\\.venv\\Lib\\site-packages\\httpcore\\_async\\http11.py:136\u001B[39m, in \u001B[36mAsyncHTTP11Connection.handle_async_request\u001B[39m\u001B[34m(self, request)\u001B[39m\n\u001B[32m    134\u001B[39m     \u001B[38;5;28;01masync\u001B[39;00m \u001B[38;5;28;01mwith\u001B[39;00m Trace(\u001B[33m\"\u001B[39m\u001B[33mresponse_closed\u001B[39m\u001B[33m\"\u001B[39m, logger, request) \u001B[38;5;28;01mas\u001B[39;00m trace:\n\u001B[32m    135\u001B[39m         \u001B[38;5;28;01mawait\u001B[39;00m \u001B[38;5;28mself\u001B[39m._response_closed()\n\u001B[32m--> \u001B[39m\u001B[32m136\u001B[39m \u001B[38;5;28;01mraise\u001B[39;00m exc\n",
      "\u001B[36mFile \u001B[39m\u001B[32mE:\\agentic_ai\\projects\\agents_blank\\.venv\\Lib\\site-packages\\httpcore\\_async\\http11.py:106\u001B[39m, in \u001B[36mAsyncHTTP11Connection.handle_async_request\u001B[39m\u001B[34m(self, request)\u001B[39m\n\u001B[32m     95\u001B[39m     \u001B[38;5;28;01mpass\u001B[39;00m\n\u001B[32m     97\u001B[39m \u001B[38;5;28;01masync\u001B[39;00m \u001B[38;5;28;01mwith\u001B[39;00m Trace(\n\u001B[32m     98\u001B[39m     \u001B[33m\"\u001B[39m\u001B[33mreceive_response_headers\u001B[39m\u001B[33m\"\u001B[39m, logger, request, kwargs\n\u001B[32m     99\u001B[39m ) \u001B[38;5;28;01mas\u001B[39;00m trace:\n\u001B[32m    100\u001B[39m     (\n\u001B[32m    101\u001B[39m         http_version,\n\u001B[32m    102\u001B[39m         status,\n\u001B[32m    103\u001B[39m         reason_phrase,\n\u001B[32m    104\u001B[39m         headers,\n\u001B[32m    105\u001B[39m         trailing_data,\n\u001B[32m--> \u001B[39m\u001B[32m106\u001B[39m     ) = \u001B[38;5;28;01mawait\u001B[39;00m \u001B[38;5;28mself\u001B[39m._receive_response_headers(**kwargs)\n\u001B[32m    107\u001B[39m     trace.return_value = (\n\u001B[32m    108\u001B[39m         http_version,\n\u001B[32m    109\u001B[39m         status,\n\u001B[32m    110\u001B[39m         reason_phrase,\n\u001B[32m    111\u001B[39m         headers,\n\u001B[32m    112\u001B[39m     )\n\u001B[32m    114\u001B[39m network_stream = \u001B[38;5;28mself\u001B[39m._network_stream\n",
      "\u001B[36mFile \u001B[39m\u001B[32mE:\\agentic_ai\\projects\\agents_blank\\.venv\\Lib\\site-packages\\httpcore\\_async\\http11.py:177\u001B[39m, in \u001B[36mAsyncHTTP11Connection._receive_response_headers\u001B[39m\u001B[34m(self, request)\u001B[39m\n\u001B[32m    174\u001B[39m timeout = timeouts.get(\u001B[33m\"\u001B[39m\u001B[33mread\u001B[39m\u001B[33m\"\u001B[39m, \u001B[38;5;28;01mNone\u001B[39;00m)\n\u001B[32m    176\u001B[39m \u001B[38;5;28;01mwhile\u001B[39;00m \u001B[38;5;28;01mTrue\u001B[39;00m:\n\u001B[32m--> \u001B[39m\u001B[32m177\u001B[39m     event = \u001B[38;5;28;01mawait\u001B[39;00m \u001B[38;5;28mself\u001B[39m._receive_event(timeout=timeout)\n\u001B[32m    178\u001B[39m     \u001B[38;5;28;01mif\u001B[39;00m \u001B[38;5;28misinstance\u001B[39m(event, h11.Response):\n\u001B[32m    179\u001B[39m         \u001B[38;5;28;01mbreak\u001B[39;00m\n",
      "\u001B[36mFile \u001B[39m\u001B[32mE:\\agentic_ai\\projects\\agents_blank\\.venv\\Lib\\site-packages\\httpcore\\_async\\http11.py:217\u001B[39m, in \u001B[36mAsyncHTTP11Connection._receive_event\u001B[39m\u001B[34m(self, timeout)\u001B[39m\n\u001B[32m    214\u001B[39m     event = \u001B[38;5;28mself\u001B[39m._h11_state.next_event()\n\u001B[32m    216\u001B[39m \u001B[38;5;28;01mif\u001B[39;00m event \u001B[38;5;129;01mis\u001B[39;00m h11.NEED_DATA:\n\u001B[32m--> \u001B[39m\u001B[32m217\u001B[39m     data = \u001B[38;5;28;01mawait\u001B[39;00m \u001B[38;5;28mself\u001B[39m._network_stream.read(\n\u001B[32m    218\u001B[39m         \u001B[38;5;28mself\u001B[39m.READ_NUM_BYTES, timeout=timeout\n\u001B[32m    219\u001B[39m     )\n\u001B[32m    221\u001B[39m     \u001B[38;5;66;03m# If we feed this case through h11 we'll raise an exception like:\u001B[39;00m\n\u001B[32m    222\u001B[39m     \u001B[38;5;66;03m#\u001B[39;00m\n\u001B[32m    223\u001B[39m     \u001B[38;5;66;03m#     httpcore.RemoteProtocolError: can't handle event type\u001B[39;00m\n\u001B[32m   (...)\u001B[39m\u001B[32m    227\u001B[39m     \u001B[38;5;66;03m# perspective. Instead we handle this case distinctly and treat\u001B[39;00m\n\u001B[32m    228\u001B[39m     \u001B[38;5;66;03m# it as a ConnectError.\u001B[39;00m\n\u001B[32m    229\u001B[39m     \u001B[38;5;28;01mif\u001B[39;00m data == \u001B[33mb\u001B[39m\u001B[33m\"\u001B[39m\u001B[33m\"\u001B[39m \u001B[38;5;129;01mand\u001B[39;00m \u001B[38;5;28mself\u001B[39m._h11_state.their_state == h11.SEND_RESPONSE:\n",
      "\u001B[36mFile \u001B[39m\u001B[32mE:\\agentic_ai\\projects\\agents_blank\\.venv\\Lib\\site-packages\\httpcore\\_backends\\anyio.py:35\u001B[39m, in \u001B[36mAnyIOStream.read\u001B[39m\u001B[34m(self, max_bytes, timeout)\u001B[39m\n\u001B[32m     33\u001B[39m \u001B[38;5;28;01mwith\u001B[39;00m anyio.fail_after(timeout):\n\u001B[32m     34\u001B[39m     \u001B[38;5;28;01mtry\u001B[39;00m:\n\u001B[32m---> \u001B[39m\u001B[32m35\u001B[39m         \u001B[38;5;28;01mreturn\u001B[39;00m \u001B[38;5;28;01mawait\u001B[39;00m \u001B[38;5;28mself\u001B[39m._stream.receive(max_bytes=max_bytes)\n\u001B[32m     36\u001B[39m     \u001B[38;5;28;01mexcept\u001B[39;00m anyio.EndOfStream:  \u001B[38;5;66;03m# pragma: nocover\u001B[39;00m\n\u001B[32m     37\u001B[39m         \u001B[38;5;28;01mreturn\u001B[39;00m \u001B[33mb\u001B[39m\u001B[33m\"\u001B[39m\u001B[33m\"\u001B[39m\n",
      "\u001B[36mFile \u001B[39m\u001B[32mE:\\agentic_ai\\projects\\agents_blank\\.venv\\Lib\\site-packages\\anyio\\_backends\\_asyncio.py:1254\u001B[39m, in \u001B[36mSocketStream.receive\u001B[39m\u001B[34m(self, max_bytes)\u001B[39m\n\u001B[32m   1248\u001B[39m \u001B[38;5;28;01mif\u001B[39;00m (\n\u001B[32m   1249\u001B[39m     \u001B[38;5;129;01mnot\u001B[39;00m \u001B[38;5;28mself\u001B[39m._protocol.read_event.is_set()\n\u001B[32m   1250\u001B[39m     \u001B[38;5;129;01mand\u001B[39;00m \u001B[38;5;129;01mnot\u001B[39;00m \u001B[38;5;28mself\u001B[39m._transport.is_closing()\n\u001B[32m   1251\u001B[39m     \u001B[38;5;129;01mand\u001B[39;00m \u001B[38;5;129;01mnot\u001B[39;00m \u001B[38;5;28mself\u001B[39m._protocol.is_at_eof\n\u001B[32m   1252\u001B[39m ):\n\u001B[32m   1253\u001B[39m     \u001B[38;5;28mself\u001B[39m._transport.resume_reading()\n\u001B[32m-> \u001B[39m\u001B[32m1254\u001B[39m     \u001B[38;5;28;01mawait\u001B[39;00m \u001B[38;5;28mself\u001B[39m._protocol.read_event.wait()\n\u001B[32m   1255\u001B[39m     \u001B[38;5;28mself\u001B[39m._transport.pause_reading()\n\u001B[32m   1256\u001B[39m \u001B[38;5;28;01melse\u001B[39;00m:\n",
      "\u001B[36mFile \u001B[39m\u001B[32mD:\\miniconda3\\Lib\\asyncio\\locks.py:212\u001B[39m, in \u001B[36mEvent.wait\u001B[39m\u001B[34m(self)\u001B[39m\n\u001B[32m    210\u001B[39m \u001B[38;5;28mself\u001B[39m._waiters.append(fut)\n\u001B[32m    211\u001B[39m \u001B[38;5;28;01mtry\u001B[39;00m:\n\u001B[32m--> \u001B[39m\u001B[32m212\u001B[39m     \u001B[38;5;28;01mawait\u001B[39;00m fut\n\u001B[32m    213\u001B[39m     \u001B[38;5;28;01mreturn\u001B[39;00m \u001B[38;5;28;01mTrue\u001B[39;00m\n\u001B[32m    214\u001B[39m \u001B[38;5;28;01mfinally\u001B[39;00m:\n",
      "\u001B[31mCancelledError\u001B[39m: "
     ]
    }
   ],
   "execution_count": 15
  },
  {
   "metadata": {},
   "cell_type": "markdown",
   "source": [
    "## Check out the trace:\n",
    "\n",
    "https://platform.openai.com/traces"
   ],
   "id": "b1c0f0d9f698acc8"
  },
  {
   "metadata": {},
   "cell_type": "markdown",
   "source": "### Guardrail",
   "id": "163c6277b91ecf"
  },
  {
   "metadata": {
    "ExecuteTime": {
     "end_time": "2025-08-23T09:25:20.061043Z",
     "start_time": "2025-08-23T09:25:20.050781Z"
    }
   },
   "cell_type": "code",
   "source": [
    "class NameCheckOutput(BaseModel):\n",
    "    is_name_in_message: bool\n",
    "    name: str\n",
    "\n",
    "guardrail_agent = Agent(\n",
    "    name=\"Name check\",\n",
    "    instructions=\"Check if the user is including someone's personal name in what they want you to do.\",\n",
    "    output_type=NameCheckOutput,\n",
    "    model=\"gpt-4o-mini\"\n",
    ")"
   ],
   "id": "c12aac83420ec7aa",
   "outputs": [],
   "execution_count": 18
  },
  {
   "metadata": {
    "ExecuteTime": {
     "end_time": "2025-08-23T09:25:20.785329Z",
     "start_time": "2025-08-23T09:25:20.777596Z"
    }
   },
   "cell_type": "code",
   "source": [
    "@input_guardrail\n",
    "async def guardrail_against_name(ctx, agent, message):\n",
    "    result = await Runner.run(guardrail_agent, message, context=ctx.context)\n",
    "    is_name_in_message = result.final_output.is_name_in_message\n",
    "    return GuardrailFunctionOutput(output_info={\"found_name\": result.final_output},tripwire_triggered=is_name_in_message)"
   ],
   "id": "b2ce0b1d67abe314",
   "outputs": [],
   "execution_count": 19
  },
  {
   "metadata": {
    "ExecuteTime": {
     "end_time": "2025-08-23T09:25:24.372966Z",
     "start_time": "2025-08-23T09:25:21.520830Z"
    }
   },
   "cell_type": "code",
   "source": [
    "careful_sales_manager = Agent(\n",
    "    name=\"Sales Manager\",\n",
    "    instructions=sales_manager_instructions,\n",
    "    tools=tools,\n",
    "    handoffs=[emailer_agent],\n",
    "    model=\"gpt-4o-mini\",\n",
    "    input_guardrails=[guardrail_against_name]\n",
    "    )\n",
    "\n",
    "message = \"Send out a cold sales email addressed to Dear CEO from Alice\"\n",
    "\n",
    "with trace(\"Protected Automated SDR\"):\n",
    "    result = await Runner.run(careful_sales_manager, message)"
   ],
   "id": "9d1f59b550ef889d",
   "outputs": [
    {
     "ename": "InputGuardrailTripwireTriggered",
     "evalue": "Guardrail InputGuardrail triggered tripwire",
     "output_type": "error",
     "traceback": [
      "\u001B[31m---------------------------------------------------------------------------\u001B[39m",
      "\u001B[31mInputGuardrailTripwireTriggered\u001B[39m           Traceback (most recent call last)",
      "\u001B[36mCell\u001B[39m\u001B[36m \u001B[39m\u001B[32mIn[20]\u001B[39m\u001B[32m, line 13\u001B[39m\n\u001B[32m     10\u001B[39m message = \u001B[33m\"\u001B[39m\u001B[33mSend out a cold sales email addressed to Dear CEO from Alice\u001B[39m\u001B[33m\"\u001B[39m\n\u001B[32m     12\u001B[39m \u001B[38;5;28;01mwith\u001B[39;00m trace(\u001B[33m\"\u001B[39m\u001B[33mProtected Automated SDR\u001B[39m\u001B[33m\"\u001B[39m):\n\u001B[32m---> \u001B[39m\u001B[32m13\u001B[39m     result = \u001B[38;5;28;01mawait\u001B[39;00m Runner.run(careful_sales_manager, message)\n",
      "\u001B[36mFile \u001B[39m\u001B[32mE:\\agentic_ai\\projects\\agents_blank\\.venv\\Lib\\site-packages\\agents\\run.py:237\u001B[39m, in \u001B[36mRunner.run\u001B[39m\u001B[34m(cls, starting_agent, input, context, max_turns, hooks, run_config, previous_response_id, session)\u001B[39m\n\u001B[32m    210\u001B[39m \u001B[38;5;250m\u001B[39m\u001B[33;03m\"\"\"Run a workflow starting at the given agent. The agent will run in a loop until a final\u001B[39;00m\n\u001B[32m    211\u001B[39m \u001B[33;03moutput is generated. The loop runs like so:\u001B[39;00m\n\u001B[32m    212\u001B[39m \u001B[33;03m1. The agent is invoked with the given input.\u001B[39;00m\n\u001B[32m   (...)\u001B[39m\u001B[32m    234\u001B[39m \u001B[33;03m    agent. Agents may perform handoffs, so we don't know the specific type of the output.\u001B[39;00m\n\u001B[32m    235\u001B[39m \u001B[33;03m\"\"\"\u001B[39;00m\n\u001B[32m    236\u001B[39m runner = DEFAULT_AGENT_RUNNER\n\u001B[32m--> \u001B[39m\u001B[32m237\u001B[39m \u001B[38;5;28;01mreturn\u001B[39;00m \u001B[38;5;28;01mawait\u001B[39;00m runner.run(\n\u001B[32m    238\u001B[39m     starting_agent,\n\u001B[32m    239\u001B[39m     \u001B[38;5;28minput\u001B[39m,\n\u001B[32m    240\u001B[39m     context=context,\n\u001B[32m    241\u001B[39m     max_turns=max_turns,\n\u001B[32m    242\u001B[39m     hooks=hooks,\n\u001B[32m    243\u001B[39m     run_config=run_config,\n\u001B[32m    244\u001B[39m     previous_response_id=previous_response_id,\n\u001B[32m    245\u001B[39m     session=session,\n\u001B[32m    246\u001B[39m )\n",
      "\u001B[36mFile \u001B[39m\u001B[32mE:\\agentic_ai\\projects\\agents_blank\\.venv\\Lib\\site-packages\\agents\\run.py:443\u001B[39m, in \u001B[36mAgentRunner.run\u001B[39m\u001B[34m(self, starting_agent, input, **kwargs)\u001B[39m\n\u001B[32m    438\u001B[39m logger.debug(\n\u001B[32m    439\u001B[39m     \u001B[33mf\u001B[39m\u001B[33m\"\u001B[39m\u001B[33mRunning agent \u001B[39m\u001B[38;5;132;01m{\u001B[39;00mcurrent_agent.name\u001B[38;5;132;01m}\u001B[39;00m\u001B[33m (turn \u001B[39m\u001B[38;5;132;01m{\u001B[39;00mcurrent_turn\u001B[38;5;132;01m}\u001B[39;00m\u001B[33m)\u001B[39m\u001B[33m\"\u001B[39m,\n\u001B[32m    440\u001B[39m )\n\u001B[32m    442\u001B[39m \u001B[38;5;28;01mif\u001B[39;00m current_turn == \u001B[32m1\u001B[39m:\n\u001B[32m--> \u001B[39m\u001B[32m443\u001B[39m     input_guardrail_results, turn_result = \u001B[38;5;28;01mawait\u001B[39;00m asyncio.gather(\n\u001B[32m    444\u001B[39m         \u001B[38;5;28mself\u001B[39m._run_input_guardrails(\n\u001B[32m    445\u001B[39m             starting_agent,\n\u001B[32m    446\u001B[39m             starting_agent.input_guardrails\n\u001B[32m    447\u001B[39m             + (run_config.input_guardrails \u001B[38;5;129;01mor\u001B[39;00m []),\n\u001B[32m    448\u001B[39m             _copy_str_or_list(prepared_input),\n\u001B[32m    449\u001B[39m             context_wrapper,\n\u001B[32m    450\u001B[39m         ),\n\u001B[32m    451\u001B[39m         \u001B[38;5;28mself\u001B[39m._run_single_turn(\n\u001B[32m    452\u001B[39m             agent=current_agent,\n\u001B[32m    453\u001B[39m             all_tools=all_tools,\n\u001B[32m    454\u001B[39m             original_input=original_input,\n\u001B[32m    455\u001B[39m             generated_items=generated_items,\n\u001B[32m    456\u001B[39m             hooks=hooks,\n\u001B[32m    457\u001B[39m             context_wrapper=context_wrapper,\n\u001B[32m    458\u001B[39m             run_config=run_config,\n\u001B[32m    459\u001B[39m             should_run_agent_start_hooks=should_run_agent_start_hooks,\n\u001B[32m    460\u001B[39m             tool_use_tracker=tool_use_tracker,\n\u001B[32m    461\u001B[39m             previous_response_id=previous_response_id,\n\u001B[32m    462\u001B[39m         ),\n\u001B[32m    463\u001B[39m     )\n\u001B[32m    464\u001B[39m \u001B[38;5;28;01melse\u001B[39;00m:\n\u001B[32m    465\u001B[39m     turn_result = \u001B[38;5;28;01mawait\u001B[39;00m \u001B[38;5;28mself\u001B[39m._run_single_turn(\n\u001B[32m    466\u001B[39m         agent=current_agent,\n\u001B[32m    467\u001B[39m         all_tools=all_tools,\n\u001B[32m   (...)\u001B[39m\u001B[32m    475\u001B[39m         previous_response_id=previous_response_id,\n\u001B[32m    476\u001B[39m     )\n",
      "\u001B[36mFile \u001B[39m\u001B[32mE:\\agentic_ai\\projects\\agents_blank\\.venv\\Lib\\site-packages\\agents\\run.py:1184\u001B[39m, in \u001B[36mAgentRunner._run_input_guardrails\u001B[39m\u001B[34m(cls, agent, guardrails, input, context)\u001B[39m\n\u001B[32m   1177\u001B[39m         t.cancel()\n\u001B[32m   1178\u001B[39m     _error_tracing.attach_error_to_current_span(\n\u001B[32m   1179\u001B[39m         SpanError(\n\u001B[32m   1180\u001B[39m             message=\u001B[33m\"\u001B[39m\u001B[33mGuardrail tripwire triggered\u001B[39m\u001B[33m\"\u001B[39m,\n\u001B[32m   1181\u001B[39m             data={\u001B[33m\"\u001B[39m\u001B[33mguardrail\u001B[39m\u001B[33m\"\u001B[39m: result.guardrail.get_name()},\n\u001B[32m   1182\u001B[39m         )\n\u001B[32m   1183\u001B[39m     )\n\u001B[32m-> \u001B[39m\u001B[32m1184\u001B[39m     \u001B[38;5;28;01mraise\u001B[39;00m InputGuardrailTripwireTriggered(result)\n\u001B[32m   1185\u001B[39m \u001B[38;5;28;01melse\u001B[39;00m:\n\u001B[32m   1186\u001B[39m     guardrail_results.append(result)\n",
      "\u001B[31mInputGuardrailTripwireTriggered\u001B[39m: Guardrail InputGuardrail triggered tripwire"
     ]
    }
   ],
   "execution_count": 20
  },
  {
   "metadata": {
    "ExecuteTime": {
     "end_time": "2025-08-23T09:30:22.854313Z",
     "start_time": "2025-08-23T09:27:52.280838Z"
    }
   },
   "cell_type": "code",
   "source": [
    "message = \"Send out a cold sales email addressed to Dear CEO from Head of Business Development\"\n",
    "\n",
    "with trace(\"Protected Automated SDR\"):\n",
    "    result = await Runner.run(careful_sales_manager, message)"
   ],
   "id": "a94cd6fb6600ef2",
   "outputs": [],
   "execution_count": 21
  },
  {
   "metadata": {},
   "cell_type": "code",
   "outputs": [],
   "execution_count": null,
   "source": "",
   "id": "fbad6a727efb643e"
  }
 ],
 "metadata": {
  "kernelspec": {
   "display_name": "Python (uv)",
   "language": "python",
   "name": "uv-env"
  },
  "language_info": {
   "codemirror_mode": {
    "name": "ipython",
    "version": 2
   },
   "file_extension": ".py",
   "mimetype": "text/x-python",
   "name": "python",
   "nbconvert_exporter": "python",
   "pygments_lexer": "ipython2",
   "version": "2.7.6"
  }
 },
 "nbformat": 4,
 "nbformat_minor": 5
}
