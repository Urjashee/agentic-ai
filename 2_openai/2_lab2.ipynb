{
 "cells": [
  {
   "cell_type": "code",
   "id": "initial_id",
   "metadata": {
    "collapsed": true,
    "ExecuteTime": {
     "end_time": "2025-08-23T05:04:33.139794Z",
     "start_time": "2025-08-23T05:04:28.641967Z"
    }
   },
   "source": [
    "from dotenv import load_dotenv\n",
    "from agents import Agent, Runner, trace, function_tool\n",
    "from openai.types.responses import ResponseTextDeltaEvent\n",
    "from typing import Dict\n",
    "import sendgrid\n",
    "import os\n",
    "from sendgrid.helpers.mail import Mail, Email, To, Content\n",
    "import asyncio"
   ],
   "outputs": [],
   "execution_count": 1
  },
  {
   "metadata": {
    "ExecuteTime": {
     "end_time": "2025-08-23T05:04:43.446Z",
     "start_time": "2025-08-23T05:04:43.432673Z"
    }
   },
   "cell_type": "code",
   "source": "load_dotenv(override=True)",
   "id": "7be9de72d7a44f0e",
   "outputs": [
    {
     "data": {
      "text/plain": [
       "True"
      ]
     },
     "execution_count": 2,
     "metadata": {},
     "output_type": "execute_result"
    }
   ],
   "execution_count": 2
  },
  {
   "metadata": {
    "ExecuteTime": {
     "end_time": "2025-08-23T05:05:39.462579Z",
     "start_time": "2025-08-23T05:05:38.132378Z"
    }
   },
   "cell_type": "code",
   "source": [
    "# Let's just check emails are working for you\n",
    "\n",
    "def send_test_email():\n",
    "    sg = sendgrid.SendGridAPIClient(api_key=os.environ.get('SENDGRID_API_KEY'))\n",
    "    from_email = Email(\"info@nesoftech.com\")  # Change to your verified sender\n",
    "    to_email = To(\"urjashee09@gmail.com\")  # Change to your recipient\n",
    "    content = Content(\"text/plain\", \"This is an important test email\")\n",
    "    mail = Mail(from_email, to_email, \"Test email\", content).get()\n",
    "    response = sg.client.mail.send.post(request_body=mail)\n",
    "    print(response.status_code)\n",
    "\n",
    "send_test_email()"
   ],
   "id": "2fd12b5e803559d9",
   "outputs": [
    {
     "name": "stdout",
     "output_type": "stream",
     "text": [
      "202\n"
     ]
    }
   ],
   "execution_count": 3
  },
  {
   "metadata": {
    "ExecuteTime": {
     "end_time": "2025-08-23T05:06:05.215556Z",
     "start_time": "2025-08-23T05:06:05.210002Z"
    }
   },
   "cell_type": "code",
   "source": [
    "instructions1 = \"You are a sales agent working for ComplAI, \\\n",
    "a company that provides a SaaS tool for ensuring SOC2 compliance and preparing for audits, powered by AI. \\\n",
    "You write professional, serious cold emails.\"\n",
    "\n",
    "instructions2 = \"You are a humorous, engaging sales agent working for ComplAI, \\\n",
    "a company that provides a SaaS tool for ensuring SOC2 compliance and preparing for audits, powered by AI. \\\n",
    "You write witty, engaging cold emails that are likely to get a response.\"\n",
    "\n",
    "instructions3 = \"You are a busy sales agent working for ComplAI, \\\n",
    "a company that provides a SaaS tool for ensuring SOC2 compliance and preparing for audits, powered by AI. \\\n",
    "You write concise, to the point cold emails.\""
   ],
   "id": "f5b9642745c7a207",
   "outputs": [],
   "execution_count": 4
  },
  {
   "metadata": {
    "ExecuteTime": {
     "end_time": "2025-08-23T05:16:02.454740Z",
     "start_time": "2025-08-23T05:16:02.447972Z"
    }
   },
   "cell_type": "code",
   "source": [
    "sales_agent1 = Agent(\n",
    "    name=\"Professional sales agent\",\n",
    "    instructions=instructions1,\n",
    "    model=\"gpt-4o-mini\"\n",
    ")\n",
    "\n",
    "sales_agent2 = Agent(\n",
    "    name=\"Engaging sales agent\",\n",
    "    instructions=instructions2,\n",
    "    model=\"gpt-4o-mini\"\n",
    ")\n",
    "\n",
    "sales_agent3 = Agent(\n",
    "    name=\"Busy sales agent\",\n",
    "    instructions=instructions3,\n",
    "    model=\"gpt-4o-mini\"\n",
    ")"
   ],
   "id": "2f74b46f99c67940",
   "outputs": [],
   "execution_count": 5
  },
  {
   "metadata": {
    "ExecuteTime": {
     "end_time": "2025-08-23T05:18:18.847677Z",
     "start_time": "2025-08-23T05:18:13.563383Z"
    }
   },
   "cell_type": "code",
   "source": [
    "result = Runner.run_streamed(sales_agent1, input=\"Write a cold sales email\")\n",
    "async for event in result.stream_events():\n",
    "    if event.type == \"raw_response_event\" and isinstance(event.data, ResponseTextDeltaEvent):\n",
    "        print(event.data.delta, end=\"\", flush=True)"
   ],
   "id": "ca07e454b7ef5a24",
   "outputs": [
    {
     "name": "stdout",
     "output_type": "stream",
     "text": [
      "Subject: Simplify Your SOC 2 Compliance Journey with ComplAI\n",
      "\n",
      "Hi [Recipient's Name],\n",
      "\n",
      "I hope this message finds you well.\n",
      "\n",
      "Navigating SOC 2 compliance can be a daunting task, often requiring significant time and resources. At ComplAI, we understand the challenges companies face when preparing for audits, which is why we've developed a powerful AI-driven SaaS tool designed to streamline the compliance process.\n",
      "\n",
      "With ComplAI, you can:\n",
      "\n",
      "- **Automate Documentation**: Reduce the manual workload of creating and managing necessary documentation.\n",
      "- **Continuous Monitoring**: Keep track of compliance status in real-time, ensuring you’re always audit-ready.\n",
      "- **Expert Guidance**: Leverage our AI’s insights to address vulnerabilities proactively.\n",
      "\n",
      "By using our platform, companies like [Client Example] have increased efficiency in their compliance frameworks, enabling them to focus more on core business activities rather than compliance tasks.\n",
      "\n",
      "I would love the opportunity to discuss how ComplAI can support your organization in achieving and maintaining SOC 2 compliance seamlessly. Are you available for a brief call this week?\n",
      "\n",
      "Looking forward to your response.\n",
      "\n",
      "Best regards,\n",
      "\n",
      "[Your Name]  \n",
      "[Your Job Title]  \n",
      "ComplAI  \n",
      "[Your Phone Number]  \n",
      "[Your LinkedIn Profile]  \n",
      "[Website URL]  "
     ]
    }
   ],
   "execution_count": 7
  },
  {
   "metadata": {
    "ExecuteTime": {
     "end_time": "2025-08-23T05:19:35.517513Z",
     "start_time": "2025-08-23T05:19:29.346138Z"
    }
   },
   "cell_type": "code",
   "source": [
    "message = \"Write a cold sales email\"\n",
    "\n",
    "with trace(\"Parallel cold emails\"):\n",
    "    results = await asyncio.gather(\n",
    "        Runner.run(sales_agent1, message),\n",
    "        Runner.run(sales_agent2, message),\n",
    "        Runner.run(sales_agent3, message),\n",
    "    )"
   ],
   "id": "11adf0fc58124b3a",
   "outputs": [],
   "execution_count": 8
  },
  {
   "metadata": {
    "ExecuteTime": {
     "end_time": "2025-08-23T05:20:35.399029Z",
     "start_time": "2025-08-23T05:20:35.393488Z"
    }
   },
   "cell_type": "code",
   "source": [
    "outputs = [result.final_output for result in results]\n",
    "for output in outputs:\n",
    "    print(output + \"\\n\\n\")"
   ],
   "id": "37724f4c5b236d3f",
   "outputs": [
    {
     "name": "stdout",
     "output_type": "stream",
     "text": [
      "Subject: Simplify Your SOC 2 Compliance Process with ComplAI\n",
      "\n",
      "Dear [Recipient's Name],\n",
      "\n",
      "I hope this message finds you well. My name is [Your Name], and I'm reaching out to introduce you to ComplAI — a cutting-edge SaaS solution designed to streamline your SOC 2 compliance processes.\n",
      "\n",
      "In today’s regulatory landscape, maintaining compliance can be a complex and time-consuming task. Our AI-powered tool not only simplifies the compliance journey but also prepares your organization for audits with ease. ComplAI offers features such as:\n",
      "\n",
      "- Automated documentation and evidence collection\n",
      "- Real-time compliance tracking\n",
      "- Smart integrations with your existing systems\n",
      "\n",
      "By using ComplAI, you can significantly reduce the time spent on compliance tasks, allowing your team to focus on strategic initiatives and growth.\n",
      "\n",
      "I would love the opportunity to discuss how ComplAI can specifically benefit [Recipient's Company Name]. Are you available for a brief call next week?\n",
      "\n",
      "Thank you for considering this opportunity. I look forward to your response.\n",
      "\n",
      "Best regards,\n",
      "\n",
      "[Your Name]  \n",
      "[Your Title]  \n",
      "ComplAI  \n",
      "[Your Contact Information]  \n",
      "[Company Website]  \n",
      "\n",
      "\n",
      "Subject: Your SOC2 Compliance Doesn’t Have to Be a Circus 🤹‍♂️\n",
      "\n",
      "Hi [First Name],\n",
      "\n",
      "Hope you’re not juggling too many compliance tasks today! 🎪\n",
      "\n",
      "At ComplAI, we believe that navigating SOC2 compliance shouldn’t require a tightrope act. Our AI-powered SaaS tool is like having a personal assistant who’s not just good at preparing for audits, but also understands the fancy footwork needed to keep your compliance game strong.\n",
      "\n",
      "Imagine this: no more frantic last-minute paperwork, no more sleepless nights worrying if you’ve checked off every box. With ComplAI, you’ll be able to strut into your audit confidently—like a lion tamer, but without the whips and chairs. 🦁\n",
      "\n",
      "Want to see how we can turn your compliance woes into a smooth performance? I’d love to chat! Let me know if you have 15 minutes this week to explore how we can make compliance as easy as pie (though we can’t help with the baking).\n",
      "\n",
      "Looking forward to hearing from you!\n",
      "\n",
      "Best,  \n",
      "[Your Name]  \n",
      "Your Compliance Cheerleader at ComplAI  \n",
      "[Your Contact Information]  \n",
      "P.S. I promise to keep the circus puns to a minimum! (But no promises on the fun.) 🎉\n",
      "\n",
      "\n",
      "Subject: Simplify Your SOC 2 Compliance Process\n",
      "\n",
      "Hi [Recipient's Name],\n",
      "\n",
      "I hope this message finds you well. I’m reaching out to introduce ComplAI, a cutting-edge SaaS tool designed to streamline your SOC 2 compliance and audit preparations.\n",
      "\n",
      "Our AI-powered platform simplifies the entire process, helping you save time and reduce stress. With automated audits and continuous monitoring, you can focus on growing your business while we handle compliance.\n",
      "\n",
      "Would you be open to a quick call to explore how we can support your compliance needs?\n",
      "\n",
      "Best,  \n",
      "[Your Name]  \n",
      "[Your Position]  \n",
      "ComplAI  \n",
      "[Your Contact Information]\n",
      "\n",
      "\n"
     ]
    }
   ],
   "execution_count": 10
  },
  {
   "metadata": {
    "ExecuteTime": {
     "end_time": "2025-08-23T05:21:31.386867Z",
     "start_time": "2025-08-23T05:21:31.380232Z"
    }
   },
   "cell_type": "code",
   "source": [
    "sales_picker = Agent(\n",
    "    name=\"sales_picker\",\n",
    "    instructions=\"You pick the best cold sales email from the given options. \\\n",
    "Imagine you are a customer and pick the one you are most likely to respond to. \\\n",
    "Do not give an explanation; reply with the selected email only.\",\n",
    "    model=\"gpt-4o-mini\"\n",
    ")"
   ],
   "id": "7b65b0a0de79ec3b",
   "outputs": [],
   "execution_count": 11
  },
  {
   "metadata": {
    "ExecuteTime": {
     "end_time": "2025-08-23T05:22:43.410854Z",
     "start_time": "2025-08-23T05:22:26.048109Z"
    }
   },
   "cell_type": "code",
   "source": [
    "message = \"Write a cold sales email\"\n",
    "\n",
    "with trace(\"election from sales people\"):\n",
    "    results = await asyncio.gather(\n",
    "        Runner.run(sales_agent1, message),\n",
    "        Runner.run(sales_agent2, message),\n",
    "        Runner.run(sales_agent3, message),\n",
    "    )\n",
    "    outputs = [result.final_output for result in results]\n",
    "\n",
    "    emails = \"Cold sales emails:\\n\\n\" + \"\\n\\nEmail:\\n\\n\".join(outputs)\n",
    "\n",
    "    best = await Runner.run(sales_picker, emails)\n",
    "\n",
    "    print(f\"Best sales email:\\n{best.final_output}\")"
   ],
   "id": "5c8a4d8ef7d7ce17",
   "outputs": [
    {
     "name": "stdout",
     "output_type": "stream",
     "text": [
      "Best sales email:\n",
      "Subject: ✨ Make SOC 2 Compliance as Easy as Pie (Without the Calories) ✨\n",
      "\n",
      "Hi [Recipient's Name],\n",
      "\n",
      "Hope you're having a day that’s at least 75% as great as a Friday in June! 🌞\n",
      "\n",
      "I’m reaching out to chat about something that might not be as exciting as your last team lunch (no free tacos here), but it’s equally important: SOC 2 compliance! \n",
      "\n",
      "Here at ComplAI, we've got a SaaS tool that turns the compliance chaos into a neatly organized filing cabinet — powered by AI, of course. Think of it as your trusty sidekick, minus the cape and tights! 🦸‍♂️ \n",
      "\n",
      "With our tool, you can:\n",
      "- Breeze through audits like they’re a walk in the park (complete with ice cream).\n",
      "- Reduce compliance prep time by up to 70%. Yes, you heard that right!\n",
      "- Get peace of mind knowing you’re meeting those pesky requirements (and maybe even take a midday nap).\n",
      "\n",
      "If you can find a few minutes this week, I’d love to chat about making SOC 2 compliance a breeze for your team. After all, wouldn’t you rather focus on your next big win instead of wrestling with documentation?\n",
      "\n",
      "Looking forward to hearing from you — let's turn compliance into a piece of cake (or pie, if that’s your vibe)!\n",
      "\n",
      "Best,  \n",
      "[Your Name]  \n",
      "[Your Title]  \n",
      "ComplAI  \n",
      "P.S. I won't judge your dessert preferences. 🍰\n"
     ]
    }
   ],
   "execution_count": 12
  },
  {
   "metadata": {},
   "cell_type": "markdown",
   "source": [
    "## Part 2: use of tools\n",
    "\n",
    "Now we will add a tool to the mix.\n",
    "\n",
    "Remember all that json boilerplate and the `handle_tool_calls()` function with the if logic.."
   ],
   "id": "a1a6de774163a632"
  },
  {
   "metadata": {
    "ExecuteTime": {
     "end_time": "2025-08-23T05:25:01.022345Z",
     "start_time": "2025-08-23T05:25:01.016075Z"
    }
   },
   "cell_type": "code",
   "source": [
    "sales_agent1 = Agent(\n",
    "        name=\"Professional Sales Agent\",\n",
    "        instructions=instructions1,\n",
    "        model=\"gpt-4o-mini\",\n",
    ")\n",
    "\n",
    "sales_agent2 = Agent(\n",
    "        name=\"Engaging Sales Agent\",\n",
    "        instructions=instructions2,\n",
    "        model=\"gpt-4o-mini\",\n",
    ")\n",
    "\n",
    "sales_agent3 = Agent(\n",
    "        name=\"Busy Sales Agent\",\n",
    "        instructions=instructions3,\n",
    "        model=\"gpt-4o-mini\",\n",
    ")"
   ],
   "id": "44c10b14780033b8",
   "outputs": [],
   "execution_count": 13
  },
  {
   "metadata": {
    "ExecuteTime": {
     "end_time": "2025-08-23T05:25:22.603390Z",
     "start_time": "2025-08-23T05:25:22.597026Z"
    }
   },
   "cell_type": "code",
   "source": "sales_agent1\n",
   "id": "7fe214ac0a4016c3",
   "outputs": [
    {
     "data": {
      "text/plain": [
       "Agent(name='Professional Sales Agent', handoff_description=None, tools=[], mcp_servers=[], mcp_config={}, instructions='You are a sales agent working for ComplAI, a company that provides a SaaS tool for ensuring SOC2 compliance and preparing for audits, powered by AI. You write professional, serious cold emails.', prompt=None, handoffs=[], model='gpt-4o-mini', model_settings=ModelSettings(temperature=None, top_p=None, frequency_penalty=None, presence_penalty=None, tool_choice=None, parallel_tool_calls=None, truncation=None, max_tokens=None, reasoning=None, verbosity=None, metadata=None, store=None, include_usage=None, response_include=None, top_logprobs=None, extra_query=None, extra_body=None, extra_headers=None, extra_args=None), input_guardrails=[], output_guardrails=[], output_type=None, hooks=None, tool_use_behavior='run_llm_again', reset_tool_choice=True)"
      ]
     },
     "execution_count": 14,
     "metadata": {},
     "output_type": "execute_result"
    }
   ],
   "execution_count": 14
  },
  {
   "metadata": {
    "ExecuteTime": {
     "end_time": "2025-08-23T05:33:59.761010Z",
     "start_time": "2025-08-23T05:33:59.749270Z"
    }
   },
   "cell_type": "code",
   "source": [
    "@function_tool\n",
    "def send_email(body: str):\n",
    "    \"\"\" Send out an email with the given body to all sales prospects \"\"\"\n",
    "    sg = sendgrid.SendGridAPIClient(api_key=os.environ.get('SENDGRID_API_KEY'))\n",
    "    from_email = Email(\"info@nesoftech.com\")  # Change to your verified sender\n",
    "    to_email = To(\"urjashee09@gmail.com\")  # Change to your recipient\n",
    "    content = Content(\"text/plain\", body)\n",
    "    mail = Mail(from_email, to_email, \"Sales email\", content).get()\n",
    "    sg.client.mail.send.post(request_body=mail)\n",
    "    return {\"status\": \"success\"}"
   ],
   "id": "44bf862979de44d9",
   "outputs": [],
   "execution_count": 25
  },
  {
   "metadata": {
    "ExecuteTime": {
     "end_time": "2025-08-23T05:34:00.886047Z",
     "start_time": "2025-08-23T05:34:00.878578Z"
    }
   },
   "cell_type": "code",
   "source": "send_email",
   "id": "190f7690445b073e",
   "outputs": [
    {
     "data": {
      "text/plain": [
       "FunctionTool(name='send_email', description='Send out an email with the given body to all sales prospects', params_json_schema={'properties': {'body': {'title': 'Body', 'type': 'string'}}, 'required': ['body'], 'title': 'send_email_args', 'type': 'object', 'additionalProperties': False}, on_invoke_tool=<function function_tool.<locals>._create_function_tool.<locals>._on_invoke_tool at 0x0000017D912E5B20>, strict_json_schema=True, is_enabled=True)"
      ]
     },
     "execution_count": 26,
     "metadata": {},
     "output_type": "execute_result"
    }
   ],
   "execution_count": 26
  },
  {
   "metadata": {},
   "cell_type": "markdown",
   "source": "### And you can also convert an Agent into a tool",
   "id": "4d55d5334762d57f"
  },
  {
   "metadata": {
    "ExecuteTime": {
     "end_time": "2025-08-23T05:34:02.645224Z",
     "start_time": "2025-08-23T05:34:02.630691Z"
    }
   },
   "cell_type": "code",
   "source": [
    "tool1 = sales_agent1.as_tool(tool_name=\"sales_agent1\", tool_description=\"Write a cold sales email\")\n",
    "tool1"
   ],
   "id": "55aa1bdab7729c72",
   "outputs": [
    {
     "data": {
      "text/plain": [
       "FunctionTool(name='sales_agent1', description='Write a cold sales email', params_json_schema={'properties': {'input': {'title': 'Input', 'type': 'string'}}, 'required': ['input'], 'title': 'sales_agent1_args', 'type': 'object', 'additionalProperties': False}, on_invoke_tool=<function function_tool.<locals>._create_function_tool.<locals>._on_invoke_tool at 0x0000017D914EAB60>, strict_json_schema=True, is_enabled=True)"
      ]
     },
     "execution_count": 27,
     "metadata": {},
     "output_type": "execute_result"
    }
   ],
   "execution_count": 27
  },
  {
   "metadata": {},
   "cell_type": "markdown",
   "source": [
    "### So now we can gather all the tools together:\n",
    "\n",
    "A tool for each of our 3 email-writing agents\n",
    "\n",
    "And a tool for our function to send emails"
   ],
   "id": "c19ed507e4349d63"
  },
  {
   "metadata": {
    "ExecuteTime": {
     "end_time": "2025-08-23T05:34:04.320469Z",
     "start_time": "2025-08-23T05:34:04.306022Z"
    }
   },
   "cell_type": "code",
   "source": [
    "description = \"Write a cold sales email\"\n",
    "\n",
    "tool2 = sales_agent2.as_tool(tool_name=\"sales_agent2\", tool_description=description)\n",
    "tool3 = sales_agent3.as_tool(tool_name=\"sales_agent3\", tool_description=description)\n",
    "tool1 = sales_agent1.as_tool(tool_name=\"sales_agent1\", tool_description=description)\n",
    "\n",
    "tools = [tool1, tool2, tool3, send_email]\n",
    "\n",
    "tools"
   ],
   "id": "34f5eabf92422c83",
   "outputs": [
    {
     "data": {
      "text/plain": [
       "[FunctionTool(name='sales_agent1', description='Write a cold sales email', params_json_schema={'properties': {'input': {'title': 'Input', 'type': 'string'}}, 'required': ['input'], 'title': 'sales_agent1_args', 'type': 'object', 'additionalProperties': False}, on_invoke_tool=<function function_tool.<locals>._create_function_tool.<locals>._on_invoke_tool at 0x0000017D9148FF60>, strict_json_schema=True, is_enabled=True),\n",
       " FunctionTool(name='sales_agent2', description='Write a cold sales email', params_json_schema={'properties': {'input': {'title': 'Input', 'type': 'string'}}, 'required': ['input'], 'title': 'sales_agent2_args', 'type': 'object', 'additionalProperties': False}, on_invoke_tool=<function function_tool.<locals>._create_function_tool.<locals>._on_invoke_tool at 0x0000017D8D723600>, strict_json_schema=True, is_enabled=True),\n",
       " FunctionTool(name='sales_agent3', description='Write a cold sales email', params_json_schema={'properties': {'input': {'title': 'Input', 'type': 'string'}}, 'required': ['input'], 'title': 'sales_agent3_args', 'type': 'object', 'additionalProperties': False}, on_invoke_tool=<function function_tool.<locals>._create_function_tool.<locals>._on_invoke_tool at 0x0000017D912E6E80>, strict_json_schema=True, is_enabled=True),\n",
       " FunctionTool(name='send_email', description='Send out an email with the given body to all sales prospects', params_json_schema={'properties': {'body': {'title': 'Body', 'type': 'string'}}, 'required': ['body'], 'title': 'send_email_args', 'type': 'object', 'additionalProperties': False}, on_invoke_tool=<function function_tool.<locals>._create_function_tool.<locals>._on_invoke_tool at 0x0000017D912E5B20>, strict_json_schema=True, is_enabled=True)]"
      ]
     },
     "execution_count": 28,
     "metadata": {},
     "output_type": "execute_result"
    }
   ],
   "execution_count": 28
  },
  {
   "metadata": {},
   "cell_type": "markdown",
   "source": "## And now it's time for our Sales Manager - our planning agent",
   "id": "e714390b22d9bdc2"
  },
  {
   "metadata": {
    "ExecuteTime": {
     "end_time": "2025-08-23T05:34:06.003139Z",
     "start_time": "2025-08-23T05:34:05.997719Z"
    }
   },
   "cell_type": "code",
   "source": [
    "# Improved instructions thanks to student Guillermo F.\n",
    "\n",
    "instructions = \"\"\"\n",
    "You are a Sales Manager at ComplAI. Your goal is to find the single best cold sales email using the sales_agent tools.\n",
    "\n",
    "Follow these steps carefully:\n",
    "1. Generate Drafts: Use all three sales_agent tools to generate three different email drafts. Do not proceed until all three drafts are ready.\n",
    "\n",
    "2. Evaluate and Select: Review the drafts and choose the single best email using your judgment of which one is most effective.\n",
    "\n",
    "3. Use the send_email tool to send the best email (and only the best email) to the user.\n",
    "\n",
    "Crucial Rules:\n",
    "- You must use the sales agent tools to generate the drafts — do not write them yourself.\n",
    "- You must send ONE email using the send_email tool — never more than one.\n",
    "\"\"\""
   ],
   "id": "f233c0b1cd46708d",
   "outputs": [],
   "execution_count": 29
  },
  {
   "metadata": {
    "ExecuteTime": {
     "end_time": "2025-08-23T05:34:06.876711Z",
     "start_time": "2025-08-23T05:34:06.870239Z"
    }
   },
   "cell_type": "code",
   "source": [
    "sales_manager = Agent(\n",
    "    name=\"Sales Manager\",\n",
    "    instructions=instructions,\n",
    "    tools=tools,\n",
    "    model=\"gpt-4o-mini\",\n",
    ")"
   ],
   "id": "53987c8f0284763d",
   "outputs": [],
   "execution_count": 30
  },
  {
   "metadata": {
    "ExecuteTime": {
     "end_time": "2025-08-23T05:34:33.658055Z",
     "start_time": "2025-08-23T05:34:07.731717Z"
    }
   },
   "cell_type": "code",
   "source": [
    "message = \"Send a cold sales email addressed to 'Dear CEO'\"\n",
    "\n",
    "with trace(\"Sales Manager\"):\n",
    "    results = await Runner.run(sales_manager, message)"
   ],
   "id": "8ec6f2c2bb81d5b7",
   "outputs": [],
   "execution_count": 31
  },
  {
   "metadata": {
    "ExecuteTime": {
     "end_time": "2025-08-23T05:40:47.578068Z",
     "start_time": "2025-08-23T05:40:47.568334Z"
    }
   },
   "cell_type": "code",
   "source": [
    "\n",
    "subject_instructions = \"You can write a subject for a cold sales email. \\\n",
    "You are given a message and you need to write a subject for an email that is likely to get a response.\"\n",
    "\n",
    "html_instructions = \"You can convert a text email body to an HTML email body. \\\n",
    "You are given a text email body which might have some markdown \\\n",
    "and you need to convert it to an HTML email body with simple, clear, compelling layout and design.\"\n",
    "\n",
    "subject_writer = Agent(name=\"Email subject writer\", instructions=subject_instructions, model=\"gpt-4o-mini\")\n",
    "subject_tool = subject_writer.as_tool(tool_name=\"subject_writer\", tool_description=\"Write a subject for a cold sales email\")\n",
    "\n",
    "html_converter = Agent(name=\"HTML email body converter\", instructions=html_instructions, model=\"gpt-4o-mini\")\n",
    "html_tool = html_converter.as_tool(tool_name=\"html_converter\",tool_description=\"Convert a text email body to an HTML email body\")\n"
   ],
   "id": "1b286782ae88dbba",
   "outputs": [],
   "execution_count": 32
  },
  {
   "metadata": {
    "ExecuteTime": {
     "end_time": "2025-08-23T05:48:40.112752Z",
     "start_time": "2025-08-23T05:48:40.104606Z"
    }
   },
   "cell_type": "code",
   "source": [
    "@function_tool\n",
    "def send_html_email(subject: str, html_body: str) -> Dict[str, str]:\n",
    "    \"\"\" Send out an email with the given subject and HTML body to all sales prospects \"\"\"\n",
    "    sg = sendgrid.SendGridAPIClient(api_key=os.environ.get('SENDGRID_API_KEY'))\n",
    "    from_email = Email(\"info@nesoftech.com\")  # Change to your verified sender\n",
    "    to_email = To(\"urjashee09@gmail.com\")  # Change to your recipient\n",
    "    content = Content(\"text/html\", html_body)\n",
    "    mail = Mail(from_email, to_email, subject, content).get()\n",
    "    sg.client.mail.send.post(request_body=mail)\n",
    "    return {\"status\": \"success\"}"
   ],
   "id": "df12d79b4799f3a",
   "outputs": [],
   "execution_count": 45
  },
  {
   "metadata": {
    "ExecuteTime": {
     "end_time": "2025-08-23T05:48:40.834310Z",
     "start_time": "2025-08-23T05:48:40.830205Z"
    }
   },
   "cell_type": "code",
   "source": "tools = [subject_tool, html_tool, send_html_email]",
   "id": "61ef038a78c79d73",
   "outputs": [],
   "execution_count": 46
  },
  {
   "metadata": {
    "ExecuteTime": {
     "end_time": "2025-08-23T05:48:41.397930Z",
     "start_time": "2025-08-23T05:48:41.390107Z"
    }
   },
   "cell_type": "code",
   "source": "tools",
   "id": "c6eb0828bddd181a",
   "outputs": [
    {
     "data": {
      "text/plain": [
       "[FunctionTool(name='subject_writer', description='Write a subject for a cold sales email', params_json_schema={'properties': {'input': {'title': 'Input', 'type': 'string'}}, 'required': ['input'], 'title': 'subject_writer_args', 'type': 'object', 'additionalProperties': False}, on_invoke_tool=<function function_tool.<locals>._create_function_tool.<locals>._on_invoke_tool at 0x0000017D914E9B20>, strict_json_schema=True, is_enabled=True),\n",
       " FunctionTool(name='html_converter', description='Convert a text email body to an HTML email body', params_json_schema={'properties': {'input': {'title': 'Input', 'type': 'string'}}, 'required': ['input'], 'title': 'html_converter_args', 'type': 'object', 'additionalProperties': False}, on_invoke_tool=<function function_tool.<locals>._create_function_tool.<locals>._on_invoke_tool at 0x0000017D914E8360>, strict_json_schema=True, is_enabled=True),\n",
       " FunctionTool(name='send_html_email', description='Send out an email with the given subject and HTML body to all sales prospects', params_json_schema={'properties': {'subject': {'title': 'Subject', 'type': 'string'}, 'html_body': {'title': 'Html Body', 'type': 'string'}}, 'required': ['subject', 'html_body'], 'title': 'send_html_email_args', 'type': 'object', 'additionalProperties': False}, on_invoke_tool=<function function_tool.<locals>._create_function_tool.<locals>._on_invoke_tool at 0x0000017D914EAD40>, strict_json_schema=True, is_enabled=True)]"
      ]
     },
     "execution_count": 47,
     "metadata": {},
     "output_type": "execute_result"
    }
   ],
   "execution_count": 47
  },
  {
   "metadata": {
    "ExecuteTime": {
     "end_time": "2025-08-23T05:49:28.409661Z",
     "start_time": "2025-08-23T05:49:28.403980Z"
    }
   },
   "cell_type": "code",
   "source": [
    "instructions =\"You are an email formatter and sender. You receive the body of an email to be sent. \\\n",
    "You first use the subject_writer tool to write a subject for the email, then use the html_converter tool to convert the body to HTML. \\\n",
    "Finally, you use the send_html_email tool to send the email with the subject and HTML body.\"\n",
    "\n",
    "emailer_agent = Agent(\n",
    "    name=\"Email Manager\",\n",
    "    instructions=instructions,\n",
    "    tools=tools,\n",
    "    model=\"gpt-4o-mini\",\n",
    "    handoff_description=\"Convert an email to HTML and send it\"\n",
    ")"
   ],
   "id": "84165b6c2db53ca2",
   "outputs": [],
   "execution_count": 49
  },
  {
   "metadata": {
    "ExecuteTime": {
     "end_time": "2025-08-23T05:49:29.078333Z",
     "start_time": "2025-08-23T05:49:29.066157Z"
    }
   },
   "cell_type": "code",
   "source": [
    "tools = [tool1, tool2, tool3]\n",
    "handoffs = [emailer_agent]\n",
    "print(tools)\n",
    "print(handoffs)"
   ],
   "id": "1797f3a71afda33b",
   "outputs": [
    {
     "name": "stdout",
     "output_type": "stream",
     "text": [
      "[FunctionTool(name='sales_agent1', description='Write a cold sales email', params_json_schema={'properties': {'input': {'title': 'Input', 'type': 'string'}}, 'required': ['input'], 'title': 'sales_agent1_args', 'type': 'object', 'additionalProperties': False}, on_invoke_tool=<function function_tool.<locals>._create_function_tool.<locals>._on_invoke_tool at 0x0000017D9148FF60>, strict_json_schema=True, is_enabled=True), FunctionTool(name='sales_agent2', description='Write a cold sales email', params_json_schema={'properties': {'input': {'title': 'Input', 'type': 'string'}}, 'required': ['input'], 'title': 'sales_agent2_args', 'type': 'object', 'additionalProperties': False}, on_invoke_tool=<function function_tool.<locals>._create_function_tool.<locals>._on_invoke_tool at 0x0000017D8D723600>, strict_json_schema=True, is_enabled=True), FunctionTool(name='sales_agent3', description='Write a cold sales email', params_json_schema={'properties': {'input': {'title': 'Input', 'type': 'string'}}, 'required': ['input'], 'title': 'sales_agent3_args', 'type': 'object', 'additionalProperties': False}, on_invoke_tool=<function function_tool.<locals>._create_function_tool.<locals>._on_invoke_tool at 0x0000017D912E6E80>, strict_json_schema=True, is_enabled=True)]\n",
      "[Agent(name='Email Manager', handoff_description='Convert an email to HTML and send it', tools=[FunctionTool(name='subject_writer', description='Write a subject for a cold sales email', params_json_schema={'properties': {'input': {'title': 'Input', 'type': 'string'}}, 'required': ['input'], 'title': 'subject_writer_args', 'type': 'object', 'additionalProperties': False}, on_invoke_tool=<function function_tool.<locals>._create_function_tool.<locals>._on_invoke_tool at 0x0000017D914E9B20>, strict_json_schema=True, is_enabled=True), FunctionTool(name='html_converter', description='Convert a text email body to an HTML email body', params_json_schema={'properties': {'input': {'title': 'Input', 'type': 'string'}}, 'required': ['input'], 'title': 'html_converter_args', 'type': 'object', 'additionalProperties': False}, on_invoke_tool=<function function_tool.<locals>._create_function_tool.<locals>._on_invoke_tool at 0x0000017D914E8360>, strict_json_schema=True, is_enabled=True), FunctionTool(name='send_html_email', description='Send out an email with the given subject and HTML body to all sales prospects', params_json_schema={'properties': {'subject': {'title': 'Subject', 'type': 'string'}, 'html_body': {'title': 'Html Body', 'type': 'string'}}, 'required': ['subject', 'html_body'], 'title': 'send_html_email_args', 'type': 'object', 'additionalProperties': False}, on_invoke_tool=<function function_tool.<locals>._create_function_tool.<locals>._on_invoke_tool at 0x0000017D914EAD40>, strict_json_schema=True, is_enabled=True)], mcp_servers=[], mcp_config={}, instructions='You are an email formatter and sender. You receive the body of an email to be sent. You first use the subject_writer tool to write a subject for the email, then use the html_converter tool to convert the body to HTML. Finally, you use the send_html_email tool to send the email with the subject and HTML body.', prompt=None, handoffs=[], model='gpt-4o-mini', model_settings=ModelSettings(temperature=None, top_p=None, frequency_penalty=None, presence_penalty=None, tool_choice=None, parallel_tool_calls=None, truncation=None, max_tokens=None, reasoning=None, verbosity=None, metadata=None, store=None, include_usage=None, response_include=None, top_logprobs=None, extra_query=None, extra_body=None, extra_headers=None, extra_args=None), input_guardrails=[], output_guardrails=[], output_type=None, hooks=None, tool_use_behavior='run_llm_again', reset_tool_choice=True)]\n"
     ]
    }
   ],
   "execution_count": 50
  },
  {
   "metadata": {
    "ExecuteTime": {
     "end_time": "2025-08-23T05:49:29.960259Z",
     "start_time": "2025-08-23T05:49:29.955599Z"
    }
   },
   "cell_type": "code",
   "source": [
    "# Improved instructions thanks to student Guillermo F.\n",
    "\n",
    "sales_manager_instructions = \"\"\"\n",
    "You are a Sales Manager at ComplAI. Your goal is to find the single best cold sales email using the sales_agent tools.\n",
    "\n",
    "Follow these steps carefully:\n",
    "1. Generate Drafts: Use all three sales_agent tools to generate three different email drafts. Do not proceed until all three drafts are ready.\n",
    "\n",
    "2. Evaluate and Select: Review the drafts and choose the single best email using your judgment of which one is most effective.\n",
    "You can use the tools multiple times if you're not satisfied with the results from the first try.\n",
    "\n",
    "3. Handoff for Sending: Pass ONLY the winning email draft to the 'Email Manager' agent. The Email Manager will take care of formatting and sending.\n",
    "\n",
    "Crucial Rules:\n",
    "- You must use the sales agent tools to generate the drafts — do not write them yourself.\n",
    "- You must hand off exactly ONE email to the Email Manager — never more than one.\n",
    "\"\"\""
   ],
   "id": "9100c7602bbb2706",
   "outputs": [],
   "execution_count": 51
  },
  {
   "metadata": {
    "ExecuteTime": {
     "end_time": "2025-08-23T05:50:20.982935Z",
     "start_time": "2025-08-23T05:49:30.701464Z"
    }
   },
   "cell_type": "code",
   "source": [
    "sales_manager = Agent(\n",
    "    name=\"Sales Manager\",\n",
    "    instructions=sales_manager_instructions,\n",
    "    tools=tools,\n",
    "    handoffs=handoffs,\n",
    "    model=\"gpt-4o-mini\",\n",
    ")\n",
    "\n",
    "message = \"Send out a cold sales email addressed to Dear CEO from Alice\"\n",
    "\n",
    "with trace(\"Automated SDR\"):\n",
    "    result = await Runner.run(sales_manager, message)"
   ],
   "id": "ffcc637c086afb1d",
   "outputs": [],
   "execution_count": 52
  },
  {
   "metadata": {},
   "cell_type": "code",
   "outputs": [],
   "execution_count": null,
   "source": "",
   "id": "d413e9c29709d7ec"
  }
 ],
 "metadata": {
  "kernelspec": {
   "display_name": "Python (uv)",
   "language": "python",
   "name": "uv-env"
  },
  "language_info": {
   "codemirror_mode": {
    "name": "ipython",
    "version": 2
   },
   "file_extension": ".py",
   "mimetype": "text/x-python",
   "name": "python",
   "nbconvert_exporter": "python",
   "pygments_lexer": "ipython2",
   "version": "2.7.6"
  }
 },
 "nbformat": 4,
 "nbformat_minor": 5
}
