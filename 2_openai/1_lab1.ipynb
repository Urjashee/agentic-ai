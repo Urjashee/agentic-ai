{
 "cells": [
  {
   "cell_type": "code",
   "id": "6ec874e5",
   "metadata": {
    "ExecuteTime": {
     "end_time": "2025-08-23T04:31:43.923991Z",
     "start_time": "2025-08-23T04:31:39.782615Z"
    }
   },
   "source": [
    "from dotenv import load_dotenv\n",
    "from agents import Agent, Runner, trace"
   ],
   "outputs": [],
   "execution_count": 1
  },
  {
   "cell_type": "code",
   "id": "e50d6e0a",
   "metadata": {
    "ExecuteTime": {
     "end_time": "2025-08-23T04:33:09.828919Z",
     "start_time": "2025-08-23T04:33:09.808037Z"
    }
   },
   "source": [
    "load_dotenv(override=True)"
   ],
   "outputs": [
    {
     "data": {
      "text/plain": [
       "True"
      ]
     },
     "execution_count": 2,
     "metadata": {},
     "output_type": "execute_result"
    }
   ],
   "execution_count": 2
  },
  {
   "cell_type": "code",
   "id": "9edb434f",
   "metadata": {
    "ExecuteTime": {
     "end_time": "2025-08-23T04:33:10.689652Z",
     "start_time": "2025-08-23T04:33:10.680961Z"
    }
   },
   "source": [
    "# Make an agent with name, instructions, model\n",
    "\n",
    "agent = Agent(\n",
    "    name=\"Jokester\",\n",
    "    instructions=\"You are a joke teller\",\n",
    "    model=\"gpt-4o-mini\"\n",
    ")"
   ],
   "outputs": [],
   "execution_count": 3
  },
  {
   "metadata": {
    "ExecuteTime": {
     "end_time": "2025-08-23T04:33:11.599814Z",
     "start_time": "2025-08-23T04:33:11.585462Z"
    }
   },
   "cell_type": "code",
   "source": "agent",
   "id": "c2296b36434d469e",
   "outputs": [
    {
     "data": {
      "text/plain": [
       "Agent(name='Jokester', handoff_description=None, tools=[], mcp_servers=[], mcp_config={}, instructions='You are a joke teller', prompt=None, handoffs=[], model='gpt-4o-mini', model_settings=ModelSettings(temperature=None, top_p=None, frequency_penalty=None, presence_penalty=None, tool_choice=None, parallel_tool_calls=None, truncation=None, max_tokens=None, reasoning=None, verbosity=None, metadata=None, store=None, include_usage=None, response_include=None, top_logprobs=None, extra_query=None, extra_body=None, extra_headers=None, extra_args=None), input_guardrails=[], output_guardrails=[], output_type=None, hooks=None, tool_use_behavior='run_llm_again', reset_tool_choice=True)"
      ]
     },
     "execution_count": 4,
     "metadata": {},
     "output_type": "execute_result"
    }
   ],
   "execution_count": 4
  },
  {
   "metadata": {
    "ExecuteTime": {
     "end_time": "2025-08-23T04:33:16.930318Z",
     "start_time": "2025-08-23T04:33:13.522147Z"
    }
   },
   "cell_type": "code",
   "source": [
    "result = await Runner.run(agent, \"Tell a joke about Autonomous AI Agents\")\n",
    "print(result)"
   ],
   "id": "8fc478253a7394d3",
   "outputs": [
    {
     "name": "stdout",
     "output_type": "stream",
     "text": [
      "RunResult:\n",
      "- Last agent: Agent(name=\"Jokester\", ...)\n",
      "- Final output (str):\n",
      "    Why did the autonomous AI agent break up with its partner?\n",
      "    \n",
      "    It just couldn't handle the emotional bandwidth!\n",
      "- 1 new item(s)\n",
      "- 1 raw response(s)\n",
      "- 0 input guardrail result(s)\n",
      "- 0 output guardrail result(s)\n",
      "(See `RunResult` for more details)\n"
     ]
    }
   ],
   "execution_count": 5
  },
  {
   "cell_type": "code",
   "id": "68a62bff",
   "metadata": {
    "ExecuteTime": {
     "end_time": "2025-08-23T04:38:39.656175Z",
     "start_time": "2025-08-23T04:38:36.574497Z"
    }
   },
   "source": [
    "# Run the joke with Runner.run(agent, prompt) then print final_output\n",
    "\n",
    "with trace(\"Telling a joke\"):\n",
    "    result = await Runner.run(agent, \"Tell a joke about Autonomous AI Agents\")\n",
    "    print(result.final_output)\n"
   ],
   "outputs": [
    {
     "name": "stdout",
     "output_type": "stream",
     "text": [
      "Why did the autonomous AI agent break up with its partner?\n",
      "\n",
      "Because it just couldn't find the right \"input\" in the relationship!\n"
     ]
    }
   ],
   "execution_count": 6
  },
  {
   "metadata": {},
   "cell_type": "markdown",
   "source": [
    "## Now go and look at the trace\n",
    "\n",
    "#### https://platform.openai.com/traces"
   ],
   "id": "29af6a8aeafebf04"
  },
  {
   "metadata": {
    "ExecuteTime": {
     "end_time": "2025-08-23T04:40:00.637094Z",
     "start_time": "2025-08-23T04:40:00.626882Z"
    }
   },
   "cell_type": "code",
   "source": "",
   "id": "78342b6278aacab",
   "outputs": [],
   "execution_count": 8
  },
  {
   "metadata": {},
   "cell_type": "markdown",
   "source": "",
   "id": "40cc342a15be406c"
  }
 ],
 "metadata": {
  "kernelspec": {
   "display_name": "Python 3 (ipykernel)",
   "language": "python",
   "name": "python3"
  },
  "language_info": {
   "codemirror_mode": {
    "name": "ipython",
    "version": 3
   },
   "file_extension": ".py",
   "mimetype": "text/x-python",
   "name": "python",
   "nbconvert_exporter": "python",
   "pygments_lexer": "ipython3",
   "version": "3.12.9"
  }
 },
 "nbformat": 4,
 "nbformat_minor": 5
}
