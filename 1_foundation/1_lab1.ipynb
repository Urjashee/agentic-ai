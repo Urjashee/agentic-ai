{
 "cells": [
  {
   "cell_type": "code",
   "execution_count": 1,
   "id": "50db2796",
   "metadata": {},
   "outputs": [],
   "source": [
    "from dotenv import load_dotenv"
   ]
  },
  {
   "cell_type": "code",
   "execution_count": 2,
   "id": "f77d5c80",
   "metadata": {},
   "outputs": [
    {
     "data": {
      "text/plain": [
       "True"
      ]
     },
     "execution_count": 2,
     "metadata": {},
     "output_type": "execute_result"
    }
   ],
   "source": [
    "load_dotenv(override=True)"
   ]
  },
  {
   "cell_type": "code",
   "execution_count": 4,
   "id": "0f13b389",
   "metadata": {},
   "outputs": [
    {
     "name": "stdout",
     "output_type": "stream",
     "text": [
      "OpenAI API Key exists and begins sk-proj-\n"
     ]
    }
   ],
   "source": [
    "import os\n",
    "openai_api_key = os.getenv(\"OPENAI_API_KEY\")\n",
    "\n",
    "if openai_api_key:\n",
    "    print(f\"OpenAI API Key exists and begins {openai_api_key[:8]}\")\n",
    "else:\n",
    "    print(\"OpenAI API Key not set - please head to the troubleshooting guide in the setup folder\")\n",
    "    \n",
    "\n"
   ]
  },
  {
   "cell_type": "code",
   "execution_count": 7,
   "id": "fb9bd7ff",
   "metadata": {},
   "outputs": [],
   "source": [
    "from openai import OpenAI"
   ]
  },
  {
   "cell_type": "code",
   "execution_count": 8,
   "id": "87982f5d",
   "metadata": {},
   "outputs": [],
   "source": [
    "openai = OpenAI()"
   ]
  },
  {
   "cell_type": "code",
   "execution_count": 10,
   "id": "2b241d31",
   "metadata": {},
   "outputs": [],
   "source": [
    "messages = [{\"role\": \"user\", \"content\": \"What is 2 + 2?\"}]"
   ]
  },
  {
   "cell_type": "code",
   "execution_count": 11,
   "id": "654db9d1",
   "metadata": {},
   "outputs": [
    {
     "name": "stdout",
     "output_type": "stream",
     "text": [
      "2 + 2 equals 4.\n"
     ]
    }
   ],
   "source": [
    "response = openai.chat.completions.create(\n",
    "    model=\"gpt-4.1-nano\",\n",
    "    messages=messages\n",
    ")\n",
    "\n",
    "print(response.choices[0].message.content)"
   ]
  },
  {
   "cell_type": "code",
   "execution_count": 12,
   "id": "33a1503d",
   "metadata": {},
   "outputs": [],
   "source": [
    "question = \"Please propose a hard, challenging question to assess someone's IQ. Respond only with the question.\"\n",
    "messages = [{\"role\": \"user\", \"content\": question}]"
   ]
  },
  {
   "cell_type": "code",
   "execution_count": 13,
   "id": "ea97d5ca",
   "metadata": {},
   "outputs": [
    {
     "name": "stdout",
     "output_type": "stream",
     "text": [
      "Consider the following sequence: 2, 6, 12, 20, 30, 42, ___. What is the next number in the sequence, and how is your answer determined?\n"
     ]
    }
   ],
   "source": [
    "response = openai.chat.completions.create(\n",
    "    model=\"gpt-4.1-nano\",\n",
    "    messages=messages\n",
    ")\n",
    "\n",
    "question = response.choices[0].message.content\n",
    "\n",
    "print(question)"
   ]
  },
  {
   "cell_type": "code",
   "execution_count": 14,
   "id": "59ee2cdc",
   "metadata": {},
   "outputs": [],
   "source": [
    "# form a new messages list\n",
    "messages = [{\"role\": \"user\", \"content\": question}]"
   ]
  },
  {
   "cell_type": "code",
   "execution_count": 15,
   "id": "e89f15f5",
   "metadata": {},
   "outputs": [
    {
     "name": "stdout",
     "output_type": "stream",
     "text": [
      "Let's analyze the sequence: 2, 6, 12, 20, 30, 42, ___.\n",
      "\n",
      "**Step 1: Look at the differences between successive terms.**\n",
      "\n",
      "- 6 - 2 = 4\n",
      "- 12 - 6 = 6\n",
      "- 20 - 12 = 8\n",
      "- 30 - 20 = 10\n",
      "- 42 - 30 = 12\n",
      "\n",
      "The differences are: 4, 6, 8, 10, 12.\n",
      "\n",
      "**Step 2: Recognize the pattern in differences.**\n",
      "\n",
      "The differences form an increasing sequence by 2 each time: 4, 6, 8, 10, 12.\n",
      "\n",
      "So, the next difference should be 14.\n",
      "\n",
      "**Step 3: Find the next term.**\n",
      "\n",
      "Adding this difference to the last known term:\n",
      "\n",
      "42 + 14 = **56**\n",
      "\n",
      "**Step 4: Verify the pattern in the sequence terms themselves.**\n",
      "\n",
      "Let's see if these numbers relate to familiar formulas:\n",
      "\n",
      "- 2 = 1*2  = 1*2\n",
      "- 6 = 2*3\n",
      "- 12 = 3*4\n",
      "- 20 = 4*5\n",
      "- 30 = 5*6\n",
      "- 42 = 6*7\n",
      "\n",
      "Notice a pattern: each term is a product of two consecutive integers:\n",
      "\n",
      "- 1*2\n",
      "- 2*3\n",
      "- 3*4\n",
      "- 4*5\n",
      "- 5*6\n",
      "- 6*7\n",
      "\n",
      "The next term should be 7*8 = **56**.\n",
      "\n",
      "---\n",
      "\n",
      "**Final Answer:**\n",
      "\n",
      "\\[\n",
      "\\boxed{56}\n",
      "\\]\n",
      "\n",
      "The next number in the sequence is **56**, determined by recognizing that each term is the product of two consecutive integers starting from 1*2, 2*3, etc., so the following is 7*8 = 56.\n"
     ]
    }
   ],
   "source": [
    "response = openai.chat.completions.create(\n",
    "    model=\"gpt-4.1-nano\",\n",
    "    messages=messages\n",
    ")\n",
    "\n",
    "answer = response.choices[0].message.content\n",
    "print(answer)"
   ]
  },
  {
   "cell_type": "code",
   "execution_count": 16,
   "id": "2b8a64d0",
   "metadata": {},
   "outputs": [
    {
     "data": {
      "text/markdown": [
       "Let's analyze the sequence: 2, 6, 12, 20, 30, 42, ___.\n",
       "\n",
       "**Step 1: Look at the differences between successive terms.**\n",
       "\n",
       "- 6 - 2 = 4\n",
       "- 12 - 6 = 6\n",
       "- 20 - 12 = 8\n",
       "- 30 - 20 = 10\n",
       "- 42 - 30 = 12\n",
       "\n",
       "The differences are: 4, 6, 8, 10, 12.\n",
       "\n",
       "**Step 2: Recognize the pattern in differences.**\n",
       "\n",
       "The differences form an increasing sequence by 2 each time: 4, 6, 8, 10, 12.\n",
       "\n",
       "So, the next difference should be 14.\n",
       "\n",
       "**Step 3: Find the next term.**\n",
       "\n",
       "Adding this difference to the last known term:\n",
       "\n",
       "42 + 14 = **56**\n",
       "\n",
       "**Step 4: Verify the pattern in the sequence terms themselves.**\n",
       "\n",
       "Let's see if these numbers relate to familiar formulas:\n",
       "\n",
       "- 2 = 1*2  = 1*2\n",
       "- 6 = 2*3\n",
       "- 12 = 3*4\n",
       "- 20 = 4*5\n",
       "- 30 = 5*6\n",
       "- 42 = 6*7\n",
       "\n",
       "Notice a pattern: each term is a product of two consecutive integers:\n",
       "\n",
       "- 1*2\n",
       "- 2*3\n",
       "- 3*4\n",
       "- 4*5\n",
       "- 5*6\n",
       "- 6*7\n",
       "\n",
       "The next term should be 7*8 = **56**.\n",
       "\n",
       "---\n",
       "\n",
       "**Final Answer:**\n",
       "\n",
       "\\[\n",
       "\\boxed{56}\n",
       "\\]\n",
       "\n",
       "The next number in the sequence is **56**, determined by recognizing that each term is the product of two consecutive integers starting from 1*2, 2*3, etc., so the following is 7*8 = 56."
      ],
      "text/plain": [
       "<IPython.core.display.Markdown object>"
      ]
     },
     "metadata": {},
     "output_type": "display_data"
    }
   ],
   "source": [
    "from IPython.display import Markdown, display\n",
    "\n",
    "display(Markdown(answer))"
   ]
  },
  {
   "cell_type": "markdown",
   "id": "12e3c17e",
   "metadata": {},
   "source": [
    "<table style=\"margin: 0; text-align: left; width:100%\">\n",
    "    <tr>\n",
    "        <td style=\"width: 150px; height: 150px; vertical-align: middle;\">\n",
    "            <img src=\"../assets/exercise.png\" width=\"150\" height=\"150\" style=\"display: block;\" />\n",
    "        </td>\n",
    "        <td>\n",
    "            <h2 style=\"color:#ff7800;\">Exercise</h2>\n",
    "            <span style=\"color:#ff7800;\">Now try this commercial application:<br/>\n",
    "            First ask the LLM to pick a business area that might be worth exploring for an Agentic AI opportunity.<br/>\n",
    "            Then ask the LLM to present a pain-point in that industry - something challenging that might be ripe for an Agentic solution.<br/>\n",
    "            Finally have 3 third LLM call propose the Agentic AI solution. <br/>\n",
    "            We will cover this at up-coming labs, so don't worry if you're unsure.. just give it a try!\n",
    "            </span>\n",
    "        </td>\n",
    "    </tr>\n",
    "</table>"
   ]
  },
  {
   "cell_type": "code",
   "execution_count": 17,
   "id": "ad594850",
   "metadata": {},
   "outputs": [
    {
     "name": "stdout",
     "output_type": "stream",
     "text": [
      "A promising business area to explore for an Agentic AI opportunity is the **Personalized Healthcare and Wellness Management** sector. \n",
      "\n",
      "This domain benefits significantly from proactive, autonomous AI agents capable of monitoring individual health data, recommending personalized interventions, scheduling appointments, managing medication adherence, and even adjusting health plans in real-time based on evolving needs. Agentic AI can empower patients to take greater control of their health while reducing the burden on healthcare providers, leading to improved outcomes and cost efficiencies.\n",
      "\n",
      "Would you like insights into specific use cases, technologies involved, or potential challenges in this area?\n"
     ]
    }
   ],
   "source": [
    "# First create the messages:\n",
    "question = \"pick a business area that might be worth exploring for an Agentic AI opportunity.\"\n",
    "messages = [{\"role\": \"user\", \"content\": question}]\n",
    "\n",
    "# Then make the first call:\n",
    "\n",
    "response = openai.chat.completions.create(\n",
    "    model=\"gpt-4.1-nano\",\n",
    "    messages=messages\n",
    ")\n",
    "\n",
    "# Then read the business idea:\n",
    "\n",
    "business_idea = response.choices[0].message.content\n",
    "print(business_idea)\n",
    "\n",
    "# And repeat! In the next message, include the business idea within the message"
   ]
  },
  {
   "cell_type": "code",
   "execution_count": 20,
   "id": "5df0575c",
   "metadata": {},
   "outputs": [
    {
     "name": "stdout",
     "output_type": "stream",
     "text": [
      "One significant pain-point in the Personalized Healthcare and Wellness Management sector that is ripe for an Agentic AI solution is **medication adherence and management**. \n",
      "\n",
      "**Challenges of this pain-point include:**\n",
      "- Patients often forget or neglect to take their medications on time, leading to suboptimal health outcomes.\n",
      "- Complex medication schedules can be confusing, especially for elderly or chronic disease patients.\n",
      "- Non-adherence can result in increased hospitalizations, complications, and higher healthcare costs.\n",
      "- Tracking and adjusting medication plans manually or through static systems is inefficient and error-prone.\n",
      "\n",
      "**Why this is an ideal area for Agentic AI:**\n",
      "- Autonomous agents can proactively remind patients, confirm medication intake, and adapt schedules based on feedback.\n",
      "- They can detect patterns indicating non-adherence and intervene with personalized encouragement or alerts.\n",
      "- Integrated with health data and pharmacy systems, agents can automatically manage refills, monitor side effects, and coordinate with healthcare providers.\n",
      "  \n",
      "Addressing medication adherence through Agentic AI can substantially improve patient outcomes, reduce healthcare costs, and alleviate burdens on healthcare providers. Would you like to explore how such a system might be designed or what specific technologies would support it?\n"
     ]
    }
   ],
   "source": [
    "business_idea += \"pick a pain-point in that industry - something challenging that might be ripe for an Agentic solution.\"\n",
    "\n",
    "messages = [{\"role\": \"user\", \"content\": business_idea}]\n",
    "\n",
    "response = openai.chat.completions.create(\n",
    "    model=\"gpt-4.1-nano\",\n",
    "    messages=messages\n",
    ")\n",
    "\n",
    "pain_point = response.choices[0].message.content\n",
    "print(pain_point)"
   ]
  },
  {
   "cell_type": "code",
   "execution_count": 23,
   "id": "8425c099",
   "metadata": {},
   "outputs": [
    {
     "name": "stdout",
     "output_type": "stream",
     "text": [
      "Certainly! Here is a comprehensive proposal for an Agentic AI solution to address medication adherence and management:\n",
      "\n",
      "**Agentic AI Solution for Medication Adherence and Management**\n",
      "\n",
      "**1. Core Components & Functionality:**\n",
      "- **Personalized Reminders & Confirmations:**  \n",
      "  The AI agent sends timely reminders via preferred channels (SMS, app notifications, voice assistants) to patients to take their medication. It prompts for confirmation of intake, creating a real-time adherence record.\n",
      "\n",
      "- **Adaptive Scheduling & Coaching:**  \n",
      "  The agent analyzes patient behavior and feedback to adjust medication schedules. If a patient consistently misses doses, it offers motivational messages or adjusts reminder times within safe parameters.\n",
      "\n",
      "- **Pattern Detection & Alerts:**  \n",
      "  Using historical adherence data, the AI detects patterns of non-adherence or side effects reporting, flagging potential issues for prompt intervention.\n",
      "\n",
      "- **Medication Refill & Inventory Management:**  \n",
      "  Integration with pharmacy systems enables the agent to monitor medication supplies and automatically initiate refill requests before stocks run low, preventing gaps in therapy.\n",
      "\n",
      "- **Side Effect Monitoring & Feedback Loop:**  \n",
      "  Patients can report side effects through conversational interfaces. The agent assesses severity, logs reports, and alerts healthcare providers if necessary.\n",
      "\n",
      "- **Healthcare Provider Coordination:**  \n",
      "  The AI maintains a shared, updated profile of medication adherence and side effects, alerting providers if intervention is needed or if adjustments are recommended.\n",
      "\n",
      "**2. Technologies Supporting the System:**\n",
      "- **Natural Language Processing (NLP):**  \n",
      "  To facilitate seamless, empathetic conversations with patients for reminders, questions, and reporting.\n",
      "\n",
      "- **Machine Learning Algorithms:**  \n",
      "  For pattern recognition, behavior prediction, and personalized intervention planning.\n",
      "\n",
      "- **Integration APIs:**  \n",
      "  Connecting with electronic health records (EHRs), pharmacy databases, and wearable health devices for comprehensive data synchronization.\n",
      "\n",
      "- **Secure Data Management:**  \n",
      "  Ensuring compliance with HIPAA and other regulations through encrypted data storage and transmission.\n",
      "\n",
      "**3. User Interaction & Experience:**\n",
      "- Patients interact naturally via conversational interfaces, receiving support and encouragement.\n",
      "- Healthcare providers receive summarized reports and alerts for proactive intervention.\n",
      "\n",
      "**4. Benefits of This AI Solution:**\n",
      "- Improves medication adherence through proactive, personalized engagement.\n",
      "- Reduces hospitalizations and complications.\n",
      "- Automates routine management tasks, easing provider workload.\n",
      "- Enhances patient safety with real-time monitoring and alerts.\n",
      "\n",
      "**Conclusion:**\n",
      "By deploying an Agentic AI system with these capabilities, healthcare providers can significantly improve medication adherence, leading to better health outcomes and more efficient management of chronic and complex medication regimens. Would you like to delve into architecture diagrams, implementation strategies, or specific technologies?\n"
     ]
    }
   ],
   "source": [
    "pain_point += \"from the provided pain-point, propose the Agentic AI solution.\"\n",
    "\n",
    "messages = [{\"role\": \"user\", \"content\": pain_point}]\n",
    "\n",
    "response = openai.chat.completions.create(\n",
    "    model=\"gpt-4.1-nano\",\n",
    "    messages=messages\n",
    ")\n",
    "\n",
    "solution = response.choices[0].message.content\n",
    "print(solution)"
   ]
  },
  {
   "cell_type": "code",
   "execution_count": null,
   "id": "8e492333",
   "metadata": {},
   "outputs": [],
   "source": []
  }
 ],
 "metadata": {
  "kernelspec": {
   "display_name": ".venv",
   "language": "python",
   "name": "python3"
  },
  "language_info": {
   "codemirror_mode": {
    "name": "ipython",
    "version": 3
   },
   "file_extension": ".py",
   "mimetype": "text/x-python",
   "name": "python",
   "nbconvert_exporter": "python",
   "pygments_lexer": "ipython3",
   "version": "3.12.9"
  }
 },
 "nbformat": 4,
 "nbformat_minor": 5
}
