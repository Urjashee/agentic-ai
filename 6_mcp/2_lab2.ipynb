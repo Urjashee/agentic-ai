{
 "cells": [
  {
   "metadata": {},
   "cell_type": "markdown",
   "source": [
    "### Week 6, Day 2\n",
    "\n",
    "We're about to create and use our own MCP Server and MCP Client!\n",
    "\n",
    "It's pretty simple, but it's not super-simple. The excitment around MCP is about how easy it is to share and use other MCP Servers - making our own does involve a bit of work.\n",
    "\n",
    "Let's review some python code made mostly by a hard-working Engineering Team:\n",
    "\n",
    "accounts.py"
   ],
   "id": "6d6b07f2e359fe12"
  },
  {
   "metadata": {
    "ExecuteTime": {
     "end_time": "2025-09-02T03:47:52.106399Z",
     "start_time": "2025-09-02T03:47:48.736374Z"
    }
   },
   "cell_type": "code",
   "source": [
    "from dotenv import load_dotenv\n",
    "from agents import Agent, Runner, trace\n",
    "from agents.mcp import MCPServerStdio\n",
    "from IPython.display import display, Markdown"
   ],
   "id": "5f963ab125a899b7",
   "outputs": [],
   "execution_count": 1
  },
  {
   "metadata": {
    "ExecuteTime": {
     "end_time": "2025-09-02T03:47:54.668789Z",
     "start_time": "2025-09-02T03:47:54.657203Z"
    }
   },
   "cell_type": "code",
   "source": "load_dotenv(override=True)",
   "id": "37942edabbef574",
   "outputs": [
    {
     "data": {
      "text/plain": [
       "True"
      ]
     },
     "execution_count": 2,
     "metadata": {},
     "output_type": "execute_result"
    }
   ],
   "execution_count": 2
  },
  {
   "metadata": {
    "ExecuteTime": {
     "end_time": "2025-09-02T03:51:40.315754Z",
     "start_time": "2025-09-02T03:51:39.958146Z"
    }
   },
   "cell_type": "code",
   "source": "from accounts import Account",
   "id": "d2a9e543b99a04ce",
   "outputs": [],
   "execution_count": 5
  },
  {
   "metadata": {
    "ExecuteTime": {
     "end_time": "2025-09-02T04:10:18.976102Z",
     "start_time": "2025-09-02T04:10:18.970338Z"
    }
   },
   "cell_type": "code",
   "source": [
    "account = Account.get(\"Urjashee\")\n",
    "account"
   ],
   "id": "47edfbe365b21a1b",
   "outputs": [
    {
     "data": {
      "text/plain": [
       "Account(name='urjashee', balance=9921.844, strategy='', holdings={'AMZN': 3}, transactions=[3 shares of AMZN at 26.052 each.], portfolio_value_time_series=[('2025-09-02 04:09:52', 10119.844), ('2025-09-02 04:09:53', 10059.844)])"
      ]
     },
     "execution_count": 22,
     "metadata": {},
     "output_type": "execute_result"
    }
   ],
   "execution_count": 22
  },
  {
   "metadata": {
    "ExecuteTime": {
     "end_time": "2025-09-02T04:10:20.213343Z",
     "start_time": "2025-09-02T04:10:20.165916Z"
    }
   },
   "cell_type": "code",
   "source": "account.buy_shares(\"AMZN\", 3, \"Because this bookstore website looks promising\")",
   "id": "161c69fa9e78a2c8",
   "outputs": [
    {
     "data": {
      "text/plain": [
       "'Completed. Latest details:\\n{\"name\": \"urjashee\", \"balance\": 9684.369999999999, \"strategy\": \"\", \"holdings\": {\"AMZN\": 6}, \"transactions\": [{\"symbol\": \"AMZN\", \"quantity\": 3, \"price\": 26.052, \"timestamp\": \"2025-09-02 04:09:52\", \"rationale\": \"Because this bookstore website looks promising\"}, {\"symbol\": \"AMZN\", \"quantity\": 3, \"price\": 79.158, \"timestamp\": \"2025-09-02 04:10:20\", \"rationale\": \"Because this bookstore website looks promising\"}], \"portfolio_value_time_series\": [[\"2025-09-02 04:09:52\", 10119.844], [\"2025-09-02 04:09:53\", 10059.844], [\"2025-09-02 04:10:20\", 10266.369999999999]], \"total_portfolio_value\": 10266.369999999999, \"total_profit_loss\": 266.3700000000008}'"
      ]
     },
     "execution_count": 23,
     "metadata": {},
     "output_type": "execute_result"
    }
   ],
   "execution_count": 23
  },
  {
   "metadata": {
    "ExecuteTime": {
     "end_time": "2025-09-02T04:10:21.072394Z",
     "start_time": "2025-09-02T04:10:21.038221Z"
    }
   },
   "cell_type": "code",
   "source": "account.report()",
   "id": "3dcbf34de27eac8f",
   "outputs": [
    {
     "data": {
      "text/plain": [
       "'{\"name\": \"urjashee\", \"balance\": 9684.369999999999, \"strategy\": \"\", \"holdings\": {\"AMZN\": 6}, \"transactions\": [{\"symbol\": \"AMZN\", \"quantity\": 3, \"price\": 26.052, \"timestamp\": \"2025-09-02 04:09:52\", \"rationale\": \"Because this bookstore website looks promising\"}, {\"symbol\": \"AMZN\", \"quantity\": 3, \"price\": 79.158, \"timestamp\": \"2025-09-02 04:10:20\", \"rationale\": \"Because this bookstore website looks promising\"}], \"portfolio_value_time_series\": [[\"2025-09-02 04:09:52\", 10119.844], [\"2025-09-02 04:09:53\", 10059.844], [\"2025-09-02 04:10:20\", 10266.369999999999], [\"2025-09-02 04:10:21\", 10074.369999999999]], \"total_portfolio_value\": 10074.369999999999, \"total_profit_loss\": 74.3700000000008}'"
      ]
     },
     "execution_count": 24,
     "metadata": {},
     "output_type": "execute_result"
    }
   ],
   "execution_count": 24
  },
  {
   "metadata": {
    "ExecuteTime": {
     "end_time": "2025-09-02T04:10:21.846404Z",
     "start_time": "2025-09-02T04:10:21.840238Z"
    }
   },
   "cell_type": "code",
   "source": "account.list_transactions()",
   "id": "2d66f8ee66c97189",
   "outputs": [
    {
     "data": {
      "text/plain": [
       "[{'symbol': 'AMZN',\n",
       "  'quantity': 3,\n",
       "  'price': 26.052,\n",
       "  'timestamp': '2025-09-02 04:09:52',\n",
       "  'rationale': 'Because this bookstore website looks promising'},\n",
       " {'symbol': 'AMZN',\n",
       "  'quantity': 3,\n",
       "  'price': 79.158,\n",
       "  'timestamp': '2025-09-02 04:10:20',\n",
       "  'rationale': 'Because this bookstore website looks promising'}]"
      ]
     },
     "execution_count": 25,
     "metadata": {},
     "output_type": "execute_result"
    }
   ],
   "execution_count": 25
  },
  {
   "metadata": {},
   "cell_type": "markdown",
   "source": "### Now we write an MCP server and use it directly!",
   "id": "6351745707493306"
  },
  {
   "metadata": {
    "ExecuteTime": {
     "end_time": "2025-09-02T04:10:00.965881Z",
     "start_time": "2025-09-02T04:09:57.631358Z"
    }
   },
   "cell_type": "code",
   "source": [
    "params = {\"command\": \"uv\", \"args\": [\"run\", \"accounts_server.py\"]}\n",
    "async with MCPServerStdio(params=params, client_session_timeout_seconds=30) as server:\n",
    "    mcp_tools = await server.list_tools()"
   ],
   "id": "b13af73f24f6ca55",
   "outputs": [],
   "execution_count": 20
  },
  {
   "metadata": {
    "ExecuteTime": {
     "end_time": "2025-09-02T04:10:01.845127Z",
     "start_time": "2025-09-02T04:10:01.838773Z"
    }
   },
   "cell_type": "code",
   "source": "mcp_tools",
   "id": "57d9e44a7cd7d119",
   "outputs": [
    {
     "data": {
      "text/plain": [
       "[Tool(name='get_balance', title=None, description='Get the cash balance of the given account name.\\n\\n    Args:\\n        name: The name of the account holder\\n    ', inputSchema={'properties': {'name': {'title': 'Name', 'type': 'string'}}, 'required': ['name'], 'title': 'get_balanceArguments', 'type': 'object'}, outputSchema={'properties': {'result': {'title': 'Result', 'type': 'number'}}, 'required': ['result'], 'title': 'get_balanceOutput', 'type': 'object'}, annotations=None, meta=None),\n",
       " Tool(name='get_holdings', title=None, description='Get the holdings of the given account name.\\n\\n    Args:\\n        name: The name of the account holder\\n    ', inputSchema={'properties': {'name': {'title': 'Name', 'type': 'string'}}, 'required': ['name'], 'title': 'get_holdingsArguments', 'type': 'object'}, outputSchema={'additionalProperties': {'type': 'integer'}, 'title': 'get_holdingsDictOutput', 'type': 'object'}, annotations=None, meta=None),\n",
       " Tool(name='buy_shares', title=None, description=\"Buy shares of a stock.\\n\\n    Args:\\n        name: The name of the account holder\\n        symbol: The symbol of the stock\\n        quantity: The quantity of shares to buy\\n        rationale: The rationale for the purchase and fit with the account's strategy\\n    \", inputSchema={'properties': {'name': {'title': 'Name', 'type': 'string'}, 'symbol': {'title': 'Symbol', 'type': 'string'}, 'quantity': {'title': 'Quantity', 'type': 'integer'}, 'rationale': {'title': 'Rationale', 'type': 'string'}}, 'required': ['name', 'symbol', 'quantity', 'rationale'], 'title': 'buy_sharesArguments', 'type': 'object'}, outputSchema={'properties': {'result': {'title': 'Result', 'type': 'number'}}, 'required': ['result'], 'title': 'buy_sharesOutput', 'type': 'object'}, annotations=None, meta=None),\n",
       " Tool(name='sell_shares', title=None, description=\"Sell shares of a stock.\\n\\n    Args:\\n        name: The name of the account holder\\n        symbol: The symbol of the stock\\n        quantity: The quantity of shares to sell\\n        rationale: The rationale for the sale and fit with the account's strategy\\n    \", inputSchema={'properties': {'name': {'title': 'Name', 'type': 'string'}, 'symbol': {'title': 'Symbol', 'type': 'string'}, 'quantity': {'title': 'Quantity', 'type': 'integer'}, 'rationale': {'title': 'Rationale', 'type': 'string'}}, 'required': ['name', 'symbol', 'quantity', 'rationale'], 'title': 'sell_sharesArguments', 'type': 'object'}, outputSchema={'properties': {'result': {'title': 'Result', 'type': 'number'}}, 'required': ['result'], 'title': 'sell_sharesOutput', 'type': 'object'}, annotations=None, meta=None),\n",
       " Tool(name='change_strategy', title=None, description='At your discretion, if you choose to, call this to change your investment strategy for the future.\\n\\n    Args:\\n        name: The name of the account holder\\n        strategy: The new strategy for the account\\n    ', inputSchema={'properties': {'name': {'title': 'Name', 'type': 'string'}, 'strategy': {'title': 'Strategy', 'type': 'string'}}, 'required': ['name', 'strategy'], 'title': 'change_strategyArguments', 'type': 'object'}, outputSchema={'properties': {'result': {'title': 'Result', 'type': 'string'}}, 'required': ['result'], 'title': 'change_strategyOutput', 'type': 'object'}, annotations=None, meta=None)]"
      ]
     },
     "execution_count": 21,
     "metadata": {},
     "output_type": "execute_result"
    }
   ],
   "execution_count": 21
  },
  {
   "metadata": {
    "ExecuteTime": {
     "end_time": "2025-09-02T04:10:27.125063Z",
     "start_time": "2025-09-02T04:10:27.121489Z"
    }
   },
   "cell_type": "code",
   "source": [
    "instructions = \"You are able to manage an account for a client, and answer questions about the account.\"\n",
    "request = \"My name is Urjashee and my account is under the name Urjashee. What's my balance and my holdings?\"\n",
    "model = \"gpt-4.1-mini\""
   ],
   "id": "998a75ab4a4f591f",
   "outputs": [],
   "execution_count": 26
  },
  {
   "metadata": {
    "ExecuteTime": {
     "end_time": "2025-09-02T04:10:59.538581Z",
     "start_time": "2025-09-02T04:10:48.540590Z"
    }
   },
   "cell_type": "code",
   "source": [
    "\n",
    "async with MCPServerStdio(params=params, client_session_timeout_seconds=30) as mcp_server:\n",
    "    agent = Agent(name=\"account_manager\", instructions=instructions, model=model, mcp_servers=[mcp_server])\n",
    "    with trace(\"account_manager\"):\n",
    "        result = await Runner.run(agent, request)\n",
    "    display(Markdown(result.final_output))\n"
   ],
   "id": "cf37f6301b335184",
   "outputs": [
    {
     "data": {
      "text/plain": [
       "<IPython.core.display.Markdown object>"
      ],
      "text/markdown": "Urjashee, your current cash balance is approximately $9,684.37. In terms of holdings, you have 6 shares of AMZN (Amazon). Is there anything specific you would like to do with your account?"
     },
     "metadata": {},
     "output_type": "display_data"
    }
   ],
   "execution_count": 27
  },
  {
   "metadata": {},
   "cell_type": "markdown",
   "source": "### Now let's build our own MCP Client",
   "id": "d9aa9b2f58afee04"
  },
  {
   "metadata": {
    "ExecuteTime": {
     "end_time": "2025-09-02T04:14:41.135858Z",
     "start_time": "2025-09-02T04:14:32.806167Z"
    }
   },
   "cell_type": "code",
   "source": [
    "from accounts_client import get_accounts_tools_openai, read_accounts_resource, list_accounts_tools\n",
    "\n",
    "mcp_tools = await list_accounts_tools()\n",
    "print(mcp_tools)\n",
    "openai_tools = await get_accounts_tools_openai()\n",
    "print(openai_tools)"
   ],
   "id": "4a9641217bd3a0e0",
   "outputs": [
    {
     "name": "stdout",
     "output_type": "stream",
     "text": [
      "[Tool(name='get_balance', title=None, description='Get the cash balance of the given account name.\\n\\n    Args:\\n        name: The name of the account holder\\n    ', inputSchema={'properties': {'name': {'title': 'Name', 'type': 'string'}}, 'required': ['name'], 'title': 'get_balanceArguments', 'type': 'object'}, outputSchema={'properties': {'result': {'title': 'Result', 'type': 'number'}}, 'required': ['result'], 'title': 'get_balanceOutput', 'type': 'object'}, annotations=None, meta=None), Tool(name='get_holdings', title=None, description='Get the holdings of the given account name.\\n\\n    Args:\\n        name: The name of the account holder\\n    ', inputSchema={'properties': {'name': {'title': 'Name', 'type': 'string'}}, 'required': ['name'], 'title': 'get_holdingsArguments', 'type': 'object'}, outputSchema={'additionalProperties': {'type': 'integer'}, 'title': 'get_holdingsDictOutput', 'type': 'object'}, annotations=None, meta=None), Tool(name='buy_shares', title=None, description=\"Buy shares of a stock.\\n\\n    Args:\\n        name: The name of the account holder\\n        symbol: The symbol of the stock\\n        quantity: The quantity of shares to buy\\n        rationale: The rationale for the purchase and fit with the account's strategy\\n    \", inputSchema={'properties': {'name': {'title': 'Name', 'type': 'string'}, 'symbol': {'title': 'Symbol', 'type': 'string'}, 'quantity': {'title': 'Quantity', 'type': 'integer'}, 'rationale': {'title': 'Rationale', 'type': 'string'}}, 'required': ['name', 'symbol', 'quantity', 'rationale'], 'title': 'buy_sharesArguments', 'type': 'object'}, outputSchema={'properties': {'result': {'title': 'Result', 'type': 'number'}}, 'required': ['result'], 'title': 'buy_sharesOutput', 'type': 'object'}, annotations=None, meta=None), Tool(name='sell_shares', title=None, description=\"Sell shares of a stock.\\n\\n    Args:\\n        name: The name of the account holder\\n        symbol: The symbol of the stock\\n        quantity: The quantity of shares to sell\\n        rationale: The rationale for the sale and fit with the account's strategy\\n    \", inputSchema={'properties': {'name': {'title': 'Name', 'type': 'string'}, 'symbol': {'title': 'Symbol', 'type': 'string'}, 'quantity': {'title': 'Quantity', 'type': 'integer'}, 'rationale': {'title': 'Rationale', 'type': 'string'}}, 'required': ['name', 'symbol', 'quantity', 'rationale'], 'title': 'sell_sharesArguments', 'type': 'object'}, outputSchema={'properties': {'result': {'title': 'Result', 'type': 'number'}}, 'required': ['result'], 'title': 'sell_sharesOutput', 'type': 'object'}, annotations=None, meta=None), Tool(name='change_strategy', title=None, description='At your discretion, if you choose to, call this to change your investment strategy for the future.\\n\\n    Args:\\n        name: The name of the account holder\\n        strategy: The new strategy for the account\\n    ', inputSchema={'properties': {'name': {'title': 'Name', 'type': 'string'}, 'strategy': {'title': 'Strategy', 'type': 'string'}}, 'required': ['name', 'strategy'], 'title': 'change_strategyArguments', 'type': 'object'}, outputSchema={'properties': {'result': {'title': 'Result', 'type': 'string'}}, 'required': ['result'], 'title': 'change_strategyOutput', 'type': 'object'}, annotations=None, meta=None)]\n",
      "[FunctionTool(name='get_balance', description='Get the cash balance of the given account name.\\n\\n    Args:\\n        name: The name of the account holder\\n    ', params_json_schema={'properties': {'name': {'title': 'Name', 'type': 'string'}}, 'required': ['name'], 'title': 'get_balanceArguments', 'type': 'object', 'additionalProperties': False}, on_invoke_tool=<function get_accounts_tools_openai.<locals>.<lambda> at 0x7f46dcbc2ca0>, strict_json_schema=True, is_enabled=True), FunctionTool(name='get_holdings', description='Get the holdings of the given account name.\\n\\n    Args:\\n        name: The name of the account holder\\n    ', params_json_schema={'properties': {'name': {'title': 'Name', 'type': 'string'}}, 'required': ['name'], 'title': 'get_holdingsArguments', 'type': 'object', 'additionalProperties': False}, on_invoke_tool=<function get_accounts_tools_openai.<locals>.<lambda> at 0x7f46dcb899e0>, strict_json_schema=True, is_enabled=True), FunctionTool(name='buy_shares', description=\"Buy shares of a stock.\\n\\n    Args:\\n        name: The name of the account holder\\n        symbol: The symbol of the stock\\n        quantity: The quantity of shares to buy\\n        rationale: The rationale for the purchase and fit with the account's strategy\\n    \", params_json_schema={'properties': {'name': {'title': 'Name', 'type': 'string'}, 'symbol': {'title': 'Symbol', 'type': 'string'}, 'quantity': {'title': 'Quantity', 'type': 'integer'}, 'rationale': {'title': 'Rationale', 'type': 'string'}}, 'required': ['name', 'symbol', 'quantity', 'rationale'], 'title': 'buy_sharesArguments', 'type': 'object', 'additionalProperties': False}, on_invoke_tool=<function get_accounts_tools_openai.<locals>.<lambda> at 0x7f46ceb71ee0>, strict_json_schema=True, is_enabled=True), FunctionTool(name='sell_shares', description=\"Sell shares of a stock.\\n\\n    Args:\\n        name: The name of the account holder\\n        symbol: The symbol of the stock\\n        quantity: The quantity of shares to sell\\n        rationale: The rationale for the sale and fit with the account's strategy\\n    \", params_json_schema={'properties': {'name': {'title': 'Name', 'type': 'string'}, 'symbol': {'title': 'Symbol', 'type': 'string'}, 'quantity': {'title': 'Quantity', 'type': 'integer'}, 'rationale': {'title': 'Rationale', 'type': 'string'}}, 'required': ['name', 'symbol', 'quantity', 'rationale'], 'title': 'sell_sharesArguments', 'type': 'object', 'additionalProperties': False}, on_invoke_tool=<function get_accounts_tools_openai.<locals>.<lambda> at 0x7f46cd3d9c60>, strict_json_schema=True, is_enabled=True), FunctionTool(name='change_strategy', description='At your discretion, if you choose to, call this to change your investment strategy for the future.\\n\\n    Args:\\n        name: The name of the account holder\\n        strategy: The new strategy for the account\\n    ', params_json_schema={'properties': {'name': {'title': 'Name', 'type': 'string'}, 'strategy': {'title': 'Strategy', 'type': 'string'}}, 'required': ['name', 'strategy'], 'title': 'change_strategyArguments', 'type': 'object', 'additionalProperties': False}, on_invoke_tool=<function get_accounts_tools_openai.<locals>.<lambda> at 0x7f46cd3d9f80>, strict_json_schema=True, is_enabled=True)]\n"
     ]
    }
   ],
   "execution_count": 28
  },
  {
   "metadata": {
    "ExecuteTime": {
     "end_time": "2025-09-02T04:18:19.572410Z",
     "start_time": "2025-09-02T04:18:10.835502Z"
    }
   },
   "cell_type": "code",
   "source": [
    "request = \"My name is Urjashee and my account is under the name Urjashee. What's my balance?\"\n",
    "\n",
    "with trace(\"account_mcp_client\"):\n",
    "    agent = Agent(name=\"account_manager\", instructions=instructions, model=model, tools=openai_tools)\n",
    "    result = await Runner.run(agent, request)\n",
    "    display(Markdown(result.final_output))"
   ],
   "id": "87dc246357f3fb72",
   "outputs": [
    {
     "data": {
      "text/plain": [
       "<IPython.core.display.Markdown object>"
      ],
      "text/markdown": "Your current account balance is $9,684.37. If you have any other questions or want to make transactions, just let me know!"
     },
     "metadata": {},
     "output_type": "display_data"
    }
   ],
   "execution_count": 29
  },
  {
   "metadata": {
    "ExecuteTime": {
     "end_time": "2025-09-02T04:18:46.198498Z",
     "start_time": "2025-09-02T04:18:43.474486Z"
    }
   },
   "cell_type": "code",
   "source": [
    "context = await read_accounts_resource(\"Urjashee\")\n",
    "print(context)"
   ],
   "id": "dd3f48768e4474c6",
   "outputs": [
    {
     "name": "stdout",
     "output_type": "stream",
     "text": [
      "{\"name\": \"urjashee\", \"balance\": 9684.369999999999, \"strategy\": \"\", \"holdings\": {\"AMZN\": 6}, \"transactions\": [{\"symbol\": \"AMZN\", \"quantity\": 3, \"price\": 26.052, \"timestamp\": \"2025-09-02 04:09:52\", \"rationale\": \"Because this bookstore website looks promising\"}, {\"symbol\": \"AMZN\", \"quantity\": 3, \"price\": 79.158, \"timestamp\": \"2025-09-02 04:10:20\", \"rationale\": \"Because this bookstore website looks promising\"}], \"portfolio_value_time_series\": [[\"2025-09-02 04:09:52\", 10119.844], [\"2025-09-02 04:09:53\", 10059.844], [\"2025-09-02 04:10:20\", 10266.369999999999], [\"2025-09-02 04:10:21\", 10074.369999999999], [\"2025-09-02 04:18:45\", 9894.369999999999]], \"total_portfolio_value\": 9894.369999999999, \"total_profit_loss\": -105.6299999999992}\n"
     ]
    }
   ],
   "execution_count": 30
  },
  {
   "metadata": {
    "ExecuteTime": {
     "end_time": "2025-09-02T04:19:05.386289Z",
     "start_time": "2025-09-02T04:19:05.349735Z"
    }
   },
   "cell_type": "code",
   "source": [
    "from accounts import Account\n",
    "Account.get(\"Urjashee\").report()"
   ],
   "id": "a56ecb9d35432ce",
   "outputs": [
    {
     "data": {
      "text/plain": [
       "'{\"name\": \"urjashee\", \"balance\": 9684.369999999999, \"strategy\": \"\", \"holdings\": {\"AMZN\": 6}, \"transactions\": [{\"symbol\": \"AMZN\", \"quantity\": 3, \"price\": 26.052, \"timestamp\": \"2025-09-02 04:09:52\", \"rationale\": \"Because this bookstore website looks promising\"}, {\"symbol\": \"AMZN\", \"quantity\": 3, \"price\": 79.158, \"timestamp\": \"2025-09-02 04:10:20\", \"rationale\": \"Because this bookstore website looks promising\"}], \"portfolio_value_time_series\": [[\"2025-09-02 04:09:52\", 10119.844], [\"2025-09-02 04:09:53\", 10059.844], [\"2025-09-02 04:10:20\", 10266.369999999999], [\"2025-09-02 04:10:21\", 10074.369999999999], [\"2025-09-02 04:18:45\", 9894.369999999999], [\"2025-09-02 04:19:05\", 9954.369999999999]], \"total_portfolio_value\": 9954.369999999999, \"total_profit_loss\": -45.6299999999992}'"
      ]
     },
     "execution_count": 31,
     "metadata": {},
     "output_type": "execute_result"
    }
   ],
   "execution_count": 31
  },
  {
   "metadata": {},
   "cell_type": "code",
   "outputs": [],
   "execution_count": null,
   "source": "",
   "id": "211c9fe0f1fb4a8b"
  }
 ],
 "metadata": {
  "kernelspec": {
   "display_name": "Python 3",
   "language": "python",
   "name": "python3"
  },
  "language_info": {
   "codemirror_mode": {
    "name": "ipython",
    "version": 2
   },
   "file_extension": ".py",
   "mimetype": "text/x-python",
   "name": "python",
   "nbconvert_exporter": "python",
   "pygments_lexer": "ipython2",
   "version": "2.7.6"
  }
 },
 "nbformat": 4,
 "nbformat_minor": 5
}
