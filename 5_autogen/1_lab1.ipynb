{
 "cells": [
  {
   "cell_type": "code",
   "id": "initial_id",
   "metadata": {
    "collapsed": true,
    "jupyter": {
     "is_executing": true
    }
   },
   "source": [
    "from dotenv import load_dotenv\n",
    "load_dotenv(override=True)"
   ],
   "outputs": [],
   "execution_count": null
  },
  {
   "metadata": {},
   "cell_type": "markdown",
   "source": "### First concept: the Model",
   "id": "859579db6ec62954"
  },
  {
   "metadata": {
    "jupyter": {
     "is_executing": true
    }
   },
   "cell_type": "code",
   "source": [
    "from autogen_ext.models.openai import OpenAIChatCompletionClient\n",
    "model_client = OpenAIChatCompletionClient(model=\"gpt-4o-mini\")"
   ],
   "id": "ce36ef73ddcd6fd3",
   "outputs": [],
   "execution_count": null
  },
  {
   "metadata": {
    "jupyter": {
     "is_executing": true
    }
   },
   "cell_type": "code",
   "source": [
    "from autogen_ext.models.ollama import OllamaChatCompletionClient\n",
    "ollamamodel_client = OllamaChatCompletionClient(model=\"llama3.2\")"
   ],
   "id": "a3c4141c87ace612",
   "outputs": [],
   "execution_count": null
  },
  {
   "metadata": {},
   "cell_type": "markdown",
   "source": "### Second concept: The Message",
   "id": "12f77c82215dd399"
  },
  {
   "metadata": {
    "ExecuteTime": {
     "end_time": "2025-08-30T11:33:40.443608Z",
     "start_time": "2025-08-30T11:33:40.348055Z"
    }
   },
   "cell_type": "code",
   "source": [
    "from autogen_agentchat.messages import TextMessage\n",
    "message = TextMessage(content=\"I'd like to go to London\", source=\"user\")\n",
    "message"
   ],
   "id": "ff46f24ab86f5151",
   "outputs": [
    {
     "data": {
      "text/plain": [
       "TextMessage(id='8b450f32-1d16-43da-80d9-49d9ef764338', source='user', models_usage=None, metadata={}, created_at=datetime.datetime(2025, 8, 30, 11, 33, 40, 435332, tzinfo=datetime.timezone.utc), content=\"I'd like to go to London\", type='TextMessage')"
      ]
     },
     "execution_count": 4,
     "metadata": {},
     "output_type": "execute_result"
    }
   ],
   "execution_count": 4
  },
  {
   "metadata": {},
   "cell_type": "markdown",
   "source": "### Third concept: The Agent",
   "id": "318def8881ac9b08"
  },
  {
   "metadata": {
    "ExecuteTime": {
     "end_time": "2025-08-30T11:33:42.003264Z",
     "start_time": "2025-08-30T11:33:41.906560Z"
    }
   },
   "cell_type": "code",
   "source": [
    "from autogen_agentchat.agents import AssistantAgent\n",
    "\n",
    "agent = AssistantAgent(\n",
    "    name=\"airline_agent\",\n",
    "    model_client=model_client,\n",
    "    system_message=\"You are a helpful assistant for an airline. You give short, humorous answers.\",\n",
    "    model_client_stream=True\n",
    ")"
   ],
   "id": "15b982d9d5431aff",
   "outputs": [],
   "execution_count": 5
  },
  {
   "metadata": {},
   "cell_type": "markdown",
   "source": "### Put it all together with on_messages",
   "id": "fe9e23f524f468e3"
  },
  {
   "metadata": {
    "ExecuteTime": {
     "end_time": "2025-08-30T11:33:45.741388Z",
     "start_time": "2025-08-30T11:33:43.218634Z"
    }
   },
   "cell_type": "code",
   "source": [
    "from autogen_core import CancellationToken\n",
    "\n",
    "response = await agent.on_messages([message], cancellation_token=CancellationToken())\n",
    "response.chat_message.content"
   ],
   "id": "f7ce60ca19614657",
   "outputs": [
    {
     "data": {
      "text/plain": [
       "'Great choice! Just remember: if it rains, it’s just the sky’s way of saying hello!'"
      ]
     },
     "execution_count": 6,
     "metadata": {},
     "output_type": "execute_result"
    }
   ],
   "execution_count": 6
  },
  {
   "metadata": {},
   "cell_type": "markdown",
   "source": "### Let's make a local database of ticket prices",
   "id": "43d7e1176735c69c"
  },
  {
   "metadata": {
    "ExecuteTime": {
     "end_time": "2025-08-30T11:38:03.501338Z",
     "start_time": "2025-08-30T11:38:03.484842Z"
    }
   },
   "cell_type": "code",
   "source": [
    "import os\n",
    "import sqlite3\n",
    "\n",
    "# Delete existing database file if it exists\n",
    "if os.path.exists(\"tickets.db\"):\n",
    "    os.remove(\"tickets.db\")\n",
    "\n",
    "# Create the database and the table\n",
    "conn = sqlite3.connect(\"tickets.db\")\n",
    "c = conn.cursor()\n",
    "c.execute(\"CREATE TABLE cities (city_name TEXT PRIMARY KEY, round_trip_price REAL)\")\n",
    "conn.commit()\n",
    "conn.close()"
   ],
   "id": "c3c364be1909d64b",
   "outputs": [],
   "execution_count": 7
  },
  {
   "metadata": {
    "ExecuteTime": {
     "end_time": "2025-08-30T11:38:08.093892Z",
     "start_time": "2025-08-30T11:38:08.035933Z"
    }
   },
   "cell_type": "code",
   "source": [
    "# Populate our database\n",
    "def save_city_price(city_name, round_trip_price):\n",
    "    conn = sqlite3.connect(\"tickets.db\")\n",
    "    c = conn.cursor()\n",
    "    c.execute(\"REPLACE INTO cities (city_name, round_trip_price) VALUES (?, ?)\", (city_name.lower(), round_trip_price))\n",
    "    conn.commit()\n",
    "    conn.close()\n",
    "\n",
    "# Some cities!\n",
    "save_city_price(\"London\", 299)\n",
    "save_city_price(\"Paris\", 399)\n",
    "save_city_price(\"Rome\", 499)\n",
    "save_city_price(\"Madrid\", 550)\n",
    "save_city_price(\"Barcelona\", 580)\n",
    "save_city_price(\"Berlin\", 525)"
   ],
   "id": "44fb7e57eae987df",
   "outputs": [],
   "execution_count": 8
  },
  {
   "metadata": {
    "ExecuteTime": {
     "end_time": "2025-08-30T11:38:17.921902Z",
     "start_time": "2025-08-30T11:38:17.913107Z"
    }
   },
   "cell_type": "code",
   "source": [
    "# Method to get price for a city\n",
    "def get_city_price(city_name: str) -> float | None:\n",
    "    \"\"\" Get the roundtrip ticket price to travel to the city \"\"\"\n",
    "    conn = sqlite3.connect(\"tickets.db\")\n",
    "    c = conn.cursor()\n",
    "    c.execute(\"SELECT round_trip_price FROM cities WHERE city_name = ?\", (city_name.lower(),))\n",
    "    result = c.fetchone()\n",
    "    conn.close()\n",
    "    return result[0] if result else None"
   ],
   "id": "6460ca1a269f6bde",
   "outputs": [],
   "execution_count": 9
  },
  {
   "metadata": {
    "ExecuteTime": {
     "end_time": "2025-08-30T11:38:23.987839Z",
     "start_time": "2025-08-30T11:38:23.978167Z"
    }
   },
   "cell_type": "code",
   "source": "get_city_price(\"Rome\")",
   "id": "5431b45ae5aead86",
   "outputs": [
    {
     "data": {
      "text/plain": [
       "499.0"
      ]
     },
     "execution_count": 10,
     "metadata": {},
     "output_type": "execute_result"
    }
   ],
   "execution_count": 10
  },
  {
   "metadata": {
    "ExecuteTime": {
     "end_time": "2025-08-30T11:39:51.121219Z",
     "start_time": "2025-08-30T11:39:51.114204Z"
    }
   },
   "cell_type": "code",
   "source": [
    "from autogen_agentchat.agents import AssistantAgent\n",
    "\n",
    "smart_agent = AssistantAgent(\n",
    "    name=\"smart_airline_agent\",\n",
    "    model_client=model_client,\n",
    "    system_message=\"You are a helpful assistant for an airline. You give short, humorous answers, including the price of a roundtrip ticket.\",\n",
    "    model_client_stream=True,\n",
    "    tools=[get_city_price],\n",
    "    reflect_on_tool_use=True\n",
    ")"
   ],
   "id": "26f850ef4ca18c01",
   "outputs": [],
   "execution_count": 11
  },
  {
   "metadata": {
    "ExecuteTime": {
     "end_time": "2025-08-30T11:40:01.831106Z",
     "start_time": "2025-08-30T11:39:58.546713Z"
    }
   },
   "cell_type": "code",
   "source": [
    "response = await smart_agent.on_messages([message], cancellation_token=CancellationToken())\n",
    "for inner_message in response.inner_messages:\n",
    "    print(inner_message.content)\n",
    "response.chat_message.content"
   ],
   "id": "79b2db5c9edae00e",
   "outputs": [
    {
     "name": "stdout",
     "output_type": "stream",
     "text": [
      "[FunctionCall(id='call_7JK5nc3n5ezkZ7qJznk7Tnox', arguments='{\"city_name\":\"London\"}', name='get_city_price')]\n",
      "[FunctionExecutionResult(content='299.0', name='get_city_price', call_id='call_7JK5nc3n5ezkZ7qJznk7Tnox', is_error=False)]\n"
     ]
    },
    {
     "data": {
      "text/plain": [
       "'A trip to London? Fantastic choice! A roundtrip ticket will cost you around $299. Just remember, the only thing more expensive than a cup of tea there is the sincerity of the locals! 🫖✈️'"
      ]
     },
     "execution_count": 12,
     "metadata": {},
     "output_type": "execute_result"
    }
   ],
   "execution_count": 12
  },
  {
   "metadata": {},
   "cell_type": "code",
   "outputs": [],
   "execution_count": null,
   "source": "",
   "id": "ddf36025f7286cc"
  }
 ],
 "metadata": {
  "kernelspec": {
   "display_name": "Python 3 (ipykernel)",
   "language": "python",
   "name": "python3"
  },
  "language_info": {
   "codemirror_mode": {
    "name": "ipython",
    "version": 2
   },
   "file_extension": ".py",
   "mimetype": "text/x-python",
   "name": "python",
   "nbconvert_exporter": "python",
   "pygments_lexer": "ipython2",
   "version": "2.7.6"
  }
 },
 "nbformat": 4,
 "nbformat_minor": 5
}
