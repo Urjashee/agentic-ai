{
 "cells": [
  {
   "metadata": {},
   "cell_type": "markdown",
   "source": [
    "### Week 5 Day 4\n",
    "\n",
    "AutoGen Core - Distributed\n",
    "\n",
    "I'm only going to give a Teaser of this!!\n",
    "\n",
    "Partly because I'm unsure how relevant it is to you. If you'd like me to add more content for this, please do let me know.."
   ],
   "id": "2d39262b09fa5aeb"
  },
  {
   "metadata": {
    "ExecuteTime": {
     "end_time": "2025-08-31T16:18:05.855210Z",
     "start_time": "2025-08-31T16:18:03.108688Z"
    }
   },
   "cell_type": "code",
   "source": [
    "from dataclasses import dataclass\n",
    "from autogen_core import AgentId, MessageContext, RoutedAgent, message_handler\n",
    "from autogen_agentchat.agents import AssistantAgent\n",
    "from autogen_agentchat.messages import TextMessage\n",
    "from autogen_ext.models.openai import OpenAIChatCompletionClient\n",
    "from autogen_ext.tools.langchain import LangChainToolAdapter\n",
    "from langchain_community.utilities import GoogleSerperAPIWrapper\n",
    "from langchain.agents import Tool\n",
    "from IPython.display import display, Markdown\n",
    "\n",
    "from dotenv import load_dotenv"
   ],
   "id": "57d8941907bab2b8",
   "outputs": [],
   "execution_count": 1
  },
  {
   "metadata": {
    "ExecuteTime": {
     "end_time": "2025-08-31T16:18:06.581876Z",
     "start_time": "2025-08-31T16:18:06.566998Z"
    }
   },
   "cell_type": "code",
   "source": "load_dotenv(override=True)",
   "id": "b08ae92e62c12066",
   "outputs": [
    {
     "data": {
      "text/plain": [
       "True"
      ]
     },
     "execution_count": 2,
     "metadata": {},
     "output_type": "execute_result"
    }
   ],
   "execution_count": 2
  },
  {
   "metadata": {
    "ExecuteTime": {
     "end_time": "2025-08-31T16:18:09.638409Z",
     "start_time": "2025-08-31T16:18:09.631936Z"
    }
   },
   "cell_type": "code",
   "source": "ALL_IN_ONE_WORKER = True",
   "id": "46ee6ffb3b0cb035",
   "outputs": [],
   "execution_count": 3
  },
  {
   "metadata": {},
   "cell_type": "markdown",
   "source": "### Start with our Message class",
   "id": "ff1e71b13eb18e04"
  },
  {
   "metadata": {
    "ExecuteTime": {
     "end_time": "2025-08-31T16:18:11.465501Z",
     "start_time": "2025-08-31T16:18:11.457901Z"
    }
   },
   "cell_type": "code",
   "source": [
    "\n",
    "@dataclass\n",
    "class Message:\n",
    "    content: str"
   ],
   "id": "7f0dff910659f29a",
   "outputs": [],
   "execution_count": 4
  },
  {
   "metadata": {},
   "cell_type": "markdown",
   "source": "### And now - a host for our distributed runtime",
   "id": "7579db3f19ce6d74"
  },
  {
   "metadata": {
    "ExecuteTime": {
     "end_time": "2025-08-31T16:18:12.840771Z",
     "start_time": "2025-08-31T16:18:12.707975Z"
    }
   },
   "cell_type": "code",
   "source": [
    "from autogen_ext.runtimes.grpc import GrpcWorkerAgentRuntimeHost\n",
    "\n",
    "host = GrpcWorkerAgentRuntimeHost(address=\"localhost:50051\")\n",
    "host.start()"
   ],
   "id": "b0ce9c77353631f1",
   "outputs": [],
   "execution_count": 5
  },
  {
   "metadata": {},
   "cell_type": "markdown",
   "source": "### Let's reintroduce a tool",
   "id": "2875d94c447e2979"
  },
  {
   "metadata": {
    "ExecuteTime": {
     "end_time": "2025-08-31T16:18:13.915585Z",
     "start_time": "2025-08-31T16:18:13.907074Z"
    }
   },
   "cell_type": "code",
   "source": [
    "serper = GoogleSerperAPIWrapper()\n",
    "langchain_serper =Tool(name=\"internet_search\", func=serper.run, description=\"Useful for when you need to search the internet\")\n",
    "autogen_serper = LangChainToolAdapter(langchain_serper)"
   ],
   "id": "9e1067d550b7d440",
   "outputs": [],
   "execution_count": 6
  },
  {
   "metadata": {
    "ExecuteTime": {
     "end_time": "2025-08-31T16:18:14.533722Z",
     "start_time": "2025-08-31T16:18:14.528085Z"
    }
   },
   "cell_type": "code",
   "source": [
    "instruction1 = \"To help with a decision on whether to use AutoGen in a new AI Agent project, \\\n",
    "please research and briefly respond with reasons in favor of choosing AutoGen; the pros of AutoGen.\"\n",
    "\n",
    "instruction2 = \"To help with a decision on whether to use AutoGen in a new AI Agent project, \\\n",
    "please research and briefly respond with reasons against choosing AutoGen; the cons of Autogen.\"\n",
    "\n",
    "judge = \"You must make a decision on whether to use AutoGen for a project. \\\n",
    "Your research team has come up with the following reasons for and against. \\\n",
    "Based purely on the research from your team, please respond with your decision and brief rationale.\""
   ],
   "id": "7b758f82ce503d52",
   "outputs": [],
   "execution_count": 7
  },
  {
   "metadata": {},
   "cell_type": "markdown",
   "source": "### And make some Agents",
   "id": "e0815551b2c5c3d"
  },
  {
   "metadata": {
    "ExecuteTime": {
     "end_time": "2025-08-31T16:18:15.997861Z",
     "start_time": "2025-08-31T16:18:15.984770Z"
    }
   },
   "cell_type": "code",
   "source": [
    "class Player1Agent(RoutedAgent):\n",
    "    def __init__(self, name: str) -> None:\n",
    "        super().__init__(name)\n",
    "        model_client = OpenAIChatCompletionClient(model=\"gpt-4o-mini\")\n",
    "        self._delegate = AssistantAgent(name, model_client=model_client, tools=[autogen_serper], reflect_on_tool_use=True)\n",
    "\n",
    "    @message_handler\n",
    "    async def handle_my_message_type(self, message: Message, ctx: MessageContext) -> Message:\n",
    "        text_message = TextMessage(content=message.content, source=\"user\")\n",
    "        response = await self._delegate.on_messages([text_message], ctx.cancellation_token)\n",
    "        return Message(content=response.chat_message.content)\n",
    "\n",
    "class Player2Agent(RoutedAgent):\n",
    "    def __init__(self, name: str) -> None:\n",
    "        super().__init__(name)\n",
    "        model_client = OpenAIChatCompletionClient(model=\"gpt-4o-mini\")\n",
    "        self._delegate = AssistantAgent(name, model_client=model_client, tools=[autogen_serper], reflect_on_tool_use=True)\n",
    "\n",
    "    @message_handler\n",
    "    async def handle_my_message_type(self, message: Message, ctx: MessageContext) -> Message:\n",
    "        text_message = TextMessage(content=message.content, source=\"user\")\n",
    "        response = await self._delegate.on_messages([text_message], ctx.cancellation_token)\n",
    "        return Message(content=response.chat_message.content)\n",
    "\n",
    "class Judge(RoutedAgent):\n",
    "    def __init__(self, name: str) -> None:\n",
    "        super().__init__(name)\n",
    "        model_client = OpenAIChatCompletionClient(model=\"gpt-4o-mini\")\n",
    "        self._delegate = AssistantAgent(name, model_client=model_client)\n",
    "\n",
    "    @message_handler\n",
    "    async def handle_my_message_type(self, message: Message, ctx: MessageContext) -> Message:\n",
    "        message1 = Message(content=instruction1)\n",
    "        message2 = Message(content=instruction2)\n",
    "        inner_1 = AgentId(\"player1\", \"default\")\n",
    "        inner_2 = AgentId(\"player2\", \"default\")\n",
    "        response1 = await self.send_message(message1, inner_1)\n",
    "        response2 = await self.send_message(message2, inner_2)\n",
    "        result = f\"## Pros of AutoGen:\\n{response1.content}\\n\\n## Cons of AutoGen:\\n{response2.content}\\n\\n\"\n",
    "        judgement = f\"{judge}\\n{result}Respond with your decision and brief explanation\"\n",
    "        message = TextMessage(content=judgement, source=\"user\")\n",
    "        response = await self._delegate.on_messages([message], ctx.cancellation_token)\n",
    "        return Message(content=result + \"\\n\\n## Decision:\\n\\n\" + response.chat_message.content)\n"
   ],
   "id": "3b829ee5785414d0",
   "outputs": [],
   "execution_count": 8
  },
  {
   "metadata": {
    "ExecuteTime": {
     "end_time": "2025-08-31T16:18:18.413294Z",
     "start_time": "2025-08-31T16:18:18.388484Z"
    }
   },
   "cell_type": "code",
   "source": [
    "from autogen_ext.runtimes.grpc import GrpcWorkerAgentRuntime\n",
    "\n",
    "if ALL_IN_ONE_WORKER:\n",
    "\n",
    "    worker = GrpcWorkerAgentRuntime(host_address=\"localhost:50051\")\n",
    "    await worker.start()\n",
    "\n",
    "    await Player1Agent.register(worker, \"player1\", lambda: Player1Agent(\"player1\"))\n",
    "    await Player2Agent.register(worker, \"player2\", lambda: Player2Agent(\"player2\"))\n",
    "    await Judge.register(worker, \"judge\", lambda: Judge(\"judge\"))\n",
    "\n",
    "    agent_id = AgentId(\"judge\", \"default\")\n",
    "\n",
    "else:\n",
    "\n",
    "    worker1 = GrpcWorkerAgentRuntime(host_address=\"localhost:50051\")\n",
    "    await worker1.start()\n",
    "    await Player1Agent.register(worker1, \"player1\", lambda: Player1Agent(\"player1\"))\n",
    "\n",
    "    worker2 = GrpcWorkerAgentRuntime(host_address=\"localhost:50051\")\n",
    "    await worker2.start()\n",
    "    await Player2Agent.register(worker2, \"player2\", lambda: Player2Agent(\"player2\"))\n",
    "\n",
    "    worker = GrpcWorkerAgentRuntime(host_address=\"localhost:50051\")\n",
    "    await worker.start()\n",
    "    await Judge.register(worker, \"judge\", lambda: Judge(\"judge\"))\n",
    "    agent_id = AgentId(\"judge\", \"default\")\n",
    "\n",
    "\n"
   ],
   "id": "a9ffbe64306d273b",
   "outputs": [],
   "execution_count": 9
  },
  {
   "metadata": {
    "ExecuteTime": {
     "end_time": "2025-08-31T16:18:39.430999Z",
     "start_time": "2025-08-31T16:18:19.535009Z"
    }
   },
   "cell_type": "code",
   "source": "response = await worker.send_message(Message(content=\"Go!\"), agent_id)",
   "id": "16e1246a4a78e6e5",
   "outputs": [],
   "execution_count": 10
  },
  {
   "metadata": {
    "ExecuteTime": {
     "end_time": "2025-08-31T16:19:06.710024Z",
     "start_time": "2025-08-31T16:19:06.701870Z"
    }
   },
   "cell_type": "code",
   "source": "display(Markdown(response.content))",
   "id": "15ed687c82fe3b97",
   "outputs": [
    {
     "data": {
      "text/plain": [
       "<IPython.core.display.Markdown object>"
      ],
      "text/markdown": "## Pros of AutoGen:\nHere are several pros of using AutoGen for your AI Agent project:\n\n1. **Multi-Agent Collaboration**: AutoGen excels in scenarios that require cooperation between multiple AI agents, making it ideal for complex tasks that involve decision-making or back-and-forth interactions.\n\n2. **Modular Design**: The framework's modularity allows for easy maintenance and scalability, accommodating both simple and complex multi-agent scenarios.\n\n3. **Customizability**: AutoGen offers advanced customization options, enabling you to define specific roles, capabilities, and communication protocols for each agent, tailoring them to your project needs.\n\n4. **User-Friendly Framework**: It is designed to be accessible, accelerating development and research in agentic AI while providing out-of-the-box agent templates for quick setups.\n\n5. **Flexible Tool Orchestration**: AutoGen supports structured management of agents, including tool orchestration and memory management, enhancing their overall efficacy.\n\n6. **Human-in-the-Loop Support**: The framework allows for implementing human oversight in workflows, improving the reliability and safety of AI outputs.\n\nIn summary, AutoGen is advantageous for its collaborative capabilities, modularity, customization, user-friendliness, flexible orchestration, and human-in-the-loop features, making it a strong contender for AI agent projects.\n\nTERMINATE\n\n## Cons of AutoGen:\nHere are some reasons against choosing AutoGen for your AI Agent project:\n\n1. **Resource Intensiveness**: AutoGen can be significantly resource-intensive, requiring more computational power, which may lead to higher operational costs, especially in large-scale applications.\n\n2. **Complex Setup**: It often demands more initial setup and configuration than simpler frameworks, which can lead to higher upfront development time and resource allocation.\n\n3. **Steep Learning Curve**: New developers may encounter a steep learning curve, needing substantial time to become proficient in utilizing AutoGen effectively.\n\n4. **Less Structure**: Some developers may find AutoGen to be less structured compared to other agent frameworks, which could complicate the implementation process and lead to inconsistencies in development.\n\n5. **Limited Customization Options**: AutoGen may have restrictions on how customizable and integrable it is with other systems, which can hamper flexibility in meeting specific project needs.\n\n6. **Monitoring Overhead**: The need to constantly monitor the use of credits or resources in AutoGen can be burdensome and may lead to inefficiencies and unexpected costs.\n\n7. **Limited AI Capabilities**: It may not be ideally suited for complex AI-driven automation tasks, which may limit its applicability in more advanced projects.\n\nThese factors should be weighed carefully when considering AutoGen for your AI Agent project. \n\nTERMINATE\n\n\n\n## Decision:\n\nBased on the research provided by the team, I have decided to move forward with AutoGen for the AI Agent project. \n\nThe rationale behind this decision hinges on the significant advantages that AutoGen offers, particularly its strong support for multi-agent collaboration and customizable frameworks. These features align well with the project's need for complex interactions and tailored solutions. Although the cons, such as resource intensiveness and a complex setup, present valid concerns, the benefits of flexibility, maintenance ease, and human oversight in decision-making outweigh the drawbacks. \n\nTherefore, AutoGen represents a promising solution that can enhance the overall efficacy and success of the project. \n\nTERMINATE"
     },
     "metadata": {},
     "output_type": "display_data"
    }
   ],
   "execution_count": 12
  },
  {
   "metadata": {
    "ExecuteTime": {
     "end_time": "2025-08-31T16:16:35.866103Z",
     "start_time": "2025-08-31T16:16:35.670968Z"
    }
   },
   "cell_type": "code",
   "source": [
    "await worker.stop()\n",
    "if not ALL_IN_ONE_WORKER:\n",
    "    await worker1.stop()\n",
    "    await worker2.stop()"
   ],
   "id": "1f769885b5cf9a26",
   "outputs": [],
   "execution_count": 13
  },
  {
   "metadata": {
    "ExecuteTime": {
     "end_time": "2025-08-31T16:16:41.708332Z",
     "start_time": "2025-08-31T16:16:41.700174Z"
    }
   },
   "cell_type": "code",
   "source": "await host.stop()",
   "id": "72fcc70754bb85a0",
   "outputs": [],
   "execution_count": 14
  },
  {
   "metadata": {},
   "cell_type": "code",
   "outputs": [],
   "execution_count": null,
   "source": "",
   "id": "d279d90ad8f255ec"
  }
 ],
 "metadata": {
  "kernelspec": {
   "display_name": "Python (uv)",
   "language": "python",
   "name": "uv-env"
  },
  "language_info": {
   "codemirror_mode": {
    "name": "ipython",
    "version": 2
   },
   "file_extension": ".py",
   "mimetype": "text/x-python",
   "name": "python",
   "nbconvert_exporter": "python",
   "pygments_lexer": "ipython2",
   "version": "2.7.6"
  }
 },
 "nbformat": 4,
 "nbformat_minor": 5
}
