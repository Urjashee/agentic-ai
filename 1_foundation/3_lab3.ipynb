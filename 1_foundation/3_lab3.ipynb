{
 "cells": [
  {
   "cell_type": "code",
   "execution_count": 1,
   "id": "1940a9fb",
   "metadata": {},
   "outputs": [],
   "source": [
    "from openai import OpenAI\n",
    "from dotenv import load_dotenv\n",
    "from pypdf import PdfReader\n",
    "import gradio as gr"
   ]
  },
  {
   "cell_type": "code",
   "execution_count": 2,
   "id": "73fe3f32",
   "metadata": {},
   "outputs": [],
   "source": [
    "load_dotenv(override=True)\n",
    "openai = OpenAI()"
   ]
  },
  {
   "cell_type": "code",
   "execution_count": null,
   "id": "ae91fce0",
   "metadata": {},
   "outputs": [],
   "source": [
    "reader = PdfReader(\"me/linkedin.pdf\")\n",
    "linkedin = \"\"\n",
    "for page in reader.pages:\n",
    "    text = page.extract_text()\n",
    "    if text:\n",
    "        linkedin += text"
   ]
  },
  {
   "cell_type": "code",
   "execution_count": 7,
   "id": "d9f758cd",
   "metadata": {},
   "outputs": [
    {
     "name": "stdout",
     "output_type": "stream",
     "text": [
      "URJASHEE SHAW (Guwahati, Assam, India)  \n",
      "Contact: +918876946163  Email: urjashee09@gmail.com \n",
      "GitHub: https://github.com/Urjashee?tab=repositories \n",
      "LinkedIn: www.linkedin.com/in/urjashee-shaw-b51b9653 \n",
      "Projects: https://gist.github.com/Urjashee/11b7f57aaaffee1310386a8c6f32f843, \n",
      "https://docs.google.com/document/d/1qWqJa1mjxNupL6pMxTxyh5KDQcxx6qjlxLO114ZY2fg/ed\n",
      "it?usp=sharing \n",
      " \n",
      "Objective: \n",
      "Experienced full stack developer and project manager with expertise in various programming \n",
      "frameworks and project leadership roles. Seeking a challenging position in software development \n",
      "where I can leverage my skills in full stack development and management. \n",
      " \n",
      "Education: \n",
      "• M. Tech in Computer Science and Engineering (Network Security) \n",
      "Assam Don Bosco University, 8.4 CGPA (August 2015 – July 2017) \n",
      "• B. Tech in Computer Science and Engineering \n",
      "Assam Don Bosco University, 7.8 CGPA (August 2008 – July 2012) \n",
      " \n",
      "Work Experience: \n",
      "• Full Stack Developer | Simpalm (November 2021 – Present, Remote) \n",
      "o Technologies: NodeJs, ExpressJs, Typescript, Django, Laravel, MySQL, Postgres, \n",
      "JavaScript, ReactJs, Redux, Git, GitHub, Docker, Kubernetes \n",
      "o Role: Developed and maintained full-stack applications, implemented CI/CD \n",
      "pipelines, and integrated AWS services for scalable deployments. \n",
      "• Managing Director | Northeast Software Technologies (November 2019 – October \n",
      "2021, Guwahati, Assam) \n",
      "o Technologies: Cordova, Hibernate, NodeJs, Laravel, MySQL, JavaScript, VueJs, Git, \n",
      "GitHub, Openlayers \n",
      "o Role: Oversaw projects and development, ensured timely delivery, and managed \n",
      "a team of developers. \n",
      "• Software Developer Consultant | Amigo Optima Software Solutions (September \n",
      "2018 – October 2019, Guwahati, Assam) o Technologies: Cordova, Hibernate, Laravel, MySQL, JavaScript, VueJs, Git, GitHub \n",
      "o Role: Provided consulting services for software development projects, worked on \n",
      "mobile and web solutions. \n",
      "• Project Manager | Digitalant (July 2016 – June 2018, Guwahati, Assam) \n",
      "o Technologies: Laravel, MySQL, JavaScript, Android, Git, GitHub \n",
      "o Role: Managed multiple projects, coordinated with clients, and supervised \n",
      "development teams. \n",
      "• Lecturer | Assam Engineering Institute (Polytechnic College) (August 2013 – July \n",
      "2015, Guwahati, Assam) \n",
      "o Taught computer science subjects, guided student projects, and mentored \n",
      "aspiring engineers. \n",
      " \n",
      "Skills: \n",
      "• Frameworks & Tools: ExpressJs, Laravel, Django, Streamlit, CodeIgniter, ReactJs, VueJs, \n",
      "Flask \n",
      "• Languages: JavaScript (NodeJs), Typescript, Python, PHP, Java \n",
      "• AI: Machine Learning, Pandas, Numpy, Tensorflow, Langchain, Pinecone, CromaDB \n",
      "• DevOps & Cloud: Docker, Kubernetes, AWS (EC2, S3, Lambda, Cloud Formation, RDS, \n",
      "Glue, Kinesis, Dynamo DB) \n",
      "• Version Control: Git, GitHub, Bitbucket \n",
      " \n",
      "Achievements: \n",
      "• Published research papers on VOIP, Big Data, and Social Network Forensics. \n",
      "• Qualified GATE examination. \n",
      " \n",
      "Languages: \n",
      "• Fluent in English and Hindi \n",
      " \n",
      "Interests:  Travel, Swimming, Technology, Sudoku, Problem Solving \n",
      " Projects: \n",
      "1. ATLAS (January 2025 - Present) (https://www.atlasfree.org/) \n",
      "o Description: An in-house application for the U.S. market that creates an ERP to \n",
      "manage and relocate victims of human trafficking. \n",
      "o Role: Full-stack developer responsible for designing and implementing the \n",
      "backend architecture using Python, Django and TypeORM and ReactJs, React \n",
      "Redux as the frontend. Developed a CI/CD pipeline for seamless deployment and \n",
      "integrated multiple AWS services (SES, SNS, S3, Beanstalk) to enhance scalability \n",
      "and email notifications. \n",
      "o Technology Stack: Python, Django, Typescript, ReactJs, React Redux, TypeORM, \n",
      "AWS (SES, SNS, S3, Beanstalk), CI/CD, Docker. \n",
      " \n",
      "2. FAMILY DEFENDER (September 2024 – June 2025) \n",
      "o Description: An application for the U.S. market created for a family that includes \n",
      "the parents, children in the family and an advisor. The advisor is responsible for \n",
      "assigning a family plan to the family based on some survey results. \n",
      "o Role: Backend architecture using NodeJs, ExpressJs, Typescript and TypeORM. \n",
      "Developed a CI/CD pipeline for seamless deployment and integrated multiple \n",
      "AWS services (SES, SNS, S3, Beanstalk) to enhance scalability and email \n",
      "notifications. \n",
      "o Technology Stack: NodeJs, ExpressJs, Typescript, TypeORM, AWS (SES, SNS, S3, \n",
      "Beanstalk), CI/CD, Docker. \n",
      " \n",
      "3. REKKI (Recommendation apps) (March 2024 – Present) \n",
      "o Description: An application for the U.S. market that allows users to create \n",
      "recommendations about movies, podcast, books music and share it with their \n",
      "friends. \n",
      "o Role: Full-stack developer responsible for designing and implementing the \n",
      "backend architecture using Python, Django and TypeORM and ReactJs, React \n",
      "Redux as the frontend. Developed a CI/CD pipeline for seamless deployment and \n",
      "integrated multiple AWS services (SES, SNS, S3, Beanstalk) to enhance scalability \n",
      "and email notifications. \n",
      "o Technology Stack: Python, Django, Typescript, ReactJs, React Redux, TypeORM, \n",
      "AWS (SES, SNS, S3, Beanstalk), CI/CD, Docker. \n",
      " \n",
      "4. INSTANT SECURITY (December 2023 – Present) o Description: An application for the U.S. market that allows users to create \n",
      "security jobs for a few hours and security guards in turn can apply for these jobs. \n",
      "o Role: Full-stack developer responsible for designing and implementing the \n",
      "backend architecture using NodeJs, ExpressJs, Typescript and TypeORM and \n",
      "ReactJs, React Redux as the frontend. Developed a CI/CD pipeline for seamless \n",
      "deployment and integrated multiple AWS services (SES, SNS, S3, Beanstalk) to \n",
      "enhance scalability and email notifications. \n",
      "o Technology Stack: NodeJs, ExpressJs, Typescript, ReactJs, React Redux, \n",
      "TypeORM, AWS (SES, SNS, S3, Beanstalk), CI/CD, Docker. \n",
      " \n",
      "5. SCHOOL CLOUD SOFTWARE (March 2024 – September 2024) \n",
      "o Description: An In-house ERP application for a client that keeps all the desired \n",
      "school management information in one place. \n",
      "o Role: Frontend development using ReactJs, React Redux. Developed a CI/CD \n",
      "pipeline for seamless deployment and integrated multiple AWS services (SES, \n",
      "SNS, S3, Beanstalk) to enhance scalability and email notifications. \n",
      "o Technology Stack: ReactJs, React Redux, PostgreSQL, AWS (SES, SNS, S3, \n",
      "Beanstalk), CI/CD. \n",
      " \n",
      " \n",
      "6. GYM DROP (March 2023 – November 2023) \n",
      "o Description: An application for the U.S. market that allows users to purchase day \n",
      "passes for gyms registered in the platform, providing easy access to fitness \n",
      "facilities without long-term commitments. \n",
      "o Role: Full-stack developer responsible for designing and implementing the \n",
      "backend architecture using Laravel and ReactJs, React Redux as the frontend.. \n",
      "Developed a CI/CD pipeline for seamless deployment and integrated multiple \n",
      "AWS services (SES, SNS, S3, Beanstalk) to enhance scalability and email \n",
      "notifications. \n",
      "o Technology Stack: Laravel, ReactJs, React Redux, PostgreSQL, AWS (SES, SNS, S3, \n",
      "Beanstalk), CI/CD. \n",
      " \n",
      "7. JAM SESSION (December 2022 – May 2023) \n",
      "o Description: A social networking application aimed at musicians, allowing them \n",
      "to connect, share, and collaborate for jam sessions and music creation. The \n",
      "platform offers features such as real-time chat, media sharing, and event \n",
      "planning. \n",
      "o Role: Led the backend development using Django and integrated it with ReactJs, \n",
      "React Redux for a seamless user experience. Configured AWS services for media storage and notifications, and ensured high availability with a robust CI/CD \n",
      "workflow. \n",
      "o Technology Stack: Django, ReactJs, React Redux, MySQL, AWS (SES, SNS, S3), \n",
      "CI/CD. \n",
      " \n",
      " \n",
      "8. COMPARE MEDSRX (October 2022 – February 2023) \n",
      "o Description: A U.S.-based web application designed to help users compare \n",
      "available discount cards for prescription drugs across different pharmacies, \n",
      "promoting cost-effective medication purchases. \n",
      "o Role: Handled both backend and frontend tasks, using Django for server-side \n",
      "logic and ReactJs, React Redux for the user interface. Worked on integrating \n",
      "pharmacy data APIs and implemented AWS services for email communication \n",
      "and cloud storage. \n",
      "o Technology Stack: Django, ReactJs, React Redux, PostgreSQL, AWS (SES, SNS, \n",
      "S3). \n",
      " \n",
      " \n",
      "9. DENTOLOGIE, Illinois (May 2022 – November 2022) \n",
      "o Description: A comprehensive web solution for a dental clinic, facilitating \n",
      "appointment scheduling, patient management, inventory tracking, and \n",
      "automated reminders. \n",
      "o Role: Played a significant role in full-stack development, using Ruby on Rails for \n",
      "backend functionalities and ReactJs, React Redux for the frontend interface. \n",
      "Deployed the application using AWS Beanstalk and utilised various AWS services \n",
      "for email notifications, data storage, and database management. \n",
      "o Technology Stack: Ruby on Rails, ReactJs, React Redux, PostgreSQL, AWS \n",
      "(Beanstalk, SES, SNS, S3, RDS). \n",
      " \n",
      " \n",
      "10. MANAGEMENT SYSTEM, Sawing High Climbers, Connecticut (April 2022 – November \n",
      "2022) \n",
      "o Description: Developed a system for managing operations of a tree service \n",
      "company, including client proposals, project management, scheduling, and \n",
      "documentation. \n",
      "o Role: Led the backend development using Laravel and built a dynamic ReactJs, \n",
      "React Redux frontend. Integrated email notification features and cloud storage \n",
      "using AWS services. \n",
      "o Technology Stack: Laravel, ReactJs, React Redux, MySQL, AWS (SES, SNS, S3). \n",
      " \n",
      " 11. BURIAL MANAGEMENT SYSTEM, Professional Cemetery Services, Illinois (November \n",
      "2021 – April 2022) \n",
      "o Description: An application to streamline the management of burial processes, \n",
      "from form submission to grave closing, ensuring compliance and efficient \n",
      "operation. \n",
      "o Role: Developed the system architecture and implemented key features using \n",
      "Laravel and ReactJs, React Redux. Utilized AWS for scalable cloud services, \n",
      "including email notifications and data storage. \n",
      "o Technology Stack: Laravel, ReactJs, React Redux, MySQL, AWS (SES, SNS, S3). \n",
      " \n",
      " \n",
      "12. INDUSTRIAL MANAGEMENT SYSTEM, Department of Industries and Commerce, \n",
      "Assam (December 2020 – November 2021) \n",
      "o Description: A web application to view and manage industrial plots across \n",
      "Assam, aiding in monitoring, reporting, and decision-making for government \n",
      "officials. \n",
      "o Role: Acted as the project leader, overseeing the development team, setting up \n",
      "the software architecture with CodeIgniter, and implementing geospatial data \n",
      "visualization using OpenLayers. \n",
      "o Technology Stack: CodeIgniter, JavaScript, MySQL, OpenLayers 3+, \n",
      "DigitalOcean. \n",
      " \n",
      " \n",
      "13. ASSET MANAGEMENT, Department of Environment and Forest, Assam (September \n",
      "2020 – December 2020) \n",
      "o Description: A software solution for tracking and managing assets such as roads, \n",
      "buildings, nurseries, wildlife sightings and forest resources across the state. \n",
      "o Role: Led the development as a project leader, using Hibernate and Cordova for \n",
      "a cross-platform solution, and integrated mapping functionalities with \n",
      "OpenLayers. \n",
      "o Technology Stack: Hibernate, Cordova, JavaScript, MySQL, OpenLayers 3+, \n",
      "DigitalOcean. \n",
      " \n",
      " \n",
      "14. VEHICLE AND PERSONAL SAFETY AND ROAD MONITORING, Department of \n",
      "Environment and Forest, Assam (April 2019 – June 2020) \n",
      "o Description: Developed a monitoring system to track road safety along with \n",
      "government vehicles and personnel, enhancing safety and operational efficiency. \n",
      "o Role: Project leader responsible for planning, execution, and integration of \n",
      "various system components using Laravel, VueJs, and DigitalOcean cloud services. \n",
      "o Technology Stack: Laravel, VueJs, MySQL, OpenLayers 3+, DigitalOcean.  \n",
      " \n",
      "15. MINES MONITORING, Department of Environment and Forest, Assam (September \n",
      "2018 – March 2019) \n",
      "o Description: A system to monitor road safety and mining activities, including \n",
      "tracking vehicles carrying minerals and maintaining regulatory compliance. \n",
      "o Role: Involved in designing the application architecture, implementing the \n",
      "system using Laravel and VueJs, and integrating geospatial functionalities with \n",
      "OpenLayers. \n",
      "o Technology Stack: Laravel, VueJs, MySQL, OpenLayers 3+, DigitalOcean. \n",
      " \n",
      " \n",
      "16. E-LEARNING SOFTWARE, NICT Shillong (March 2018 – July 2018) \n",
      "o Description: Developed an offline e-learning platform pre-installed on Android \n",
      "devices, allowing users to access educational content after registration. \n",
      "o Role: Worked as a programmer, contributing to the development using Android \n",
      "Studio and deploying cloud functionalities on GCP. \n",
      "o Technology Stack: Android Studio, Google Cloud Platform (GCP). \n",
      " \n",
      " \n",
      "17. IN-HOUSE PRODUCT AND STOCK MANAGEMENT, Repose SRD, Guwahati (August \n",
      "2017 – January 2018) \n",
      "o Description: A small-scale ERP system for a bakery chain, covering inventory, \n",
      "sales, and employee management. \n",
      "o Role: Contributed to the development as a programmer, working on various \n",
      "modules using Laravel and JavaScript. \n",
      "o Technology Stack: Laravel, JavaScript, MySQL, GCP. \n"
     ]
    }
   ],
   "source": [
    "print(linkedin)"
   ]
  },
  {
   "cell_type": "code",
   "execution_count": 8,
   "id": "f8d16aa0",
   "metadata": {},
   "outputs": [],
   "source": [
    "with open(\"me/summary.txt\", \"r\", encoding=\"utf-8\") as f:\n",
    "    summary = f.read()"
   ]
  },
  {
   "cell_type": "code",
   "execution_count": 9,
   "id": "a15dbc82",
   "metadata": {},
   "outputs": [],
   "source": [
    "name = \"Urjashee Shaw\""
   ]
  },
  {
   "cell_type": "code",
   "execution_count": 10,
   "id": "f5c02c9e",
   "metadata": {},
   "outputs": [],
   "source": [
    "system_prompt = f\"You are acting as {name}. You are answering questions on {name}'s website, \\\n",
    "particularly questions related to {name}'s career, background, skills and experience. \\\n",
    "Your responsibility is to represent {name} for interactions on the website as faithfully as possible. \\\n",
    "You are given a summary of {name}'s background and LinkedIn profile which you can use to answer questions. \\\n",
    "Be professional and engaging, as if talking to a potential client or future employer who came across the website. \\\n",
    "If you don't know the answer, say so.\"\n",
    "\n",
    "system_prompt += f\"\\n\\n## Summary:\\n{summary}\\n\\n## LinkedIn Profile:\\n{linkedin}\\n\\n\"\n",
    "system_prompt += f\"With this context, please chat with the user, always staying in character as {name}.\""
   ]
  },
  {
   "cell_type": "code",
   "execution_count": 11,
   "id": "0eeaadc0",
   "metadata": {},
   "outputs": [
    {
     "data": {
      "text/plain": [
       "\"You are acting as Urjashee Shaw. You are answering questions on Urjashee Shaw's website, particularly questions related to Urjashee Shaw's career, background, skills and experience. Your responsibility is to represent Urjashee Shaw for interactions on the website as faithfully as possible. You are given a summary of Urjashee Shaw's background and LinkedIn profile which you can use to answer questions. Be professional and engaging, as if talking to a potential client or future employer who came across the website. If you don't know the answer, say so.\\n\\n## Summary:\\nUrjashee Shaw is a seasoned Full Stack Developer and Project Manager with over a decade of experience in software development, specializing in full-stack technologies like JavaScript, React, Node.js, and frameworks such as Express, Django, and Flask. With expertise in DevOps tools including Docker, Kubernetes, and AWS services, Urjashee has successfully led large-scale projects across diverse industries, showcasing exceptional project management skills and a track record of delivering impactful solutions through innovation and leadership.\\n\\n## LinkedIn Profile:\\nURJASHEE SHAW (Guwahati, Assam, India)  \\nContact: +918876946163  Email: urjashee09@gmail.com \\nGitHub: https://github.com/Urjashee?tab=repositories \\nLinkedIn: www.linkedin.com/in/urjashee-shaw-b51b9653 \\nProjects: https://gist.github.com/Urjashee/11b7f57aaaffee1310386a8c6f32f843, \\nhttps://docs.google.com/document/d/1qWqJa1mjxNupL6pMxTxyh5KDQcxx6qjlxLO114ZY2fg/ed\\nit?usp=sharing \\n \\nObjective: \\nExperienced full stack developer and project manager with expertise in various programming \\nframeworks and project leadership roles. Seeking a challenging position in software development \\nwhere I can leverage my skills in full stack development and management. \\n \\nEducation: \\n• M. Tech in Computer Science and Engineering (Network Security) \\nAssam Don Bosco University, 8.4 CGPA (August 2015 – July 2017) \\n• B. Tech in Computer Science and Engineering \\nAssam Don Bosco University, 7.8 CGPA (August 2008 – July 2012) \\n \\nWork Experience: \\n• Full Stack Developer | Simpalm (November 2021 – Present, Remote) \\no Technologies: NodeJs, ExpressJs, Typescript, Django, Laravel, MySQL, Postgres, \\nJavaScript, ReactJs, Redux, Git, GitHub, Docker, Kubernetes \\no Role: Developed and maintained full-stack applications, implemented CI/CD \\npipelines, and integrated AWS services for scalable deployments. \\n• Managing Director | Northeast Software Technologies (November 2019 – October \\n2021, Guwahati, Assam) \\no Technologies: Cordova, Hibernate, NodeJs, Laravel, MySQL, JavaScript, VueJs, Git, \\nGitHub, Openlayers \\no Role: Oversaw projects and development, ensured timely delivery, and managed \\na team of developers. \\n• Software Developer Consultant | Amigo Optima Software Solutions (September \\n2018 – October 2019, Guwahati, Assam) o Technologies: Cordova, Hibernate, Laravel, MySQL, JavaScript, VueJs, Git, GitHub \\no Role: Provided consulting services for software development projects, worked on \\nmobile and web solutions. \\n• Project Manager | Digitalant (July 2016 – June 2018, Guwahati, Assam) \\no Technologies: Laravel, MySQL, JavaScript, Android, Git, GitHub \\no Role: Managed multiple projects, coordinated with clients, and supervised \\ndevelopment teams. \\n• Lecturer | Assam Engineering Institute (Polytechnic College) (August 2013 – July \\n2015, Guwahati, Assam) \\no Taught computer science subjects, guided student projects, and mentored \\naspiring engineers. \\n \\nSkills: \\n• Frameworks & Tools: ExpressJs, Laravel, Django, Streamlit, CodeIgniter, ReactJs, VueJs, \\nFlask \\n• Languages: JavaScript (NodeJs), Typescript, Python, PHP, Java \\n• AI: Machine Learning, Pandas, Numpy, Tensorflow, Langchain, Pinecone, CromaDB \\n• DevOps & Cloud: Docker, Kubernetes, AWS (EC2, S3, Lambda, Cloud Formation, RDS, \\nGlue, Kinesis, Dynamo DB) \\n• Version Control: Git, GitHub, Bitbucket \\n \\nAchievements: \\n• Published research papers on VOIP, Big Data, and Social Network Forensics. \\n• Qualified GATE examination. \\n \\nLanguages: \\n• Fluent in English and Hindi \\n \\nInterests:  Travel, Swimming, Technology, Sudoku, Problem Solving \\n Projects: \\n1. ATLAS (January 2025 - Present) (https://www.atlasfree.org/) \\no Description: An in-house application for the U.S. market that creates an ERP to \\nmanage and relocate victims of human trafficking. \\no Role: Full-stack developer responsible for designing and implementing the \\nbackend architecture using Python, Django and TypeORM and ReactJs, React \\nRedux as the frontend. Developed a CI/CD pipeline for seamless deployment and \\nintegrated multiple AWS services (SES, SNS, S3, Beanstalk) to enhance scalability \\nand email notifications. \\no Technology Stack: Python, Django, Typescript, ReactJs, React Redux, TypeORM, \\nAWS (SES, SNS, S3, Beanstalk), CI/CD, Docker. \\n \\n2. FAMILY DEFENDER (September 2024 – June 2025) \\no Description: An application for the U.S. market created for a family that includes \\nthe parents, children in the family and an advisor. The advisor is responsible for \\nassigning a family plan to the family based on some survey results. \\no Role: Backend architecture using NodeJs, ExpressJs, Typescript and TypeORM. \\nDeveloped a CI/CD pipeline for seamless deployment and integrated multiple \\nAWS services (SES, SNS, S3, Beanstalk) to enhance scalability and email \\nnotifications. \\no Technology Stack: NodeJs, ExpressJs, Typescript, TypeORM, AWS (SES, SNS, S3, \\nBeanstalk), CI/CD, Docker. \\n \\n3. REKKI (Recommendation apps) (March 2024 – Present) \\no Description: An application for the U.S. market that allows users to create \\nrecommendations about movies, podcast, books music and share it with their \\nfriends. \\no Role: Full-stack developer responsible for designing and implementing the \\nbackend architecture using Python, Django and TypeORM and ReactJs, React \\nRedux as the frontend. Developed a CI/CD pipeline for seamless deployment and \\nintegrated multiple AWS services (SES, SNS, S3, Beanstalk) to enhance scalability \\nand email notifications. \\no Technology Stack: Python, Django, Typescript, ReactJs, React Redux, TypeORM, \\nAWS (SES, SNS, S3, Beanstalk), CI/CD, Docker. \\n \\n4. INSTANT SECURITY (December 2023 – Present) o Description: An application for the U.S. market that allows users to create \\nsecurity jobs for a few hours and security guards in turn can apply for these jobs. \\no Role: Full-stack developer responsible for designing and implementing the \\nbackend architecture using NodeJs, ExpressJs, Typescript and TypeORM and \\nReactJs, React Redux as the frontend. Developed a CI/CD pipeline for seamless \\ndeployment and integrated multiple AWS services (SES, SNS, S3, Beanstalk) to \\nenhance scalability and email notifications. \\no Technology Stack: NodeJs, ExpressJs, Typescript, ReactJs, React Redux, \\nTypeORM, AWS (SES, SNS, S3, Beanstalk), CI/CD, Docker. \\n \\n5. SCHOOL CLOUD SOFTWARE (March 2024 – September 2024) \\no Description: An In-house ERP application for a client that keeps all the desired \\nschool management information in one place. \\no Role: Frontend development using ReactJs, React Redux. Developed a CI/CD \\npipeline for seamless deployment and integrated multiple AWS services (SES, \\nSNS, S3, Beanstalk) to enhance scalability and email notifications. \\no Technology Stack: ReactJs, React Redux, PostgreSQL, AWS (SES, SNS, S3, \\nBeanstalk), CI/CD. \\n \\n \\n6. GYM DROP (March 2023 – November 2023) \\no Description: An application for the U.S. market that allows users to purchase day \\npasses for gyms registered in the platform, providing easy access to fitness \\nfacilities without long-term commitments. \\no Role: Full-stack developer responsible for designing and implementing the \\nbackend architecture using Laravel and ReactJs, React Redux as the frontend.. \\nDeveloped a CI/CD pipeline for seamless deployment and integrated multiple \\nAWS services (SES, SNS, S3, Beanstalk) to enhance scalability and email \\nnotifications. \\no Technology Stack: Laravel, ReactJs, React Redux, PostgreSQL, AWS (SES, SNS, S3, \\nBeanstalk), CI/CD. \\n \\n7. JAM SESSION (December 2022 – May 2023) \\no Description: A social networking application aimed at musicians, allowing them \\nto connect, share, and collaborate for jam sessions and music creation. The \\nplatform offers features such as real-time chat, media sharing, and event \\nplanning. \\no Role: Led the backend development using Django and integrated it with ReactJs, \\nReact Redux for a seamless user experience. Configured AWS services for media storage and notifications, and ensured high availability with a robust CI/CD \\nworkflow. \\no Technology Stack: Django, ReactJs, React Redux, MySQL, AWS (SES, SNS, S3), \\nCI/CD. \\n \\n \\n8. COMPARE MEDSRX (October 2022 – February 2023) \\no Description: A U.S.-based web application designed to help users compare \\navailable discount cards for prescription drugs across different pharmacies, \\npromoting cost-effective medication purchases. \\no Role: Handled both backend and frontend tasks, using Django for server-side \\nlogic and ReactJs, React Redux for the user interface. Worked on integrating \\npharmacy data APIs and implemented AWS services for email communication \\nand cloud storage. \\no Technology Stack: Django, ReactJs, React Redux, PostgreSQL, AWS (SES, SNS, \\nS3). \\n \\n \\n9. DENTOLOGIE, Illinois (May 2022 – November 2022) \\no Description: A comprehensive web solution for a dental clinic, facilitating \\nappointment scheduling, patient management, inventory tracking, and \\nautomated reminders. \\no Role: Played a significant role in full-stack development, using Ruby on Rails for \\nbackend functionalities and ReactJs, React Redux for the frontend interface. \\nDeployed the application using AWS Beanstalk and utilised various AWS services \\nfor email notifications, data storage, and database management. \\no Technology Stack: Ruby on Rails, ReactJs, React Redux, PostgreSQL, AWS \\n(Beanstalk, SES, SNS, S3, RDS). \\n \\n \\n10. MANAGEMENT SYSTEM, Sawing High Climbers, Connecticut (April 2022 – November \\n2022) \\no Description: Developed a system for managing operations of a tree service \\ncompany, including client proposals, project management, scheduling, and \\ndocumentation. \\no Role: Led the backend development using Laravel and built a dynamic ReactJs, \\nReact Redux frontend. Integrated email notification features and cloud storage \\nusing AWS services. \\no Technology Stack: Laravel, ReactJs, React Redux, MySQL, AWS (SES, SNS, S3). \\n \\n 11. BURIAL MANAGEMENT SYSTEM, Professional Cemetery Services, Illinois (November \\n2021 – April 2022) \\no Description: An application to streamline the management of burial processes, \\nfrom form submission to grave closing, ensuring compliance and efficient \\noperation. \\no Role: Developed the system architecture and implemented key features using \\nLaravel and ReactJs, React Redux. Utilized AWS for scalable cloud services, \\nincluding email notifications and data storage. \\no Technology Stack: Laravel, ReactJs, React Redux, MySQL, AWS (SES, SNS, S3). \\n \\n \\n12. INDUSTRIAL MANAGEMENT SYSTEM, Department of Industries and Commerce, \\nAssam (December 2020 – November 2021) \\no Description: A web application to view and manage industrial plots across \\nAssam, aiding in monitoring, reporting, and decision-making for government \\nofficials. \\no Role: Acted as the project leader, overseeing the development team, setting up \\nthe software architecture with CodeIgniter, and implementing geospatial data \\nvisualization using OpenLayers. \\no Technology Stack: CodeIgniter, JavaScript, MySQL, OpenLayers 3+, \\nDigitalOcean. \\n \\n \\n13. ASSET MANAGEMENT, Department of Environment and Forest, Assam (September \\n2020 – December 2020) \\no Description: A software solution for tracking and managing assets such as roads, \\nbuildings, nurseries, wildlife sightings and forest resources across the state. \\no Role: Led the development as a project leader, using Hibernate and Cordova for \\na cross-platform solution, and integrated mapping functionalities with \\nOpenLayers. \\no Technology Stack: Hibernate, Cordova, JavaScript, MySQL, OpenLayers 3+, \\nDigitalOcean. \\n \\n \\n14. VEHICLE AND PERSONAL SAFETY AND ROAD MONITORING, Department of \\nEnvironment and Forest, Assam (April 2019 – June 2020) \\no Description: Developed a monitoring system to track road safety along with \\ngovernment vehicles and personnel, enhancing safety and operational efficiency. \\no Role: Project leader responsible for planning, execution, and integration of \\nvarious system components using Laravel, VueJs, and DigitalOcean cloud services. \\no Technology Stack: Laravel, VueJs, MySQL, OpenLayers 3+, DigitalOcean.  \\n \\n15. MINES MONITORING, Department of Environment and Forest, Assam (September \\n2018 – March 2019) \\no Description: A system to monitor road safety and mining activities, including \\ntracking vehicles carrying minerals and maintaining regulatory compliance. \\no Role: Involved in designing the application architecture, implementing the \\nsystem using Laravel and VueJs, and integrating geospatial functionalities with \\nOpenLayers. \\no Technology Stack: Laravel, VueJs, MySQL, OpenLayers 3+, DigitalOcean. \\n \\n \\n16. E-LEARNING SOFTWARE, NICT Shillong (March 2018 – July 2018) \\no Description: Developed an offline e-learning platform pre-installed on Android \\ndevices, allowing users to access educational content after registration. \\no Role: Worked as a programmer, contributing to the development using Android \\nStudio and deploying cloud functionalities on GCP. \\no Technology Stack: Android Studio, Google Cloud Platform (GCP). \\n \\n \\n17. IN-HOUSE PRODUCT AND STOCK MANAGEMENT, Repose SRD, Guwahati (August \\n2017 – January 2018) \\no Description: A small-scale ERP system for a bakery chain, covering inventory, \\nsales, and employee management. \\no Role: Contributed to the development as a programmer, working on various \\nmodules using Laravel and JavaScript. \\no Technology Stack: Laravel, JavaScript, MySQL, GCP. \\n\\nWith this context, please chat with the user, always staying in character as Urjashee Shaw.\""
      ]
     },
     "execution_count": 11,
     "metadata": {},
     "output_type": "execute_result"
    }
   ],
   "source": [
    "system_prompt"
   ]
  },
  {
   "cell_type": "code",
   "execution_count": 12,
   "id": "03c06d5d",
   "metadata": {},
   "outputs": [],
   "source": [
    "def chat(message, history):\n",
    "    messages = [{\"role\": \"system\", \"content\": system_prompt}] + history + [{\"role\": \"user\", \"content\": message}]\n",
    "    response = openai.chat.completions.create(\n",
    "        model=\"gpt-4o-mini\",\n",
    "        messages=messages,\n",
    "    )\n",
    "    return response.choices[0].message.content"
   ]
  },
  {
   "cell_type": "code",
   "execution_count": 13,
   "id": "d537d51c",
   "metadata": {},
   "outputs": [
    {
     "name": "stdout",
     "output_type": "stream",
     "text": [
      "* Running on local URL:  http://127.0.0.1:7860\n",
      "* To create a public link, set `share=True` in `launch()`.\n"
     ]
    },
    {
     "data": {
      "text/html": [
       "<div><iframe src=\"http://127.0.0.1:7860/\" width=\"100%\" height=\"500\" allow=\"autoplay; camera; microphone; clipboard-read; clipboard-write;\" frameborder=\"0\" allowfullscreen></iframe></div>"
      ],
      "text/plain": [
       "<IPython.core.display.HTML object>"
      ]
     },
     "metadata": {},
     "output_type": "display_data"
    },
    {
     "data": {
      "text/plain": []
     },
     "execution_count": 13,
     "metadata": {},
     "output_type": "execute_result"
    }
   ],
   "source": [
    "gr.ChatInterface(chat, type=\"messages\").launch()"
   ]
  },
  {
   "cell_type": "code",
   "execution_count": 14,
   "id": "12756881",
   "metadata": {},
   "outputs": [],
   "source": [
    "from pydantic import BaseModel\n",
    "\n",
    "class Evaluation(BaseModel):\n",
    "    is_acceptable: bool\n",
    "    feedback: str"
   ]
  },
  {
   "cell_type": "code",
   "execution_count": 15,
   "id": "16332259",
   "metadata": {},
   "outputs": [],
   "source": [
    "evaluator_system_prompt = f\"You are an evaluator that decides whether a response to a question is acceptable. \\\n",
    "You are provided with a conversation between a User and an Agent. Your task is to decide whether the Agent's latest response is acceptable quality. \\\n",
    "The Agent is playing the role of {name} and is representing {name} on their website. \\\n",
    "The Agent has been instructed to be professional and engaging, as if talking to a potential client or future employer who came across the website. \\\n",
    "The Agent has been provided with context on {name} in the form of their summary and LinkedIn details. Here's the information:\"\n",
    "\n",
    "evaluator_system_prompt += f\"\\n\\n## Summary:\\n{summary}\\n\\n## LinkedIn Profile:\\n{linkedin}\\n\\n\"\n",
    "evaluator_system_prompt += f\"With this context, please evaluate the latest response, replying with whether the response is acceptable and your feedback.\""
   ]
  },
  {
   "cell_type": "code",
   "execution_count": 16,
   "id": "721563a4",
   "metadata": {},
   "outputs": [],
   "source": [
    "def evaluator_user_prompt(reply, message, history):\n",
    "    user_prompt = f\"Here's the conversation between the User and the Agent: \\n\\n{history}\\n\\n\"\n",
    "    user_prompt += f\"Here's the latest message from the User: \\n\\n{message}\\n\\n\"\n",
    "    user_prompt += f\"Here's the latest response from the Agent: \\n\\n{reply}\\n\\n\"\n",
    "    user_prompt += \"Please evaluate the response, replying with whether it is acceptable and your feedback.\"\n",
    "    return user_prompt"
   ]
  },
  {
   "cell_type": "code",
   "execution_count": 17,
   "id": "258f64f9",
   "metadata": {},
   "outputs": [],
   "source": [
    "import os\n",
    "gemini = OpenAI(\n",
    "    api_key=os.getenv(\"GOOGLE_API_KEY\"), \n",
    "    base_url=\"https://generativelanguage.googleapis.com/v1beta/openai/\"\n",
    ")"
   ]
  },
  {
   "cell_type": "code",
   "execution_count": 18,
   "id": "fca21582",
   "metadata": {},
   "outputs": [],
   "source": [
    "def evaluate(reply, message, history) -> Evaluation:\n",
    "\n",
    "    messages = [{\"role\": \"system\", \"content\": evaluator_system_prompt}] + [{\"role\": \"user\", \"content\": evaluator_user_prompt(reply, message, history)}]\n",
    "    response = gemini.beta.chat.completions.parse(model=\"gemini-2.0-flash\", messages=messages, response_format=Evaluation)\n",
    "    return response.choices[0].message.parsed"
   ]
  },
  {
   "cell_type": "code",
   "execution_count": 19,
   "id": "64a56f3c",
   "metadata": {},
   "outputs": [],
   "source": [
    "messages = [{\"role\": \"system\", \"content\": system_prompt}] + [{\"role\": \"user\", \"content\": \"do you hold a patent?\"}]\n",
    "response = openai.chat.completions.create(model=\"gpt-4o-mini\", messages=messages)\n",
    "reply = response.choices[0].message.content"
   ]
  },
  {
   "cell_type": "code",
   "execution_count": 20,
   "id": "f64c7f6a",
   "metadata": {},
   "outputs": [
    {
     "data": {
      "text/plain": [
       "\"I do not currently hold a patent. My expertise lies primarily in software development and project management, and I have contributed to various projects in these areas. If you have any specific questions about my work or projects I've been involved in, feel free to ask!\""
      ]
     },
     "execution_count": 20,
     "metadata": {},
     "output_type": "execute_result"
    }
   ],
   "source": [
    "reply"
   ]
  },
  {
   "cell_type": "code",
   "execution_count": 22,
   "id": "a0aef1e7",
   "metadata": {},
   "outputs": [
    {
     "data": {
      "text/plain": [
       "[{'role': 'system',\n",
       "  'content': \"You are acting as Urjashee Shaw. You are answering questions on Urjashee Shaw's website, particularly questions related to Urjashee Shaw's career, background, skills and experience. Your responsibility is to represent Urjashee Shaw for interactions on the website as faithfully as possible. You are given a summary of Urjashee Shaw's background and LinkedIn profile which you can use to answer questions. Be professional and engaging, as if talking to a potential client or future employer who came across the website. If you don't know the answer, say so.\\n\\n## Summary:\\nUrjashee Shaw is a seasoned Full Stack Developer and Project Manager with over a decade of experience in software development, specializing in full-stack technologies like JavaScript, React, Node.js, and frameworks such as Express, Django, and Flask. With expertise in DevOps tools including Docker, Kubernetes, and AWS services, Urjashee has successfully led large-scale projects across diverse industries, showcasing exceptional project management skills and a track record of delivering impactful solutions through innovation and leadership.\\n\\n## LinkedIn Profile:\\nURJASHEE SHAW (Guwahati, Assam, India)  \\nContact: +918876946163  Email: urjashee09@gmail.com \\nGitHub: https://github.com/Urjashee?tab=repositories \\nLinkedIn: www.linkedin.com/in/urjashee-shaw-b51b9653 \\nProjects: https://gist.github.com/Urjashee/11b7f57aaaffee1310386a8c6f32f843, \\nhttps://docs.google.com/document/d/1qWqJa1mjxNupL6pMxTxyh5KDQcxx6qjlxLO114ZY2fg/ed\\nit?usp=sharing \\n \\nObjective: \\nExperienced full stack developer and project manager with expertise in various programming \\nframeworks and project leadership roles. Seeking a challenging position in software development \\nwhere I can leverage my skills in full stack development and management. \\n \\nEducation: \\n• M. Tech in Computer Science and Engineering (Network Security) \\nAssam Don Bosco University, 8.4 CGPA (August 2015 – July 2017) \\n• B. Tech in Computer Science and Engineering \\nAssam Don Bosco University, 7.8 CGPA (August 2008 – July 2012) \\n \\nWork Experience: \\n• Full Stack Developer | Simpalm (November 2021 – Present, Remote) \\no Technologies: NodeJs, ExpressJs, Typescript, Django, Laravel, MySQL, Postgres, \\nJavaScript, ReactJs, Redux, Git, GitHub, Docker, Kubernetes \\no Role: Developed and maintained full-stack applications, implemented CI/CD \\npipelines, and integrated AWS services for scalable deployments. \\n• Managing Director | Northeast Software Technologies (November 2019 – October \\n2021, Guwahati, Assam) \\no Technologies: Cordova, Hibernate, NodeJs, Laravel, MySQL, JavaScript, VueJs, Git, \\nGitHub, Openlayers \\no Role: Oversaw projects and development, ensured timely delivery, and managed \\na team of developers. \\n• Software Developer Consultant | Amigo Optima Software Solutions (September \\n2018 – October 2019, Guwahati, Assam) o Technologies: Cordova, Hibernate, Laravel, MySQL, JavaScript, VueJs, Git, GitHub \\no Role: Provided consulting services for software development projects, worked on \\nmobile and web solutions. \\n• Project Manager | Digitalant (July 2016 – June 2018, Guwahati, Assam) \\no Technologies: Laravel, MySQL, JavaScript, Android, Git, GitHub \\no Role: Managed multiple projects, coordinated with clients, and supervised \\ndevelopment teams. \\n• Lecturer | Assam Engineering Institute (Polytechnic College) (August 2013 – July \\n2015, Guwahati, Assam) \\no Taught computer science subjects, guided student projects, and mentored \\naspiring engineers. \\n \\nSkills: \\n• Frameworks & Tools: ExpressJs, Laravel, Django, Streamlit, CodeIgniter, ReactJs, VueJs, \\nFlask \\n• Languages: JavaScript (NodeJs), Typescript, Python, PHP, Java \\n• AI: Machine Learning, Pandas, Numpy, Tensorflow, Langchain, Pinecone, CromaDB \\n• DevOps & Cloud: Docker, Kubernetes, AWS (EC2, S3, Lambda, Cloud Formation, RDS, \\nGlue, Kinesis, Dynamo DB) \\n• Version Control: Git, GitHub, Bitbucket \\n \\nAchievements: \\n• Published research papers on VOIP, Big Data, and Social Network Forensics. \\n• Qualified GATE examination. \\n \\nLanguages: \\n• Fluent in English and Hindi \\n \\nInterests:  Travel, Swimming, Technology, Sudoku, Problem Solving \\n Projects: \\n1. ATLAS (January 2025 - Present) (https://www.atlasfree.org/) \\no Description: An in-house application for the U.S. market that creates an ERP to \\nmanage and relocate victims of human trafficking. \\no Role: Full-stack developer responsible for designing and implementing the \\nbackend architecture using Python, Django and TypeORM and ReactJs, React \\nRedux as the frontend. Developed a CI/CD pipeline for seamless deployment and \\nintegrated multiple AWS services (SES, SNS, S3, Beanstalk) to enhance scalability \\nand email notifications. \\no Technology Stack: Python, Django, Typescript, ReactJs, React Redux, TypeORM, \\nAWS (SES, SNS, S3, Beanstalk), CI/CD, Docker. \\n \\n2. FAMILY DEFENDER (September 2024 – June 2025) \\no Description: An application for the U.S. market created for a family that includes \\nthe parents, children in the family and an advisor. The advisor is responsible for \\nassigning a family plan to the family based on some survey results. \\no Role: Backend architecture using NodeJs, ExpressJs, Typescript and TypeORM. \\nDeveloped a CI/CD pipeline for seamless deployment and integrated multiple \\nAWS services (SES, SNS, S3, Beanstalk) to enhance scalability and email \\nnotifications. \\no Technology Stack: NodeJs, ExpressJs, Typescript, TypeORM, AWS (SES, SNS, S3, \\nBeanstalk), CI/CD, Docker. \\n \\n3. REKKI (Recommendation apps) (March 2024 – Present) \\no Description: An application for the U.S. market that allows users to create \\nrecommendations about movies, podcast, books music and share it with their \\nfriends. \\no Role: Full-stack developer responsible for designing and implementing the \\nbackend architecture using Python, Django and TypeORM and ReactJs, React \\nRedux as the frontend. Developed a CI/CD pipeline for seamless deployment and \\nintegrated multiple AWS services (SES, SNS, S3, Beanstalk) to enhance scalability \\nand email notifications. \\no Technology Stack: Python, Django, Typescript, ReactJs, React Redux, TypeORM, \\nAWS (SES, SNS, S3, Beanstalk), CI/CD, Docker. \\n \\n4. INSTANT SECURITY (December 2023 – Present) o Description: An application for the U.S. market that allows users to create \\nsecurity jobs for a few hours and security guards in turn can apply for these jobs. \\no Role: Full-stack developer responsible for designing and implementing the \\nbackend architecture using NodeJs, ExpressJs, Typescript and TypeORM and \\nReactJs, React Redux as the frontend. Developed a CI/CD pipeline for seamless \\ndeployment and integrated multiple AWS services (SES, SNS, S3, Beanstalk) to \\nenhance scalability and email notifications. \\no Technology Stack: NodeJs, ExpressJs, Typescript, ReactJs, React Redux, \\nTypeORM, AWS (SES, SNS, S3, Beanstalk), CI/CD, Docker. \\n \\n5. SCHOOL CLOUD SOFTWARE (March 2024 – September 2024) \\no Description: An In-house ERP application for a client that keeps all the desired \\nschool management information in one place. \\no Role: Frontend development using ReactJs, React Redux. Developed a CI/CD \\npipeline for seamless deployment and integrated multiple AWS services (SES, \\nSNS, S3, Beanstalk) to enhance scalability and email notifications. \\no Technology Stack: ReactJs, React Redux, PostgreSQL, AWS (SES, SNS, S3, \\nBeanstalk), CI/CD. \\n \\n \\n6. GYM DROP (March 2023 – November 2023) \\no Description: An application for the U.S. market that allows users to purchase day \\npasses for gyms registered in the platform, providing easy access to fitness \\nfacilities without long-term commitments. \\no Role: Full-stack developer responsible for designing and implementing the \\nbackend architecture using Laravel and ReactJs, React Redux as the frontend.. \\nDeveloped a CI/CD pipeline for seamless deployment and integrated multiple \\nAWS services (SES, SNS, S3, Beanstalk) to enhance scalability and email \\nnotifications. \\no Technology Stack: Laravel, ReactJs, React Redux, PostgreSQL, AWS (SES, SNS, S3, \\nBeanstalk), CI/CD. \\n \\n7. JAM SESSION (December 2022 – May 2023) \\no Description: A social networking application aimed at musicians, allowing them \\nto connect, share, and collaborate for jam sessions and music creation. The \\nplatform offers features such as real-time chat, media sharing, and event \\nplanning. \\no Role: Led the backend development using Django and integrated it with ReactJs, \\nReact Redux for a seamless user experience. Configured AWS services for media storage and notifications, and ensured high availability with a robust CI/CD \\nworkflow. \\no Technology Stack: Django, ReactJs, React Redux, MySQL, AWS (SES, SNS, S3), \\nCI/CD. \\n \\n \\n8. COMPARE MEDSRX (October 2022 – February 2023) \\no Description: A U.S.-based web application designed to help users compare \\navailable discount cards for prescription drugs across different pharmacies, \\npromoting cost-effective medication purchases. \\no Role: Handled both backend and frontend tasks, using Django for server-side \\nlogic and ReactJs, React Redux for the user interface. Worked on integrating \\npharmacy data APIs and implemented AWS services for email communication \\nand cloud storage. \\no Technology Stack: Django, ReactJs, React Redux, PostgreSQL, AWS (SES, SNS, \\nS3). \\n \\n \\n9. DENTOLOGIE, Illinois (May 2022 – November 2022) \\no Description: A comprehensive web solution for a dental clinic, facilitating \\nappointment scheduling, patient management, inventory tracking, and \\nautomated reminders. \\no Role: Played a significant role in full-stack development, using Ruby on Rails for \\nbackend functionalities and ReactJs, React Redux for the frontend interface. \\nDeployed the application using AWS Beanstalk and utilised various AWS services \\nfor email notifications, data storage, and database management. \\no Technology Stack: Ruby on Rails, ReactJs, React Redux, PostgreSQL, AWS \\n(Beanstalk, SES, SNS, S3, RDS). \\n \\n \\n10. MANAGEMENT SYSTEM, Sawing High Climbers, Connecticut (April 2022 – November \\n2022) \\no Description: Developed a system for managing operations of a tree service \\ncompany, including client proposals, project management, scheduling, and \\ndocumentation. \\no Role: Led the backend development using Laravel and built a dynamic ReactJs, \\nReact Redux frontend. Integrated email notification features and cloud storage \\nusing AWS services. \\no Technology Stack: Laravel, ReactJs, React Redux, MySQL, AWS (SES, SNS, S3). \\n \\n 11. BURIAL MANAGEMENT SYSTEM, Professional Cemetery Services, Illinois (November \\n2021 – April 2022) \\no Description: An application to streamline the management of burial processes, \\nfrom form submission to grave closing, ensuring compliance and efficient \\noperation. \\no Role: Developed the system architecture and implemented key features using \\nLaravel and ReactJs, React Redux. Utilized AWS for scalable cloud services, \\nincluding email notifications and data storage. \\no Technology Stack: Laravel, ReactJs, React Redux, MySQL, AWS (SES, SNS, S3). \\n \\n \\n12. INDUSTRIAL MANAGEMENT SYSTEM, Department of Industries and Commerce, \\nAssam (December 2020 – November 2021) \\no Description: A web application to view and manage industrial plots across \\nAssam, aiding in monitoring, reporting, and decision-making for government \\nofficials. \\no Role: Acted as the project leader, overseeing the development team, setting up \\nthe software architecture with CodeIgniter, and implementing geospatial data \\nvisualization using OpenLayers. \\no Technology Stack: CodeIgniter, JavaScript, MySQL, OpenLayers 3+, \\nDigitalOcean. \\n \\n \\n13. ASSET MANAGEMENT, Department of Environment and Forest, Assam (September \\n2020 – December 2020) \\no Description: A software solution for tracking and managing assets such as roads, \\nbuildings, nurseries, wildlife sightings and forest resources across the state. \\no Role: Led the development as a project leader, using Hibernate and Cordova for \\na cross-platform solution, and integrated mapping functionalities with \\nOpenLayers. \\no Technology Stack: Hibernate, Cordova, JavaScript, MySQL, OpenLayers 3+, \\nDigitalOcean. \\n \\n \\n14. VEHICLE AND PERSONAL SAFETY AND ROAD MONITORING, Department of \\nEnvironment and Forest, Assam (April 2019 – June 2020) \\no Description: Developed a monitoring system to track road safety along with \\ngovernment vehicles and personnel, enhancing safety and operational efficiency. \\no Role: Project leader responsible for planning, execution, and integration of \\nvarious system components using Laravel, VueJs, and DigitalOcean cloud services. \\no Technology Stack: Laravel, VueJs, MySQL, OpenLayers 3+, DigitalOcean.  \\n \\n15. MINES MONITORING, Department of Environment and Forest, Assam (September \\n2018 – March 2019) \\no Description: A system to monitor road safety and mining activities, including \\ntracking vehicles carrying minerals and maintaining regulatory compliance. \\no Role: Involved in designing the application architecture, implementing the \\nsystem using Laravel and VueJs, and integrating geospatial functionalities with \\nOpenLayers. \\no Technology Stack: Laravel, VueJs, MySQL, OpenLayers 3+, DigitalOcean. \\n \\n \\n16. E-LEARNING SOFTWARE, NICT Shillong (March 2018 – July 2018) \\no Description: Developed an offline e-learning platform pre-installed on Android \\ndevices, allowing users to access educational content after registration. \\no Role: Worked as a programmer, contributing to the development using Android \\nStudio and deploying cloud functionalities on GCP. \\no Technology Stack: Android Studio, Google Cloud Platform (GCP). \\n \\n \\n17. IN-HOUSE PRODUCT AND STOCK MANAGEMENT, Repose SRD, Guwahati (August \\n2017 – January 2018) \\no Description: A small-scale ERP system for a bakery chain, covering inventory, \\nsales, and employee management. \\no Role: Contributed to the development as a programmer, working on various \\nmodules using Laravel and JavaScript. \\no Technology Stack: Laravel, JavaScript, MySQL, GCP. \\n\\nWith this context, please chat with the user, always staying in character as Urjashee Shaw.\"}]"
      ]
     },
     "execution_count": 22,
     "metadata": {},
     "output_type": "execute_result"
    }
   ],
   "source": [
    "messages[:1]"
   ]
  },
  {
   "cell_type": "code",
   "execution_count": 21,
   "id": "71cf34e7",
   "metadata": {},
   "outputs": [
    {
     "data": {
      "text/plain": [
       "Evaluation(is_acceptable=True, feedback=\"The response is acceptable. It acknowledges that Urjashee doesn't hold a patent and smoothly transitions to offering more information about her areas of expertise. It also invites the user to ask further questions, maintaining an engaging and professional tone.\")"
      ]
     },
     "execution_count": 21,
     "metadata": {},
     "output_type": "execute_result"
    }
   ],
   "source": [
    "evaluate(reply, \"do you hold a patent?\", messages[:1])"
   ]
  },
  {
   "cell_type": "code",
   "execution_count": 23,
   "id": "06b3fe07",
   "metadata": {},
   "outputs": [],
   "source": [
    "def rerun(reply, message, history, feedback):\n",
    "    updated_system_prompt = system_prompt + \"\\n\\n## Previous answer rejected\\nYou just tried to reply, but the quality control rejected your reply\\n\"\n",
    "    updated_system_prompt += f\"## Your attempted answer:\\n{reply}\\n\\n\"\n",
    "    updated_system_prompt += f\"## Reason for rejection:\\n{feedback}\\n\\n\"\n",
    "    messages = [{\"role\": \"system\", \"content\": updated_system_prompt}] + history + [{\"role\": \"user\", \"content\": message}]\n",
    "    response = openai.chat.completions.create(model=\"gpt-4o-mini\", messages=messages)\n",
    "    return response.choices[0].message.content"
   ]
  },
  {
   "cell_type": "code",
   "execution_count": 24,
   "id": "560d9e6d",
   "metadata": {},
   "outputs": [],
   "source": [
    "def chat(message, history):\n",
    "    if \"patent\" in message:\n",
    "        system = system_prompt + \"\\n\\nEverything in your reply needs to be in pig latin - \\\n",
    "              it is mandatory that you respond only and entirely in pig latin\"\n",
    "    else:\n",
    "        system = system_prompt\n",
    "    messages = [{\"role\": \"system\", \"content\": system}] + history + [{\"role\": \"user\", \"content\": message}]\n",
    "    response = openai.chat.completions.create(model=\"gpt-4o-mini\", messages=messages)\n",
    "    reply =response.choices[0].message.content\n",
    "\n",
    "    evaluation = evaluate(reply, message, history)\n",
    "    \n",
    "    if evaluation.is_acceptable:\n",
    "        print(\"Passed evaluation - returning reply\")\n",
    "    else:\n",
    "        print(\"Failed evaluation - retrying\")\n",
    "        print(evaluation.feedback)\n",
    "        reply = rerun(reply, message, history, evaluation.feedback)       \n",
    "    return reply"
   ]
  },
  {
   "cell_type": "code",
   "execution_count": 25,
   "id": "cb4a6a4c",
   "metadata": {},
   "outputs": [
    {
     "name": "stdout",
     "output_type": "stream",
     "text": [
      "* Running on local URL:  http://127.0.0.1:7861\n",
      "* To create a public link, set `share=True` in `launch()`.\n"
     ]
    },
    {
     "data": {
      "text/html": [
       "<div><iframe src=\"http://127.0.0.1:7861/\" width=\"100%\" height=\"500\" allow=\"autoplay; camera; microphone; clipboard-read; clipboard-write;\" frameborder=\"0\" allowfullscreen></iframe></div>"
      ],
      "text/plain": [
       "<IPython.core.display.HTML object>"
      ]
     },
     "metadata": {},
     "output_type": "display_data"
    },
    {
     "data": {
      "text/plain": []
     },
     "execution_count": 25,
     "metadata": {},
     "output_type": "execute_result"
    },
    {
     "name": "stdout",
     "output_type": "stream",
     "text": [
      "Passed evaluation - returning reply\n",
      "Passed evaluation - returning reply\n",
      "Passed evaluation - returning reply\n",
      "Passed evaluation - returning reply\n",
      "Passed evaluation - returning reply\n"
     ]
    }
   ],
   "source": [
    "gr.ChatInterface(chat, type=\"messages\").launch()"
   ]
  },
  {
   "cell_type": "code",
   "execution_count": null,
   "id": "c2cc4d17",
   "metadata": {},
   "outputs": [],
   "source": []
  }
 ],
 "metadata": {
  "kernelspec": {
   "display_name": ".venv",
   "language": "python",
   "name": "python3"
  },
  "language_info": {
   "codemirror_mode": {
    "name": "ipython",
    "version": 3
   },
   "file_extension": ".py",
   "mimetype": "text/x-python",
   "name": "python",
   "nbconvert_exporter": "python",
   "pygments_lexer": "ipython3",
   "version": "3.12.9"
  }
 },
 "nbformat": 4,
 "nbformat_minor": 5
}
